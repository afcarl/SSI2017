{
 "cells": [
  {
   "cell_type": "markdown",
   "metadata": {
    "slideshow": {
     "slide_type": "slide"
    }
   },
   "source": [
    "# Course overview\n",
    "* What are we doing here?\n",
    "* If you're not here for Intro to Data Science in Python, you're in the wrong place!"
   ]
  },
  {
   "cell_type": "markdown",
   "metadata": {
    "slideshow": {
     "slide_type": "subslide"
    }
   },
   "source": [
    "## Course objectives\n",
    "The goal of this course is to provide a high-level introduction to:\n",
    "* The Python language and the scientific Python stack\n",
    "* Core elements of a typical data science pipeline"
   ]
  },
  {
   "cell_type": "markdown",
   "metadata": {
    "slideshow": {
     "slide_type": "subslide"
    }
   },
   "source": [
    "## Who is this course for?\n",
    "* The ideal participant:\n",
    "    * Has prior programming experience in other languages (e.g., R, Matlab, etc.)\n",
    "    * Is familiar with basic statistics (descriptives, probability, regression, etc.)\n",
    "    * Analyzes data on a regular basis\n",
    "    * Is interested in learning how to analyze data more effectively in Python\n",
    "* Don't worry if you're not the ideal participant!\n",
    "    * But you may have to do some extra work to catch up"
   ]
  },
  {
   "cell_type": "markdown",
   "metadata": {
    "slideshow": {
     "slide_type": "subslide"
    }
   },
   "source": [
    "## What this course will and won't do\n",
    "* It will give you a basic understanding of the Python data science ecosystem\n",
    "* It will help you figure out which resources to seek out next\n",
    "* It won't turn you into either a data scientist or a Python developer\n",
    "    * Programming and data science are hard!"
   ]
  },
  {
   "cell_type": "markdown",
   "metadata": {
    "slideshow": {
     "slide_type": "subslide"
    }
   },
   "source": [
    "## Who are we?\n",
    "* A  bit about me\n",
    "* A bit about you"
   ]
  },
  {
   "cell_type": "markdown",
   "metadata": {
    "slideshow": {
     "slide_type": "subslide"
    }
   },
   "source": [
    "## Structure of the course\n",
    "The course is structured loosely around different phases of a typical data science project:\n",
    "* Day 1: Setting up a data science environment\n",
    "* Day 2: Importing and preprocessing the data\n",
    "* Day 3: Describing, visualizing, and analyzing the data\n",
    "* Day 4: Machine learning/predictive modeling"
   ]
  },
  {
   "cell_type": "markdown",
   "metadata": {
    "slideshow": {
     "slide_type": "subslide"
    }
   },
   "source": [
    "## Getting the most out of the course\n",
    "* You'll get more out of the course if you interact with the code\n",
    "* To run the Jupyter notebooks, you'll need the following:\n",
    "    * Python\n",
    "    * The core Python scientific computing stack (Numpy, SciPy, pandas, matplotlib)\n",
    "    * Various additional packages we'll install as we go\n",
    "        * scikit-learn\n",
    "        * seaborn\n",
    "        * requests\n",
    "        * beautifulsoup4\n",
    "        * etc..."
   ]
  },
  {
   "cell_type": "markdown",
   "metadata": {
    "slideshow": {
     "slide_type": "subslide"
    }
   },
   "source": [
    "## Good news...\n",
    "\n",
    "Virtually all of the packages we'll cover are included in the base Anaconda distribution, available for all platforms.\n",
    "\n",
    "Additional packages can almost always be installed via conda or pip:\n",
    "\n",
    "> conda install [package]\n",
    "\n",
    "or\n",
    "\n",
    "> pip install [package]"
   ]
  },
  {
   "cell_type": "markdown",
   "metadata": {
    "slideshow": {
     "slide_type": "slide"
    }
   },
   "source": [
    "# Overview of Day 1\n",
    "* Course overview\n",
    "* What is data science?\n",
    "* The Python language\n",
    "* Why do data science in Python?\n",
    "* Comparison with other common languages\n",
    "* The scientific Python ecosystem\n",
    "* The Jupyter notebook\n",
    "* Best practices for data science"
   ]
  },
  {
   "cell_type": "markdown",
   "metadata": {
    "slideshow": {
     "slide_type": "slide"
    }
   },
   "source": [
    "# What is data science?"
   ]
  },
  {
   "cell_type": "markdown",
   "metadata": {
    "slideshow": {
     "slide_type": "subslide"
    }
   },
   "source": [
    "<div width=\"600px\">\n",
    "<img src=\"images/data_science_venn.png\" width=\"500px\" style=\"margin-bottom: 10px;\">\n",
    "<a href=\"http://drewconway.com/zia/2013/3/26/the-data-science-venn-diagram\" style=\"font-size: 14px;\">http://drewconway.com/zia/2013/3/26/the-data-science-venn-diagram</a>\n",
    "</div>"
   ]
  },
  {
   "cell_type": "markdown",
   "metadata": {
    "slideshow": {
     "slide_type": "subslide"
    }
   },
   "source": [
    "### General themes\n",
    "* Mathematical/statistical sophistication (contrast with data analyst, software developer)\n",
    "* Solid programming ability: can build automated data-processing pipelines\n",
    "* Extracts coherent stories from large amounts of data"
   ]
  },
  {
   "cell_type": "markdown",
   "metadata": {
    "slideshow": {
     "slide_type": "subslide"
    }
   },
   "source": [
    "### Skills\n",
    "The skill set people associate with data science varies wildly, and can include:\n",
    "* Statistics\n",
    "* Data munging\n",
    "* Machine learning\n",
    "* Visualization\n",
    "* Expertise in Python, R, or similar\n",
    "* SQL\n",
    "* Distributed computing\n",
    "* Optimization\n",
    "* Etc. etc..."
   ]
  },
  {
   "cell_type": "markdown",
   "metadata": {
    "slideshow": {
     "slide_type": "subslide"
    }
   },
   "source": [
    "<img src=\"images/josh_wills_tweet.png\" width=\"700px\">"
   ]
  },
  {
   "cell_type": "markdown",
   "metadata": {
    "collapsed": true,
    "slideshow": {
     "slide_type": "slide"
    }
   },
   "source": [
    "# The Python language\n",
    "\n",
    "Python is a very widely used, very flexible, high-level, general-purpose, dynamic programming language"
   ]
  },
  {
   "cell_type": "markdown",
   "metadata": {
    "slideshow": {
     "slide_type": "subslide"
    }
   },
   "source": [
    "### High-level\n",
    "Python features a high level of abstraction\n",
    "* Many operations that are explicit in lower-level languages (e.g., C/C++) are implicit in Python\n",
    "* E.g., memory allocation, garbage collection, etc.\n",
    "* Python lets you write code faster"
   ]
  },
  {
   "cell_type": "markdown",
   "metadata": {
    "slideshow": {
     "slide_type": "subslide"
    }
   },
   "source": [
    "#### File reading in Java\n",
    "```java\n",
    "import java.io.BufferedReader;\n",
    "import java.io.FileReader;\n",
    "import java.io.IOException;\n",
    " \n",
    "public class ReadFile {\n",
    "    public static void main(String[] args) throws IOException{\n",
    "        String fileContents = readEntireFile(\"./foo.txt\");\n",
    "    }\n",
    " \n",
    "    private static String readEntireFile(String filename) throws IOException {\n",
    "        FileReader in = new FileReader(filename);\n",
    "        StringBuilder contents = new StringBuilder();\n",
    "        char[] buffer = new char[4096];\n",
    "        int read = 0;\n",
    "        do {\n",
    "            contents.append(buffer, 0, read);\n",
    "            read = in.read(buffer);\n",
    "        } while (read >= 0);\n",
    "        return contents.toString();\n",
    "    }\n",
    "}\n",
    "```"
   ]
  },
  {
   "cell_type": "markdown",
   "metadata": {
    "slideshow": {
     "slide_type": "subslide"
    }
   },
   "source": [
    "#### File-reading in Python\n",
    "```python\n",
    "open(filename).read()\n",
    "```"
   ]
  },
  {
   "cell_type": "markdown",
   "metadata": {
    "slideshow": {
     "slide_type": "subslide"
    }
   },
   "source": [
    "### General-purpose\n",
    "You can do almost everything in Python\n",
    "* Comprehensive standard library\n",
    "* Enormous ecosystem of third-party packages\n",
    "* Widely used in many areas of software development (web, dev-ops, data science, etc.)"
   ]
  },
  {
   "cell_type": "markdown",
   "metadata": {
    "slideshow": {
     "slide_type": "subslide"
    }
   },
   "source": [
    "### Dynamic\n",
    "Code is interpreted at run-time\n",
    "* No compilation process*; code is read line-by-line when executed\n",
    "* Eliminates delays between development and execution\n",
    "* The downside: poorer performance compared to compiled languages"
   ]
  },
  {
   "cell_type": "markdown",
   "metadata": {
    "collapsed": true,
    "slideshow": {
     "slide_type": "subslide"
    }
   },
   "source": [
    "## Other important language features\n",
    "* Portable (interpreters available for every major operating system)\n",
    "* Supports multiple programming paradigms\n",
    "    * Object-oriented and procedural (including functional)\n",
    "* Emphasizes explicit, readable code (the \"Pythonic\" way)\n",
    "    * [Style conventions](https://www.python.org/dev/peps/pep-0008/) are taken seriously (http://docs.python-guide.org/en/latest/writing/style/)"
   ]
  },
  {
   "cell_type": "markdown",
   "metadata": {
    "slideshow": {
     "slide_type": "subslide"
    }
   },
   "source": [
    "## Other important language features\n",
    "* Dynamic (\"duck\") typing\n",
    "    * You don't have to declare a variable's type before assignment\n",
    "    * Python assumes objects will behave the way you expect them to\n",
    "        * If you ask an object to quack, Python won't first check to make sure it's a duck"
   ]
  },
  {
   "cell_type": "markdown",
   "metadata": {
    "slideshow": {
     "slide_type": "subslide"
    }
   },
   "source": [
    "### Will it quack?"
   ]
  },
  {
   "cell_type": "code",
   "execution_count": 10,
   "metadata": {
    "collapsed": false,
    "slideshow": {
     "slide_type": "fragment"
    }
   },
   "outputs": [
    {
     "data": {
      "text/plain": [
       "28"
      ]
     },
     "execution_count": 10,
     "metadata": {},
     "output_type": "execute_result"
    }
   ],
   "source": [
    "# a as an integer\n",
    "a = 14\n",
    "a * 2"
   ]
  },
  {
   "cell_type": "code",
   "execution_count": 1,
   "metadata": {
    "collapsed": false,
    "slideshow": {
     "slide_type": "fragment"
    }
   },
   "outputs": [
    {
     "data": {
      "text/plain": [
       "'A is for AppleA is for Apple'"
      ]
     },
     "execution_count": 1,
     "metadata": {},
     "output_type": "execute_result"
    }
   ],
   "source": [
    "# a as a string\n",
    "a = \"A is for Apple\"\n",
    "a * 2"
   ]
  },
  {
   "cell_type": "code",
   "execution_count": 2,
   "metadata": {
    "collapsed": false,
    "slideshow": {
     "slide_type": "fragment"
    }
   },
   "outputs": [
    {
     "data": {
      "text/plain": [
       "[1, 2, 3, 1, 2, 3]"
      ]
     },
     "execution_count": 2,
     "metadata": {},
     "output_type": "execute_result"
    }
   ],
   "source": [
    "# a as a list\n",
    "a = [1, 2, 3]\n",
    "a * 2  "
   ]
  },
  {
   "cell_type": "code",
   "execution_count": 40,
   "metadata": {
    "collapsed": false,
    "slideshow": {
     "slide_type": "fragment"
    }
   },
   "outputs": [
    {
     "name": "stdout",
     "output_type": "stream",
     "text": [
      "The current datetime is 2017-05-21 19:37:31.105815\n"
     ]
    }
   ],
   "source": [
    "# a as a datetime\n",
    "\n",
    "# We need to import a module from the standard library\n",
    "# into the current namespace.\n",
    "import datetime\n",
    "a = datetime.datetime.now()\n",
    "print(\"The current datetime is %s\" % a)"
   ]
  },
  {
   "cell_type": "code",
   "execution_count": 41,
   "metadata": {
    "collapsed": false,
    "slideshow": {
     "slide_type": "fragment"
    }
   },
   "outputs": [
    {
     "ename": "TypeError",
     "evalue": "unsupported operand type(s) for *: 'datetime.datetime' and 'int'",
     "output_type": "error",
     "traceback": [
      "\u001b[0;31m---------------------------------------------------------------------------\u001b[0m",
      "\u001b[0;31mTypeError\u001b[0m                                 Traceback (most recent call last)",
      "\u001b[0;32m<ipython-input-41-ade662a434b7>\u001b[0m in \u001b[0;36m<module>\u001b[0;34m()\u001b[0m\n\u001b[1;32m      1\u001b[0m \u001b[0;31m# This should fail!\u001b[0m\u001b[0;34m\u001b[0m\u001b[0;34m\u001b[0m\u001b[0m\n\u001b[0;32m----> 2\u001b[0;31m \u001b[0ma\u001b[0m \u001b[0;34m*\u001b[0m \u001b[0;36m2\u001b[0m\u001b[0;34m\u001b[0m\u001b[0m\n\u001b[0m",
      "\u001b[0;31mTypeError\u001b[0m: unsupported operand type(s) for *: 'datetime.datetime' and 'int'"
     ]
    }
   ],
   "source": [
    "# This should fail!\n",
    "a * 2"
   ]
  },
  {
   "cell_type": "code",
   "execution_count": 5,
   "metadata": {
    "collapsed": false,
    "slideshow": {
     "slide_type": "subslide"
    }
   },
   "outputs": [
    {
     "data": {
      "text/plain": [
       "Polygon with 6 sides"
      ]
     },
     "execution_count": 5,
     "metadata": {},
     "output_type": "execute_result"
    }
   ],
   "source": [
    "# We define a Polygon class that does nothing except\n",
    "# maintain an internal record of the number of sides\n",
    "# it's supposed to have. The class implements the magic\n",
    "# method __mul__, which overrides the standard\n",
    "# multiplication operator.\n",
    "class Polygon(object):\n",
    "    \n",
    "    def __init__(self, sides):\n",
    "        self.sides = sides\n",
    "        \n",
    "    def __mul__(self, n):\n",
    "        return(Polygon(self.sides * n))\n",
    "    \n",
    "    def __repr__(self):\n",
    "        return \"Polygon with %d sides\" % self.sides\n",
    "\n",
    "a = Polygon(3)\n",
    "a * 2"
   ]
  },
  {
   "cell_type": "markdown",
   "metadata": {
    "slideshow": {
     "slide_type": "slide"
    }
   },
   "source": [
    "# Why do data science in Python?\n",
    "\n",
    "* (Relatively) easy to learn\n",
    "* Exceptional libraries\n",
    "* Good performance\n",
    "* Lots of momentum within the scientific computing community"
   ]
  },
  {
   "cell_type": "markdown",
   "metadata": {
    "slideshow": {
     "slide_type": "subslide"
    }
   },
   "source": [
    "## Easy to learn\n",
    "* Readable, explicit syntax\n",
    "* Most packages are very well documented\n",
    "    * e.g., scikit-learn's [documentation](http://scikit-learn.org/stable/documentation.html) is widely held up as a model\n",
    "* A huge number of tutorials, guides, and other educational materials\n",
    "    * [Code Academy](https://www.codecademy.com/learn/python) is a good place to start\n",
    "    * Tons of questions (and answers) on [Stack Overflow](http://stackoverflow.com/questions/tagged/python)"
   ]
  },
  {
   "cell_type": "code",
   "execution_count": 6,
   "metadata": {
    "collapsed": false,
    "slideshow": {
     "slide_type": "subslide"
    }
   },
   "outputs": [
    {
     "name": "stdout",
     "output_type": "stream",
     "text": [
      "Hello, World! I'm Tal\n",
      "\n",
      "I'll spell that out for you:\n",
      "T\n",
      "a\n",
      "l\n"
     ]
    }
   ],
   "source": [
    "# Python is readable!\n",
    "\n",
    "def print_name(first_name, last_name=None):\n",
    "\n",
    "    output = \"Hello, World! I'm \" + str(first_name)\n",
    "    \n",
    "    if last_name is not None:\n",
    "        output += \" \" + last_name\n",
    "        \n",
    "    print(output)\n",
    "    print(\"\\nI'll spell that out for you:\")\n",
    "    \n",
    "    for letter in first_name:\n",
    "        print(letter)\n",
    "    \n",
    "print_name(\"Tal\")"
   ]
  },
  {
   "cell_type": "markdown",
   "metadata": {
    "slideshow": {
     "slide_type": "subslide"
    }
   },
   "source": [
    "## Comprehensive standard library\n",
    "The standard Python library contains [a huge number of high-quality modules](https://docs.python.org/2/library/). For example:\n",
    "* os: operating system tools\n",
    "* re: regular expressions\n",
    "* collections: useful data structures\n",
    "* multiprocessing: simple parallelization tools\n",
    "* pickle: serialization\n",
    "* json: reading and writing JSON\n",
    "* argparse: command-line argument parsing\n",
    "* functools: functional programming tools\n",
    "* datetime: date and time functions"
   ]
  },
  {
   "cell_type": "markdown",
   "metadata": {
    "slideshow": {
     "slide_type": "subslide"
    }
   },
   "source": [
    "## _Amazing_ external libraries\n",
    "\n",
    "* Python has very good (often best-in-class) external packages for almost everything\n",
    "* Particularly important for data science, which draws on a very broad toolkit\n",
    "* Package management is easy (conda, pip)\n",
    "* Examples:\n",
    "    * Web development: flask, Django\n",
    "    * Database ORMs: SQLAlchemy, Django ORM (w/ adapters for all major DBs)\n",
    "    * Scraping/parsing text/markup: beautifulsoup, scrapy\n",
    "    * Natural language processing (NLP): nltk, gensim, textblob\n",
    "    * Numerical computation and data analysis: numpy, scipy, pandas, xarray\n",
    "    * Machine learning: scikit-learn, Theano, Tensorflow, keras\n",
    "    * Image processing: pillow, scikit-image, OpenCV\n",
    "    * Plotting: matplotlib, seaborn, ggplot, Bokeh\n",
    "    * GUI development: pyQT, wxPython\n",
    "    * Testing: py.test, nose\n",
    "    * Etc. etc. etc."
   ]
  },
  {
   "cell_type": "markdown",
   "metadata": {
    "slideshow": {
     "slide_type": "subslide"
    }
   },
   "source": [
    "## (Relatively) good performance\n",
    "* Python is a high-level dynamic language--this comes at a performance cost\n",
    "* For many (not all!) data scientists, performance is irrelevant most of the time\n",
    "* In general, the less Python code you write yourself, the better your performance will be\n",
    "    * Much of the standard library consists of Python interfaces to C functions\n",
    "    * Numpy, scikit-learn, Theano, etc. all rely heavily on C/C++ or Fortran"
   ]
  },
  {
   "cell_type": "code",
   "execution_count": 8,
   "metadata": {
    "collapsed": false,
    "slideshow": {
     "slide_type": "subslide"
    }
   },
   "outputs": [],
   "source": [
    "# Create a list of 1,000 integers\n",
    "my_list = list(range(1000))"
   ]
  },
  {
   "cell_type": "code",
   "execution_count": 9,
   "metadata": {
    "collapsed": false,
    "slideshow": {
     "slide_type": "fragment"
    }
   },
   "outputs": [
    {
     "name": "stdout",
     "output_type": "stream",
     "text": [
      "100000 loops, best of 3: 9.14 µs per loop\n"
     ]
    }
   ],
   "source": [
    "# Python's built-in sum() function is pretty fast\n",
    "%timeit sum(my_list)"
   ]
  },
  {
   "cell_type": "code",
   "execution_count": 10,
   "metadata": {
    "collapsed": false,
    "slideshow": {
     "slide_type": "fragment"
    }
   },
   "outputs": [
    {
     "name": "stdout",
     "output_type": "stream",
     "text": [
      "10000 loops, best of 3: 47.9 µs per loop\n"
     ]
    }
   ],
   "source": [
    "# If you write your own naive implementation, it probably won't\n",
    "# be nearly as fast\n",
    "def ill_write_my_own_sum_thank_you_very_much(l):\n",
    "    s = 0\n",
    "    for elem in my_list: \n",
    "        s += elem \n",
    "    return s\n",
    "\n",
    "%timeit ill_write_my_own_sum_thank_you_very_much(my_list)"
   ]
  },
  {
   "cell_type": "markdown",
   "metadata": {
    "slideshow": {
     "slide_type": "subslide"
    }
   },
   "source": [
    "### If you need more speed...\n",
    "* [Cython](cython.org) (a superset of Python) allows C type declarations, function calls\n",
    "* Rapid progress on just-in-time compilers that optimize code effortlessly\n",
    "* Example: compare three correlation coefficient implementations\n",
    "    * pure Python\n",
    "    * numpy\n",
    "    * pure Python with just-in-time compilation (via Numba)"
   ]
  },
  {
   "cell_type": "markdown",
   "metadata": {
    "slideshow": {
     "slide_type": "subslide"
    }
   },
   "source": [
    "#### Naive Python implementation"
   ]
  },
  {
   "cell_type": "code",
   "execution_count": 12,
   "metadata": {
    "collapsed": true,
    "slideshow": {
     "slide_type": "fragment"
    }
   },
   "outputs": [],
   "source": [
    "import math\n",
    "\n",
    "def python_corr(n, arr1, arr2):\n",
    "    ''' Naive implementation of Pearson correlation in pure Python. '''\n",
    "    m1 = sum(arr1) / n\n",
    "    m2 = sum(arr2) / n\n",
    "    var1 = 0\n",
    "    var2 = 0\n",
    "    cov = 0\n",
    "    \n",
    "    for i in range(n):\n",
    "        d1 = arr1[i] - m1\n",
    "        d2 = arr2[i] - m2\n",
    "        var1 += math.pow(d1, 2)\n",
    "        var2 += math.pow(d2, 2)\n",
    "        cov += d1 * d2\n",
    "    \n",
    "    sd1 = math.sqrt(var1 / n)\n",
    "    sd2 = math.sqrt(var2 / n)\n",
    "    \n",
    "    return cov / (sd1 * sd2 * n)"
   ]
  },
  {
   "cell_type": "markdown",
   "metadata": {
    "slideshow": {
     "slide_type": "subslide"
    }
   },
   "source": [
    "#### Out-of-the-box numpy implementation"
   ]
  },
  {
   "cell_type": "code",
   "execution_count": 13,
   "metadata": {
    "collapsed": false,
    "slideshow": {
     "slide_type": "fragment"
    }
   },
   "outputs": [],
   "source": [
    "import numpy as np\n",
    "\n",
    "def numpy_corr(n, arr1, arr2):\n",
    "    ''' A wrapper for numpy's correlation coefficient implementation. '''\n",
    "    return np.corrcoef(arr1, arr2)[0, 1]"
   ]
  },
  {
   "cell_type": "markdown",
   "metadata": {
    "slideshow": {
     "slide_type": "subslide"
    }
   },
   "source": [
    "#### Naive Python implementation w/ JIT compilation"
   ]
  },
  {
   "cell_type": "code",
   "execution_count": 15,
   "metadata": {
    "collapsed": false,
    "slideshow": {
     "slide_type": "fragment"
    }
   },
   "outputs": [],
   "source": [
    "from numba import jit\n",
    "\n",
    "# The only difference from the earlier naive version\n",
    "# is this decorator!\n",
    "@jit\n",
    "def numba_corr(n, arr1, arr2):\n",
    "    ''' Native Python implementation with Numba's just-in-time compiler. '''\n",
    "    m1 = sum(arr1) / n\n",
    "    m2 = sum(arr2) / n\n",
    "    var1 = 0\n",
    "    var2 = 0\n",
    "    cov = 0\n",
    "    \n",
    "    for i in range(n):\n",
    "        d1 = arr1[i] - m1\n",
    "        d2 = arr2[i] - m2\n",
    "        var1 += math.pow(d1, 2)\n",
    "        var2 += math.pow(d2, 2)\n",
    "        cov += d1 * d2\n",
    "    \n",
    "    sd1 = math.sqrt(var1 / n)\n",
    "    sd2 = math.sqrt(var2 / n)\n",
    "    \n",
    "    return cov / (sd1 * sd2 * n)"
   ]
  },
  {
   "cell_type": "markdown",
   "metadata": {
    "slideshow": {
     "slide_type": "subslide"
    }
   },
   "source": [
    "#### Benchmarking the implementations"
   ]
  },
  {
   "cell_type": "code",
   "execution_count": 27,
   "metadata": {
    "collapsed": false,
    "slideshow": {
     "slide_type": "fragment"
    }
   },
   "outputs": [
    {
     "name": "stdout",
     "output_type": "stream",
     "text": [
      "Time taken by python_corr (array size = 10): 0.0002 ms)\n",
      "Time taken by numpy_corr (array size = 10): 0.0016 ms)\n",
      "Time taken by numba_corr (array size = 10): 0.00013 ms)\n",
      "Time taken by python_corr (array size = 100): 0.0013 ms)\n",
      "Time taken by numpy_corr (array size = 100): 0.0016 ms)\n",
      "Time taken by numba_corr (array size = 100): 0.00021 ms)\n",
      "Time taken by python_corr (array size = 1000): 0.014 ms)\n",
      "Time taken by numpy_corr (array size = 1000): 0.0032 ms)\n",
      "Time taken by numba_corr (array size = 1000): 0.0012 ms)\n",
      "Time taken by python_corr (array size = 10000): 0.14 ms)\n",
      "Time taken by numpy_corr (array size = 10000): 0.015 ms)\n",
      "Time taken by numba_corr (array size = 10000): 0.011 ms)\n",
      "Time taken by python_corr (array size = 100000): 1.4 ms)\n",
      "Time taken by numpy_corr (array size = 100000): 0.14 ms)\n",
      "Time taken by numba_corr (array size = 100000): 0.11 ms)\n"
     ]
    }
   ],
   "source": [
    "import timeit\n",
    "import matplotlib.pyplot as plt\n",
    "%matplotlib inline\n",
    "\n",
    "versions = ['python_corr', 'numpy_corr', 'numba_corr']\n",
    "array_sizes = np.power(10, np.arange(1, 6))\n",
    "repeat = 5\n",
    "number = 20\n",
    "\n",
    "def setup(n, v):\n",
    "    return '''\n",
    "import numpy as np\n",
    "from __main__ import {}\n",
    "n = {}\n",
    "arr1 = np.random.normal(size={}).tolist()\n",
    "arr2 = np.random.normal(size={}).tolist()\n",
    "'''.format(v, n, n, n)\n",
    "\n",
    "# Store the results for later plotting\n",
    "results = np.zeros((len(array_sizes), len(versions)))\n",
    "\n",
    "for i, n in enumerate(array_sizes):\n",
    "    for j, v in enumerate(versions):\n",
    "        bests = timeit.repeat('{}(n, arr1, arr2)'.format(v), setup(n, v), repeat=repeat, number=number)\n",
    "        results[i, j] = np.array(bests).mean()\n",
    "        print(\"Time taken by {} (array size = {}): {:.2g} ms)\".format(v, n, results[i, j]))"
   ]
  },
  {
   "cell_type": "code",
   "execution_count": 37,
   "metadata": {
    "collapsed": false,
    "slideshow": {
     "slide_type": "subslide"
    }
   },
   "outputs": [
    {
     "data": {
      "image/png": "[encoded data removed]",
      "text/plain": [
       "<matplotlib.figure.Figure at 0x10a95c8d0>"
      ]
     },
     "metadata": {},
     "output_type": "display_data"
    }
   ],
   "source": [
    "# Let's plot the benchmark results...\n",
    "for j, v in enumerate(versions):\n",
    "    plt.plot(array_sizes[:], results[:, j], 'o-', ms=5, label=v.split('_')[0])\n",
    "\n",
    "# gca() is short for 'get current axes'\n",
    "ax = plt.gca()\n",
    "\n",
    "# Set display options\n",
    "ax.set(xlabel='Array size', ylabel='Time taken (ms)', xscale='log')\n",
    "\n",
    "# Add legend in the best location\n",
    "ax.legend(loc='best');"
   ]
  },
  {
   "cell_type": "markdown",
   "metadata": {
    "slideshow": {
     "slide_type": "slide"
    }
   },
   "source": [
    "# Python vs. other data science languages\n",
    "\n",
    "* Python competes for mind share with many other languages\n",
    "* Most notably, R\n",
    "* To a lesser extent, Matlab, Mathematica, SAS, Julia, Java, Scala, etc."
   ]
  },
  {
   "cell_type": "markdown",
   "metadata": {
    "slideshow": {
     "slide_type": "subslide"
    }
   },
   "source": [
    "### R\n",
    "* [R](https://www.r-project.org/) is dominant in statistics and some fields of science\n",
    "    * Has attracted many SAS, SPSS, and Stata users\n",
    "* Exceptional statistics support; hundreds of best-in-class libraries\n",
    "* Designed to make data analysis and visualization as easy as possible\n",
    "* Widely considered a mediocre programming language\n",
    "    * Minimal support for most things non-data-related"
   ]
  },
  {
   "cell_type": "markdown",
   "metadata": {
    "slideshow": {
     "slide_type": "subslide"
    }
   },
   "source": [
    "### MATLAB\n",
    "* A proprietary numerical computing language widely used by engineers\n",
    "* Good performance and very active development, but very expensive\n",
    "* Closed ecosystem, relatively few third-party libraries\n",
    "* Not suitable for use as a general-purpose language"
   ]
  },
  {
   "cell_type": "markdown",
   "metadata": {
    "slideshow": {
     "slide_type": "subslide"
    }
   },
   "source": [
    "### Others\n",
    "* [Julia](http://julialang.org/) is a performant new language for technical computing\n",
    "    * Promising, but far too little library support compared to Python, R\n",
    "* [SAS](???) is an enterprise analytics software suite widely used in government, some industries\n",
    "    * Offers a GUI and handles large datasets very well\n",
    "    * Does very little other than data analysis\n",
    "* Java has an enormous ecosystem and excellent performance, but is extremely verbose\n",
    "* [SPSS](http://www.ibm.com/analytics/us/en/technology/spss/) is more of a cash cow for IBM than a programming language; we won't discuss it"
   ]
  },
  {
   "cell_type": "markdown",
   "metadata": {
    "slideshow": {
     "slide_type": "subslide"
    }
   },
   "source": [
    "## So, why Python?\n",
    "Why choose Python over other languages?\n",
    "* Arguably none of these offers the same combination of readability, flexibility, libraries, and performance\n",
    "* Python is sometimes described as \"the second best language for everything\"\n",
    "* Doesn't mean you should always use Python\n",
    "    * Depends on your needs, community, etc."
   ]
  },
  {
   "cell_type": "markdown",
   "metadata": {
    "slideshow": {
     "slide_type": "subslide"
    }
   },
   "source": [
    "## You can have your cake _and_ eat it!\n",
    "* Many languages--particularly R--now interface seamlessly with Python\n",
    "* You can work primarily in Python, fall back on R when you need it\n",
    "* The best of all possible worlds?"
   ]
  },
  {
   "cell_type": "markdown",
   "metadata": {
    "slideshow": {
     "slide_type": "slide"
    }
   },
   "source": [
    "# The core Python data science stack\n",
    "* The Python ecosystem contains tens of thousands of packages\n",
    "* Six of these are almost universal in data science applications:\n",
    "    * [Numpy](http://numpy.org): numerical computing in Python\n",
    "    * [Scipy](http://scipy.org): scientific Python tools\n",
    "    * [Matplotlib](http://matplotlib.org): plotting in Python\n",
    "    * [pandas](http://pandas.pydata.org/): complex data structures for Python\n",
    "    * [Jupyter/IPython](http://jupyter.org): interactive notebooks\n",
    "    * [scikit-learn](http://scikit-learn.org): machine learning in Python"
   ]
  },
  {
   "cell_type": "markdown",
   "metadata": {
    "slideshow": {
     "slide_type": "subslide"
    }
   },
   "source": [
    "## Numpy\n",
    "* \"The fundamental package for scientific computing with Python\"\n",
    "* The basic building block of most data analysis in Python\n",
    "* Numpy arrays: N-dimensional, homogeneous, unlabeled arrays\n",
    "* Working with numpy will look familiar if you've spent time in an environment like R or [Matlab](https://docs.scipy.org/doc/numpy-dev/user/numpy-for-matlab-users.html)\n",
    "    * If you haven't, I recommend doing [a numpy tutorial](http://www.python-course.eu/numpy.php) or two\n",
    "* Numpy contains highly optimized routines for creating and manipulating arrays"
   ]
  },
  {
   "cell_type": "code",
   "execution_count": 25,
   "metadata": {
    "collapsed": false,
    "slideshow": {
     "slide_type": "subslide"
    }
   },
   "outputs": [
    {
     "name": "stdout",
     "output_type": "stream",
     "text": [
      "[[   0.65283876    1.28405722    0.75132961    2.36447709    3.73643335\n",
      "     5.79054682    7.10792927    7.00098595    8.57471184    8.35539847\n",
      "    10.70626559   10.12417208   12.09080768   14.5830621    13.41251807\n",
      "    15.55171684   17.50105676   14.65110684   18.21271605   17.82155455\n",
      "    18.79314614   21.33059861   21.10744109   21.84086176   24.34212988\n",
      "    27.1146015    25.17917775   28.09054298   29.54447452   29.22757276\n",
      "    29.35695043   30.13292603   31.57632073   32.68230442   35.11510879\n",
      "    35.69287276   33.2873758    37.24326291   39.28262471   39.02150655\n",
      "    39.50325067   40.83636925   42.41186636   43.36424327   43.79656377\n",
      "    44.23026987   45.7266605    47.78716839   48.14164301   49.59106699]\n",
      " [  98.76650106  101.56202197  101.9721708   102.6851503   102.53313549\n",
      "   104.80592846  104.75726985  105.94868813  106.79758104  107.65358786\n",
      "   110.74789981  110.8518133   112.0643495   113.99225578  114.23044009\n",
      "   115.89805322  116.72495561  117.65929597  119.76005807  119.08679313\n",
      "   119.25924044  119.73109879  122.94217682  121.68550707  124.70656024\n",
      "   126.47489665  126.17415759  127.1440951   127.42776416  128.60343531\n",
      "   129.80935008  130.84123137  130.49258675  133.68562694  135.20985873\n",
      "   134.76717911  138.1882428   137.9823215   139.64843338  138.08178357\n",
      "   139.61457821  140.79038983  144.43528638  142.73687451  142.88676781\n",
      "   144.86984154  145.09412315  147.49830324  147.97531419  148.47033651]]\n"
     ]
    },
    {
     "data": {
      "image/png": "[encoded data removed]",
      "text/plain": [
       "<matplotlib.figure.Figure at 0x11e631748>"
      ]
     },
     "metadata": {},
     "output_type": "display_data"
    }
   ],
   "source": [
    "import numpy as np\n",
    "import matplotlib.pyplot as plt\n",
    "\n",
    "# Draw all plots inline in the notebook\n",
    "%matplotlib inline\n",
    "\n",
    "# Create a 1d numpy array with values 0 through 99\n",
    "a = np.arange(1000)\n",
    "\n",
    "# Reshape into a 10 x 10 2d array\n",
    "a = np.reshape(a, (10, 100))\n",
    "\n",
    "# Add a little bit of noise\n",
    "b = np.random.normal(size=(10, 100))\n",
    "a = a + b\n",
    "\n",
    "# Inspect the first 50 elements of each of the first two rows\n",
    "print(a[:2, :50])\n",
    "\n",
    "# Plot only the 3rd through 6th rows\n",
    "to_plot = a[3:7, :]\n",
    "for row in to_plot:\n",
    "    plt.plot(row)"
   ]
  },
  {
   "cell_type": "markdown",
   "metadata": {
    "slideshow": {
     "slide_type": "subslide"
    }
   },
   "source": [
    "### Numpy exercises\n",
    "1. Create a 10 x 10 x 10 3d array of random numbers (hint: see examples above) and print any 2d (10 x 10) slice within that array\n",
    "2. Create two 2d arrays of any size and print their element-wise product\n",
    "3. Create a 1d array of any length and then reverse it (so the first element becomes the last)\n",
    "4. 100 more short exercises can be found [here](http://www.labri.fr/perso/nrougier/teaching/numpy.100/)"
   ]
  },
  {
   "cell_type": "code",
   "execution_count": 26,
   "metadata": {
    "collapsed": false,
    "slideshow": {
     "slide_type": "fragment"
    }
   },
   "outputs": [],
   "source": [
    "# Write your code here"
   ]
  },
  {
   "cell_type": "markdown",
   "metadata": {
    "slideshow": {
     "slide_type": "subslide"
    }
   },
   "source": [
    "## Everything revolves around numpy arrays\n",
    "* Scipy adds a bunch of useful science and engineering routines that operate on numpy arrays\n",
    "    * signal processing, statistical distributions, image analysis, etc.\n",
    "* pandas adds powerful methods for manipulating numpy arrays\n",
    "    * Like data frames in R--but typically faster\n",
    "* scikit-learn supports state-of-the-art machine learning over numpy arrays\n",
    "    * Inputs and outputs of virtually all functions are numpy arrays"
   ]
  },
  {
   "cell_type": "markdown",
   "metadata": {
    "slideshow": {
     "slide_type": "slide"
    }
   },
   "source": [
    "# The Jupyter notebook\n",
    "* \"The [Jupyter Notebook](http://jupyter.org) is a web application that allows you to create and share documents that contain live code, equations, visualizations and explanatory text.\"\n",
    "* Formerly the IPython Notebook\n",
    "* Supports dozens of languages\n",
    "* A living document wrapped around a command prompt"
   ]
  },
  {
   "cell_type": "markdown",
   "metadata": {
    "collapsed": true,
    "slideshow": {
     "slide_type": "subslide"
    }
   },
   "source": [
    "## Why Jupyter?\n",
    "* An easy way to write completely reproducible documents\n",
    "* Combine code, results, and text in one place\n",
    "* You can mix languages\n",
    "* Completely interactive: make a change and see what happens\n",
    "* Once you get used to it, hard to imagine doing things any other way"
   ]
  },
  {
   "cell_type": "markdown",
   "metadata": {
    "slideshow": {
     "slide_type": "subslide"
    }
   },
   "source": [
    "### Slideshow mode\n",
    "* These slides are actually a live Jupyter notebook\n",
    "* We can edit and execute cells on-the-fly\n",
    "* The slideshow extension is installed separately; follow the instructions [here](https://github.com/damianavila/RISE)"
   ]
  },
  {
   "cell_type": "markdown",
   "metadata": {
    "slideshow": {
     "slide_type": "subslide"
    }
   },
   "source": [
    "### This slide intentionally left blank"
   ]
  },
  {
   "cell_type": "code",
   "execution_count": null,
   "metadata": {
    "collapsed": true,
    "slideshow": {
     "slide_type": "fragment"
    }
   },
   "outputs": [],
   "source": []
  },
  {
   "cell_type": "markdown",
   "metadata": {
    "slideshow": {
     "slide_type": "subslide"
    }
   },
   "source": [
    "### Built-in LaTeX support\n",
    "$$ F(k) = \\int_{-\\infty}^{\\infty} f(x) e^{2\\pi i k} dx $$"
   ]
  },
  {
   "cell_type": "markdown",
   "metadata": {
    "slideshow": {
     "slide_type": "subslide"
    }
   },
   "source": [
    "### Magic functions\n",
    "* Jupyter includes a number of [\"magic\" commands](https://ipython.org/ipython-doc/3/interactive/magics.html) to make life easier\n",
    "* Support in-line plotting, timing, debugging, calling other languages, etc."
   ]
  },
  {
   "cell_type": "code",
   "execution_count": 27,
   "metadata": {
    "collapsed": false,
    "slideshow": {
     "slide_type": "fragment"
    }
   },
   "outputs": [
    {
     "data": {
      "image/png": "[encoded data removed]",
      "text/plain": [
       "<matplotlib.figure.Figure at 0x11e627c88>"
      ]
     },
     "metadata": {},
     "output_type": "display_data"
    }
   ],
   "source": [
    "# This line says we want plots displayed in cell output\n",
    "%matplotlib inline\n",
    "\n",
    "import matplotlib.pyplot as plt\n",
    "import numpy as np\n",
    "\n",
    "x = np.random.normal(size=100)\n",
    "y = np.random.normal(size=100)\n",
    "p = plt.scatter(x, y)"
   ]
  },
  {
   "cell_type": "markdown",
   "metadata": {
    "slideshow": {
     "slide_type": "subslide"
    }
   },
   "source": [
    "### Combining R and Python with the %R magic\n",
    "* In the same notebook\n",
    "* And even in the same notebook cell!\n",
    "* Can also use an [R kernel](https://github.com/IRkernel/IRkernel) with the notebook"
   ]
  },
  {
   "cell_type": "code",
   "execution_count": 28,
   "metadata": {
    "collapsed": false,
    "slideshow": {
     "slide_type": "fragment"
    }
   },
   "outputs": [
    {
     "name": "stdout",
     "output_type": "stream",
     "text": [
      "The rpy2.ipython extension is already loaded. To reload it, use:\n",
      "  %reload_ext rpy2.ipython\n",
      "   total_bill   tip     sex smoker  day    time  size\n",
      "0       16.99  1.01  Female     No  Sun  Dinner     2\n",
      "1       10.34  1.66    Male     No  Sun  Dinner     3\n",
      "2       21.01  3.50    Male     No  Sun  Dinner     3\n",
      "3       23.68  3.31    Male     No  Sun  Dinner     2\n",
      "4       24.59  3.61  Female     No  Sun  Dinner     4\n"
     ]
    },
    {
     "data": {
      "image/png": "[encoded data removed]"
     },
     "metadata": {},
     "output_type": "display_data"
    },
    {
     "data": {
      "text/plain": [
       "R object with classes: ('list',) mapped to:\n",
       "<ListVector - Python:0x122450448 / R:0x11d948800>\n",
       "[ListVector, Environment, ListVector]\n",
       "R object with classes: ('list',) mapped to:\n",
       "<ListVector - Python:0x122450448 / R:0x11d948800>\n",
       "[ListVector, Environment, ListVector]\n",
       "  layout: <class 'rpy2.robjects.environments.Environment'>\n",
       "  R object with classes: ('Layout', 'ggproto') mapped to:\n",
       "<Environment - Python:0x1228eca08 / R:0x11d8fe070>\n",
       "R object with classes: ('list',) mapped to:\n",
       "<ListVector - Python:0x122450448 / R:0x11d948800>\n",
       "[ListVector, Environment, ListVector]"
      ]
     },
     "execution_count": 28,
     "metadata": {},
     "output_type": "execute_result"
    }
   ],
   "source": [
    "# This cell won't work unless you've installed R and rpy2.\n",
    "# You can get R from CRAN (https://cloud.r-project.org/),\n",
    "# and install rpy2 with pip.\n",
    "%load_ext rpy2.ipython\n",
    "\n",
    "import seaborn as sns\n",
    "\n",
    "df = sns.load_dataset('tips')\n",
    "print(df.head())\n",
    "\n",
    "%R -i df\n",
    "%R library(ggplot2)\n",
    "%R print(qplot(total_bill, tip, color=time, data=df) + geom_smooth(method='lm'))"
   ]
  },
  {
   "cell_type": "markdown",
   "metadata": {
    "slideshow": {
     "slide_type": "subslide"
    }
   },
   "source": [
    "### Cell vs. line magics\n",
    "* %R will let you write one line of R code into a Python cell\n",
    "* %%R turns the whole cell into R code"
   ]
  },
  {
   "cell_type": "code",
   "execution_count": 29,
   "metadata": {
    "collapsed": false,
    "slideshow": {
     "slide_type": "fragment"
    }
   },
   "outputs": [
    {
     "data": {
      "text/plain": [
       "\n",
       "Call:\n",
       "lm(formula = y ~ x)\n",
       "\n",
       "Residuals:\n",
       "    Min      1Q  Median      3Q     Max \n",
       "-3.3888 -0.7749  0.0193  0.7258  2.7477 \n",
       "\n",
       "Coefficients:\n",
       "            Estimate Std. Error t value Pr(>|t|)\n",
       "(Intercept)  0.12571    0.10442   1.204    0.232\n",
       "x           -0.03197    0.10208  -0.313    0.755\n",
       "\n",
       "Residual standard error: 1.044 on 98 degrees of freedom\n",
       "Multiple R-squared:  0.0009998,\tAdjusted R-squared:  -0.009194 \n",
       "F-statistic: 0.09808 on 1 and 98 DF,  p-value: 0.7548\n",
       "\n"
      ]
     },
     "metadata": {},
     "output_type": "display_data"
    },
    {
     "data": {
      "image/png": "[encoded data removed]"
     },
     "metadata": {},
     "output_type": "display_data"
    }
   ],
   "source": [
    "%%R\n",
    "x = rnorm(100)\n",
    "y = rnorm(100)\n",
    "print(qplot(x, y))\n",
    "print(summary(lm(y ~ x)))"
   ]
  },
  {
   "cell_type": "markdown",
   "metadata": {
    "slideshow": {
     "slide_type": "subslide"
    }
   },
   "source": [
    "### Getting help in Jupyter\n",
    "* Explore the options under the \"Help\" menu\n",
    "* Press the 'h' key (in cell mode) to see keyboard shortcuts\n",
    "* Shift-tab inside Python function calls will show you the function signature/arguments\n",
    "* Prefix any Python function with '?' to bring up its documentation\n",
    "* Prefix any command with '!' to run it as an operating system command"
   ]
  },
  {
   "cell_type": "code",
   "execution_count": 47,
   "metadata": {
    "collapsed": false,
    "slideshow": {
     "slide_type": "fragment"
    }
   },
   "outputs": [
    {
     "name": "stdout",
     "output_type": "stream",
     "text": [
      "Day 1 - Data science in Python.ipynb \u001b[34mimages\u001b[m\u001b[m\r\n",
      "Day 2 - Data wrangling.ipynb         test.ipynb\r\n"
     ]
    }
   ],
   "source": [
    "# Running this cell will pop up the documentation for\n",
    "# numpy's reshape function\n",
    "import numpy as np\n",
    "?np.reshape"
   ]
  },
  {
   "cell_type": "markdown",
   "metadata": {
    "slideshow": {
     "slide_type": "subslide"
    }
   },
   "source": [
    "# Best practices\n",
    "\n",
    "* Good data scientists borrow many best practices from software developers\n",
    "* Efficiency and reproducibility are key\n",
    "* Some best practices:\n",
    "    * Maintain project- or domain-specific environments\n",
    "    * Use version control (e.g., Git/GitHub)\n",
    "    * Profile your code\n",
    "    * Test your code*\n",
    "    * Document everything"
   ]
  },
  {
   "cell_type": "markdown",
   "metadata": {
    "slideshow": {
     "slide_type": "subslide"
    }
   },
   "source": [
    "## Set up project-specific environments\n",
    "* It's a good idea to set up a new Python environment for each project (or at least, domain)\n",
    "* Prevents version conflicts, makes dependency management easy\n",
    "* Conda simplifies this process (see [the documentation](http://conda.pydata.org/docs/using/envs.html))\n",
    "* In the interest of time, we won't do this here--but you may want to try it for tomorrow"
   ]
  },
  {
   "cell_type": "markdown",
   "metadata": {
    "slideshow": {
     "slide_type": "subslide"
    }
   },
   "source": [
    "## Version control\n",
    "* Most data analysts are familiar \"how did I do that analysis?\" syndrome\n",
    "* Version or source control involves formally tracking the history of your work\n",
    "* Every major (sometimes minor) change is logged\n",
    "* Repository of changes is often maintained in a central location (e.g., GitHub)"
   ]
  },
  {
   "cell_type": "markdown",
   "metadata": {
    "slideshow": {
     "slide_type": "subslide"
    }
   },
   "source": [
    "## Git/GitHub\n",
    "* The most widely used source control platform is [git](https://git-scm.com/downloads)\n",
    "    * If you're on Linux or Mac, it's probably already installed (type `git` at command line)\n",
    "* GitHub is the most widely used Git hosting service\n",
    "    * Hosts most millions of projects (including this course)\n",
    "* Learning curve can be a bit steep, but there are [tutorials](https://git-scm.com/book/en/v2/Git-Basics-Getting-a-Git-Repository) and [GUIs](https://git-scm.com/downloads/guis) to help\n",
    "* A small example..."
   ]
  },
  {
   "cell_type": "markdown",
   "metadata": {
    "slideshow": {
     "slide_type": "subslide"
    }
   },
   "source": [
    "## Your homework assignment\n",
    "...should you choose to accept it.\n",
    "\n",
    "* Install (and/or update) git\n",
    "    * Note: git is different from the GitHub client!\n",
    "    * You'll need the former; the latter is optional\n",
    "* Clone the repository for this course:\n",
    "\n",
    "> git clone https://github.com/tyarkoni/SSI2017.git\n",
    "   \n",
    "* Will make it easier to work with the course notebooks\n",
    "* Create a user account on GitHub\n",
    "* Create a new repository, add a file (can be empty!), and push it to GitHub"
   ]
  },
  {
   "cell_type": "markdown",
   "metadata": {
    "slideshow": {
     "slide_type": "subslide"
    }
   },
   "source": [
    "## Code profiling\n",
    "* Code has bottlenecks\n",
    "* The bottlenecks are often not where you expect them to be\n",
    "* Python has many available tools for easy code profiling\n",
    "* The easiest to use is the cProfile module in the standard library"
   ]
  },
  {
   "cell_type": "code",
   "execution_count": 30,
   "metadata": {
    "collapsed": false,
    "slideshow": {
     "slide_type": "subslide"
    }
   },
   "outputs": [
    {
     "name": "stdout",
     "output_type": "stream",
     "text": [
      "         56006 function calls in 0.514 seconds\n",
      "\n",
      "   Ordered by: standard name\n",
      "\n",
      "   ncalls  tottime  percall  cumtime  percall filename:lineno(function)\n",
      "        1    0.002    0.002    0.514    0.514 <ipython-input-30-7249a6d23150>:5(pointless_array_operations)\n",
      "        1    0.000    0.000    0.514    0.514 <string>:1(<module>)\n",
      "      200    0.000    0.000    0.000    0.000 _methods.py:43(_count_reduce_items)\n",
      "      200    0.003    0.000    0.008    0.000 _methods.py:53(_mean)\n",
      "      400    0.003    0.000    0.124    0.000 fftpack.py:1011(rfftn)\n",
      "      400    0.002    0.000    0.078    0.000 fftpack.py:102(fft)\n",
      "      200    0.003    0.000    0.090    0.000 fftpack.py:1140(irfftn)\n",
      "      200    0.005    0.000    0.041    0.000 fftpack.py:198(ifft)\n",
      "      400    0.001    0.000    0.038    0.000 fftpack.py:291(rfft)\n",
      "      200    0.004    0.000    0.044    0.000 fftpack.py:378(irfft)\n",
      "     1200    0.014    0.000    0.180    0.000 fftpack.py:47(_raw_fft)\n",
      "      600    0.002    0.000    0.003    0.000 fftpack.py:611(_cook_nd_args)\n",
      "     1200    0.000    0.000    0.000    0.000 fftpack.py:95(_unitary)\n",
      "      200    0.001    0.000    0.002    0.000 fromnumeric.py:1188(diagonal)\n",
      "      200    0.000    0.000    0.021    0.000 fromnumeric.py:1657(clip)\n",
      "     1200    0.001    0.000    0.004    0.000 fromnumeric.py:458(swapaxes)\n",
      "     1400    0.001    0.000    0.023    0.000 fromnumeric.py:55(_wrapfunc)\n",
      "      200    0.002    0.000    0.015    0.000 function_base.py:1021(average)\n",
      "      200    0.000    0.000    0.000    0.000 function_base.py:212(iterable)\n",
      "      200    0.018    0.000    0.119    0.001 function_base.py:2725(cov)\n",
      "      200    0.103    0.001    0.246    0.001 function_base.py:2933(corrcoef)\n",
      "     1200    0.005    0.000    0.007    0.000 helper.py:257(put_twiddle_factors)\n",
      "     1200    0.003    0.000    0.005    0.000 helper.py:283(pop_twiddle_factors)\n",
      "     1200    0.001    0.000    0.001    0.000 helper.py:311(_prune_cache)\n",
      "      400    0.001    0.000    0.001    0.000 helper.py:51(next_fast_len)\n",
      "     3400    0.002    0.000    0.003    0.000 numeric.py:463(asarray)\n",
      "     1000    0.001    0.000    0.001    0.000 numeric.py:534(asanyarray)\n",
      "      400    0.000    0.000    0.000    0.000 numerictypes.py:660(issubclass_)\n",
      "      400    0.001    0.000    0.003    0.000 numerictypes.py:728(issubdtype)\n",
      "      200    0.000    0.000    0.006    0.000 shape_base.py:180(vstack)\n",
      "      200    0.000    0.000    0.002    0.000 shape_base.py:234(<listcomp>)\n",
      "      400    0.001    0.000    0.002    0.000 shape_base.py:61(atleast_2d)\n",
      "      200    0.009    0.000    0.232    0.001 signaltools.py:282(fftconvolve)\n",
      "      200    0.001    0.000    0.002    0.000 signaltools.py:385(<listcomp>)\n",
      "      200    0.001    0.000    0.001    0.000 signaltools.py:386(<listcomp>)\n",
      "      600    0.001    0.000    0.001    0.000 signaltools.py:419(_numeric_arrays)\n",
      "      200    0.000    0.000    0.000    0.000 signaltools.py:440(_prod)\n",
      "      200    0.001    0.000    0.004    0.000 signaltools.py:451(_fftconv_faster)\n",
      "      200    0.000    0.000    0.000    0.000 signaltools.py:462(<listcomp>)\n",
      "     1400    0.001    0.000    0.001    0.000 signaltools.py:482(<genexpr>)\n",
      "      200    0.002    0.000    0.008    0.000 signaltools.py:562(choose_conv_method)\n",
      "      200    0.001    0.000    0.001    0.000 signaltools.py:672(<listcomp>)\n",
      "      200    0.002    0.000    0.244    0.001 signaltools.py:685(convolve)\n",
      "      400    0.000    0.000    0.000    0.000 signaltools.py:80(_inputs_swap_needed)\n",
      "      200    0.003    0.000    0.004    0.000 stride_tricks.py:116(_broadcast_to)\n",
      "      400    0.000    0.000    0.000    0.000 stride_tricks.py:121(<genexpr>)\n",
      "      200    0.000    0.000    0.004    0.000 stride_tricks.py:136(broadcast_to)\n",
      "      200    0.000    0.000    0.000    0.000 stride_tricks.py:25(_maybe_view_as_subclass)\n",
      "      200    0.001    0.000    0.003    0.000 twodim_base.py:191(diag)\n",
      "      200    0.000    0.000    0.000    0.000 type_check.py:237(iscomplexobj)\n",
      "      400    0.000    0.000    0.000    0.000 {built-in method _bisect.bisect_left}\n",
      "      400    0.000    0.000    0.000    0.000 {built-in method builtins.any}\n",
      "        1    0.000    0.000    0.514    0.514 {built-in method builtins.exec}\n",
      "     1400    0.000    0.000    0.000    0.000 {built-in method builtins.getattr}\n",
      "      200    0.000    0.000    0.000    0.000 {built-in method builtins.hasattr}\n",
      "      800    0.000    0.000    0.000    0.000 {built-in method builtins.isinstance}\n",
      "     1400    0.000    0.000    0.000    0.000 {built-in method builtins.issubclass}\n",
      "      200    0.000    0.000    0.000    0.000 {built-in method builtins.iter}\n",
      "     6400    0.001    0.000    0.001    0.000 {built-in method builtins.len}\n",
      "      200    0.001    0.000    0.002    0.000 {built-in method builtins.sum}\n",
      "     1200    0.000    0.000    0.000    0.000 {built-in method math.log}\n",
      "     6800    0.016    0.000    0.016    0.000 {built-in method numpy.core.multiarray.array}\n",
      "      200    0.003    0.000    0.003    0.000 {built-in method numpy.core.multiarray.concatenate}\n",
      "      400    0.093    0.000    0.093    0.000 {built-in method numpy.core.multiarray.dot}\n",
      "      200    0.000    0.000    0.000    0.000 {built-in method numpy.core.multiarray.result_type}\n",
      "      800    0.007    0.000    0.007    0.000 {built-in method numpy.core.multiarray.zeros}\n",
      "      200    0.029    0.000    0.029    0.000 {built-in method numpy.fft.fftpack_lite.cfftb}\n",
      "      400    0.060    0.000    0.060    0.000 {built-in method numpy.fft.fftpack_lite.cfftf}\n",
      "      200    0.027    0.000    0.027    0.000 {built-in method numpy.fft.fftpack_lite.rfftb}\n",
      "      400    0.027    0.000    0.027    0.000 {built-in method numpy.fft.fftpack_lite.rfftf}\n",
      "     1600    0.000    0.000    0.000    0.000 {method 'append' of 'list' objects}\n",
      "      600    0.003    0.000    0.003    0.000 {method 'astype' of 'numpy.ndarray' objects}\n",
      "      200    0.020    0.000    0.020    0.000 {method 'clip' of 'numpy.ndarray' objects}\n",
      "      200    0.000    0.000    0.000    0.000 {method 'conj' of 'numpy.ndarray' objects}\n",
      "      400    0.002    0.000    0.002    0.000 {method 'copy' of 'numpy.ndarray' objects}\n",
      "      200    0.001    0.000    0.001    0.000 {method 'diagonal' of 'numpy.ndarray' objects}\n",
      "        1    0.000    0.000    0.000    0.000 {method 'disable' of '_lsprof.Profiler' objects}\n",
      "      200    0.000    0.000    0.009    0.000 {method 'mean' of 'numpy.ndarray' objects}\n",
      "      400    0.001    0.000    0.001    0.000 {method 'mro' of 'type' objects}\n",
      "      202    0.004    0.000    0.004    0.000 {method 'normal' of 'mtrand.RandomState' objects}\n",
      "     2400    0.001    0.000    0.001    0.000 {method 'pop' of 'collections.OrderedDict' objects}\n",
      "     1200    0.001    0.000    0.001    0.000 {method 'pop' of 'list' objects}\n",
      "      200    0.005    0.000    0.005    0.000 {method 'reduce' of 'numpy.ufunc' objects}\n",
      "      200    0.000    0.000    0.000    0.000 {method 'squeeze' of 'numpy.ndarray' objects}\n",
      "     1200    0.001    0.000    0.001    0.000 {method 'swapaxes' of 'numpy.ndarray' objects}\n",
      "\n",
      "\n"
     ]
    }
   ],
   "source": [
    "import cProfile\n",
    "from scipy.signal import convolve\n",
    "import numpy as np\n",
    "\n",
    "def pointless_array_operations():\n",
    "    ''' A set of pointless array operations intended to chew up clock time. '''\n",
    "    n = 100\n",
    "    x = np.random.normal(size=(n, n))\n",
    "    y = np.random.normal(size=(n, n))\n",
    "    for i in range(200):\n",
    "        z = np.dot(x, y)\n",
    "        z = convolve(z, np.random.normal(size=(n, 1)))\n",
    "        np.corrcoef(x, z)\n",
    "        \n",
    "cProfile.run('pointless_array_operations()')"
   ]
  },
  {
   "cell_type": "markdown",
   "metadata": {
    "slideshow": {
     "slide_type": "subslide"
    }
   },
   "source": [
    "## ...but don't get carried away\n",
    "* There are many profiling tools\n",
    "* It's easy to get sucked in\n",
    "* \"Premature optimization is the root of all evil\"\n",
    "* Focus on the parts of your code that hamper performance most"
   ]
  },
  {
   "cell_type": "markdown",
   "metadata": {
    "slideshow": {
     "slide_type": "subslide"
    }
   },
   "source": [
    "## Document your code and workflow\n",
    "* Get in the habit of documenting everything you do (not just code)\n",
    "* Tell your users (including yourself) the story of what your analyses are doing\n",
    "* The Jupyter notebook makes this easy\n",
    "    * There are plenty of excellent examples on the web (e.g., [1](http://beautifuldata.net/2014/03/datalicious-notebookmania-my-favorite-7-ipython-notebooks/), [2](https://github.com/donnemartin/data-science-ipython-notebooks), [3](https://github.com/ipython/ipython/wiki/A-gallery-of-interesting-IPython-Notebooks))"
   ]
  },
  {
   "cell_type": "markdown",
   "metadata": {
    "slideshow": {
     "slide_type": "slide"
    }
   },
   "source": [
    "# Resources/further reading\n",
    "\n",
    "There are hundreds of excellent resources online for learning Python and/or data science. A few good ones:\n",
    "\n",
    "* CodeAcademy offers interactive programming courses for many languages and tools, including [Python](https://www.codecademy.com/learn/python) and [git](https://www.codecademy.com/learn/learn-git)\n",
    "* [A Whirlwind Tour of Python](http://www.oreilly.com/programming/free/files/a-whirlwind-tour-of-python.pdf) is an excellent intro to Python by [Jake VanderPlas](https://staff.washington.edu/jakevdp/); Jupyter notebooks are available [here](https://github.com/jakevdp/WhirlwindTourOfPython)\n",
    "* Jake's [Python Data Science Handbook](https://github.com/jakevdp/PythonDataScienceHandbook) is also available online as a set of notebooks\n",
    "* Kaggle maintains a nice list of [data science and Python tutorials](https://www.kaggle.com/wiki/Tutorials)\n",
    "* GitHub offers a [hands-on introduction](https://try.github.io/levels/1/challenges/1) to git (with GitHub); the official [Pro Git](https://git-scm.com/book/en/v2/) book provides a more comprehensive guide"
   ]
  },
  {
   "cell_type": "markdown",
   "metadata": {
    "slideshow": {
     "slide_type": "slide"
    }
   },
   "source": [
    "# Questions? Comments? Suggestions?\n",
    "* I'll stick around for ~20 minutes after every class\n",
    "    * Except Thursday\n",
    "* See you tomorrow!"
   ]
  }
 ],
 "metadata": {
  "celltoolbar": "Slideshow",
  "kernelspec": {
   "display_name": "Python 3",
   "language": "python",
   "name": "python3"
  },
  "language_info": {
   "codemirror_mode": {
    "name": "ipython",
    "version": 3
   },
   "file_extension": ".py",
   "mimetype": "text/x-python",
   "name": "python",
   "nbconvert_exporter": "python",
   "pygments_lexer": "ipython3",
   "version": "3.5.2"
  }
 },
 "nbformat": 4,
 "nbformat_minor": 0
}
