{
 "cells": [
  {
   "cell_type": "markdown",
   "metadata": {
    "slideshow": {
     "slide_type": "slide"
    }
   },
   "source": [
    "# Overview of Day 2\n",
    "* Motivation\n",
    "* A working dataset\n",
    "* Importing data\n",
    "* Pandas data structures\n",
    "* Preprocessing data\n",
    "* Working with text*"
   ]
  },
  {
   "cell_type": "markdown",
   "metadata": {
    "slideshow": {
     "slide_type": "slide"
    }
   },
   "source": [
    "# Motivation\n",
    "* Data preparation is the un-sexy part of data science\n",
    "* But in many ways, the most important part\n",
    "* Choice of statistical estimator sometimes makes no practical difference\n",
    "    * \"More data beats better algorithms\"\n",
    "* Small differences in preprocessing choices can ramify quickly\n",
    "    * E.g., variable smoothing or transformation, outlier removal, etc."
   ]
  },
  {
   "cell_type": "markdown",
   "metadata": {
    "slideshow": {
     "slide_type": "slide"
    }
   },
   "source": [
    "# Dataset\n",
    "* The City of Austin has an [Open Data Portal](https://data.austintexas.gov/) containing many interesting datasets\n",
    "* We'll use [outcome data](https://data.austintexas.gov/Health/Austin-Animal-Center-Outcomes/jpst-ix7f) from the Austin Animal Center\n",
    "* 65,605 outcomes between October 2013, and May 2017\n",
    "* Variables include the type, age, sex, breed, name, and color of the animal, plus the outcome"
   ]
  },
  {
   "cell_type": "markdown",
   "metadata": {
    "slideshow": {
     "slide_type": "subslide"
    }
   },
   "source": [
    "### Some questions we can ask\n",
    "* What do people in Austin name their cats and dogs?\n",
    "* What are the most common dog and cat breeds processed at the animal center?\n",
    "* Do outcomes differ (e.g., euthanasia vs. adoption) for different breeds?\n",
    "    * Are purebred dogs more likely to be adopted than mixes?\n",
    "* Does animal size (e.g., bigger vs. smaller dogs) have any impact on outcomes?\n",
    "* How well can we predict the likely outcome given everything we know about an animal?\n",
    "* Do outcomes vary over time--e.g., by day of week, season, year, etc.?"
   ]
  },
  {
   "cell_type": "markdown",
   "metadata": {
    "slideshow": {
     "slide_type": "subslide"
    }
   },
   "source": [
    "## Import all the things"
   ]
  },
  {
   "cell_type": "markdown",
   "metadata": {
    "slideshow": {
     "slide_type": "skip"
    }
   },
   "source": [
    "It's conventional when writing Python code to list all of the imports at the top of the file. That way you can quickly see exactly what modules and functions are being used, and it's easier to manage dependencies. In the following code cell, we'll import everything we're going to use in this notebook. Don't worry if you don't recognize some of the imported modules; we'll probably talk about them as we go."
   ]
  },
  {
   "cell_type": "code",
   "execution_count": 24,
   "metadata": {
    "collapsed": false,
    "slideshow": {
     "slide_type": "fragment"
    }
   },
   "outputs": [],
   "source": [
    "# We'll consolidate all our imports at the top today\n",
    "import re\n",
    "import numpy as np\n",
    "import pandas as pd\n",
    "import os\n",
    "import matplotlib.pyplot as plt\n",
    "%matplotlib inline\n",
    "\n",
    "# You may need to install the packages below. You can\n",
    "# probably just uncomment the next line and run the cell\n",
    "# !conda install beautifulsoup4 requests seaborn\n",
    "from bs4 import BeautifulSoup\n",
    "import requests\n",
    "import seaborn as sns\n",
    "\n",
    "# Disable annoying SettingWithCopyWarning\n",
    "pd.options.mode.chained_assignment = None"
   ]
  },
  {
   "cell_type": "markdown",
   "metadata": {
    "slideshow": {
     "slide_type": "slide"
    }
   },
   "source": [
    "# Importing data\n",
    "* Before we do anything else, we need to get our data into a usable form\n",
    "* Most commonly, data will come from a flat file\n",
    "* But sometimes we need to retrieve data from other sources\n",
    "* We'll do both"
   ]
  },
  {
   "cell_type": "markdown",
   "metadata": {
    "slideshow": {
     "slide_type": "subslide"
    }
   },
   "source": [
    "### Reading in data with the standard library\n",
    "There are many ways to read in data into Python. Let's start by using the standard library, though in practice you would rarely want to do it this way."
   ]
  },
  {
   "cell_type": "code",
   "execution_count": 25,
   "metadata": {
    "collapsed": false,
    "slideshow": {
     "slide_type": "fragment"
    }
   },
   "outputs": [
    {
     "name": "stdout",
     "output_type": "stream",
     "text": [
      "Found 65605 rows.\n"
     ]
    }
   ],
   "source": [
    "filename = '../data/Austin_Animal_Center_Outcomes.csv'\n",
    "data = []  # Initialize an empty list to store the data\n",
    "\n",
    "# Loop over rows in the file. readlines() returns a list of\n",
    "# lines, so we can directly iterate it to get each line.\n",
    "for line in open(filename).readlines():\n",
    "    # Strip beginning or trailing whitespace from each line\n",
    "    line = line.strip()\n",
    "    # Split the comma-separated values into a list\n",
    "    line = line.split(',')\n",
    "    # Append the row to the dataset\n",
    "    data.append(line)\n",
    "\n",
    "print(\"Found {} rows.\".format(len(data)))"
   ]
  },
  {
   "cell_type": "code",
   "execution_count": 26,
   "metadata": {
    "collapsed": false,
    "slideshow": {
     "slide_type": "fragment"
    }
   },
   "outputs": [
    {
     "data": {
      "text/plain": [
       "['A736765',\n",
       " '*Bailey',\n",
       " '10/22/2016 05:45:00 PM',\n",
       " '10/22/2016 05:45:00 PM',\n",
       " '10/16/2014',\n",
       " 'Adoption',\n",
       " '',\n",
       " 'Dog',\n",
       " 'Spayed Female',\n",
       " '2 years',\n",
       " 'Pit Bull Mix',\n",
       " 'Blue/White']"
      ]
     },
     "execution_count": 26,
     "metadata": {},
     "output_type": "execute_result"
    }
   ],
   "source": [
    "# Print the 1000th row to see what it looks like\n",
    "data[1000]"
   ]
  },
  {
   "cell_type": "markdown",
   "metadata": {
    "slideshow": {
     "slide_type": "skip"
    }
   },
   "source": [
    "The problem with approaches like the one above is that the data lack a tabular format, making it very hard to operate over rows or columns. We're much better off using the _pandas_ package to hold our data in a pandas DataFrame (DF)--a data structure that wraps around numpy arrays and is expressly designed to support a range of powerful operations over data. Reading a dataset into a pandas DF is very easy with the workhorse [read_csv()](http://pandas.pydata.org/pandas-docs/stable/generated/pandas.read_csv.html) or [read_table()](http://pandas.pydata.org/pandas-docs/stable/generated/pandas.read_table.html) methods. These methods take a large number of optional arguments that make it easy to read in almost any kind of orderly data represented in a text file."
   ]
  },
  {
   "cell_type": "markdown",
   "metadata": {
    "slideshow": {
     "slide_type": "subslide"
    }
   },
   "source": [
    "#### Reading data, the pandas way"
   ]
  },
  {
   "cell_type": "code",
   "execution_count": 27,
   "metadata": {
    "collapsed": false,
    "scrolled": false,
    "slideshow": {
     "slide_type": "fragment"
    }
   },
   "outputs": [],
   "source": [
    "# Pandas can read data from either a local file or a remote URL.\n",
    "# We'll default to reading directly from GitHub, but if you have\n",
    "# the Animal Center data available locally, comment out the next\n",
    "# line and uncomment the following one for faster loading.\n",
    "filename = \"https://raw.githubusercontent.com/tyarkoni/SSI2017/master/data/Austin_Animal_Center_Outcomes.csv\"\n",
    "# filename = \"../data/Austin_Animal_Center_Outcomes.csv\"\n",
    "\n",
    "# The workhorse data-reading method in pandas.\n",
    "# It accepts a LOT of optional arguments--\n",
    "# see http://pandas.pydata.org/pandas-docs/stable/generated/pandas.read_csv.html\n",
    "data = pd.read_csv(filename)"
   ]
  },
  {
   "cell_type": "code",
   "execution_count": 28,
   "metadata": {
    "collapsed": false,
    "slideshow": {
     "slide_type": "fragment"
    }
   },
   "outputs": [
    {
     "data": {
      "text/html": [
       "<div>\n",
       "<style>\n",
       "    .dataframe thead tr:only-child th {\n",
       "        text-align: right;\n",
       "    }\n",
       "\n",
       "    .dataframe thead th {\n",
       "        text-align: left;\n",
       "    }\n",
       "\n",
       "    .dataframe tbody tr th {\n",
       "        vertical-align: top;\n",
       "    }\n",
       "</style>\n",
       "<table border=\"1\" class=\"dataframe\">\n",
       "  <thead>\n",
       "    <tr style=\"text-align: right;\">\n",
       "      <th></th>\n",
       "      <th>Animal ID</th>\n",
       "      <th>Name</th>\n",
       "      <th>DateTime</th>\n",
       "      <th>MonthYear</th>\n",
       "      <th>Date of Birth</th>\n",
       "      <th>Outcome Type</th>\n",
       "      <th>Outcome Subtype</th>\n",
       "      <th>Animal Type</th>\n",
       "      <th>Sex upon Outcome</th>\n",
       "      <th>Age upon Outcome</th>\n",
       "      <th>Breed</th>\n",
       "      <th>Color</th>\n",
       "    </tr>\n",
       "  </thead>\n",
       "  <tbody>\n",
       "    <tr>\n",
       "      <th>0</th>\n",
       "      <td>A741715</td>\n",
       "      <td>*Pebbles</td>\n",
       "      <td>01/11/2017 06:17:00 PM</td>\n",
       "      <td>01/11/2017 06:17:00 PM</td>\n",
       "      <td>03/07/2016</td>\n",
       "      <td>Adoption</td>\n",
       "      <td>NaN</td>\n",
       "      <td>Cat</td>\n",
       "      <td>Spayed Female</td>\n",
       "      <td>10 months</td>\n",
       "      <td>Domestic Shorthair Mix</td>\n",
       "      <td>Calico</td>\n",
       "    </tr>\n",
       "    <tr>\n",
       "      <th>1</th>\n",
       "      <td>A658751</td>\n",
       "      <td>Benji</td>\n",
       "      <td>11/13/2016 01:38:00 PM</td>\n",
       "      <td>11/13/2016 01:38:00 PM</td>\n",
       "      <td>07/14/2011</td>\n",
       "      <td>Return to Owner</td>\n",
       "      <td>NaN</td>\n",
       "      <td>Dog</td>\n",
       "      <td>Neutered Male</td>\n",
       "      <td>5 years</td>\n",
       "      <td>Border Terrier Mix</td>\n",
       "      <td>Tan</td>\n",
       "    </tr>\n",
       "    <tr>\n",
       "      <th>2</th>\n",
       "      <td>A721285</td>\n",
       "      <td>NaN</td>\n",
       "      <td>02/24/2016 02:42:00 PM</td>\n",
       "      <td>02/24/2016 02:42:00 PM</td>\n",
       "      <td>02/24/2014</td>\n",
       "      <td>Euthanasia</td>\n",
       "      <td>Suffering</td>\n",
       "      <td>Other</td>\n",
       "      <td>Unknown</td>\n",
       "      <td>2 years</td>\n",
       "      <td>Raccoon Mix</td>\n",
       "      <td>Black/Gray</td>\n",
       "    </tr>\n",
       "    <tr>\n",
       "      <th>3</th>\n",
       "      <td>A707443</td>\n",
       "      <td>NaN</td>\n",
       "      <td>07/13/2015 01:50:00 PM</td>\n",
       "      <td>07/13/2015 01:50:00 PM</td>\n",
       "      <td>06/21/2015</td>\n",
       "      <td>Transfer</td>\n",
       "      <td>Partner</td>\n",
       "      <td>Cat</td>\n",
       "      <td>Intact Female</td>\n",
       "      <td>3 weeks</td>\n",
       "      <td>Domestic Longhair Mix</td>\n",
       "      <td>Black Smoke</td>\n",
       "    </tr>\n",
       "    <tr>\n",
       "      <th>4</th>\n",
       "      <td>A684346</td>\n",
       "      <td>NaN</td>\n",
       "      <td>07/22/2014 04:04:00 PM</td>\n",
       "      <td>07/22/2014 04:04:00 PM</td>\n",
       "      <td>07/07/2014</td>\n",
       "      <td>Transfer</td>\n",
       "      <td>Partner</td>\n",
       "      <td>Cat</td>\n",
       "      <td>Intact Male</td>\n",
       "      <td>2 weeks</td>\n",
       "      <td>Domestic Shorthair Mix</td>\n",
       "      <td>Orange Tabby</td>\n",
       "    </tr>\n",
       "  </tbody>\n",
       "</table>\n",
       "</div>"
      ],
      "text/plain": [
       "  Animal ID      Name                DateTime               MonthYear  \\\n",
       "0   A741715  *Pebbles  01/11/2017 06:17:00 PM  01/11/2017 06:17:00 PM   \n",
       "1   A658751     Benji  11/13/2016 01:38:00 PM  11/13/2016 01:38:00 PM   \n",
       "2   A721285       NaN  02/24/2016 02:42:00 PM  02/24/2016 02:42:00 PM   \n",
       "3   A707443       NaN  07/13/2015 01:50:00 PM  07/13/2015 01:50:00 PM   \n",
       "4   A684346       NaN  07/22/2014 04:04:00 PM  07/22/2014 04:04:00 PM   \n",
       "\n",
       "  Date of Birth     Outcome Type Outcome Subtype Animal Type Sex upon Outcome  \\\n",
       "0    03/07/2016         Adoption             NaN         Cat    Spayed Female   \n",
       "1    07/14/2011  Return to Owner             NaN         Dog    Neutered Male   \n",
       "2    02/24/2014       Euthanasia       Suffering       Other          Unknown   \n",
       "3    06/21/2015         Transfer         Partner         Cat    Intact Female   \n",
       "4    07/07/2014         Transfer         Partner         Cat      Intact Male   \n",
       "\n",
       "  Age upon Outcome                   Breed         Color  \n",
       "0        10 months  Domestic Shorthair Mix        Calico  \n",
       "1          5 years      Border Terrier Mix           Tan  \n",
       "2          2 years             Raccoon Mix    Black/Gray  \n",
       "3          3 weeks   Domestic Longhair Mix   Black Smoke  \n",
       "4          2 weeks  Domestic Shorthair Mix  Orange Tabby  "
      ]
     },
     "execution_count": 28,
     "metadata": {},
     "output_type": "execute_result"
    }
   ],
   "source": [
    "# calling head() on a DataFrame shows the first N rows.\n",
    "# Let's take a look and see what our data look like...\n",
    "data.head(5)"
   ]
  },
  {
   "cell_type": "markdown",
   "metadata": {
    "slideshow": {
     "slide_type": "subslide"
    }
   },
   "source": [
    "## Other formats\n",
    "Pandas has built-in support for [reading from or to other common formats/sources](http://pandas.pydata.org/pandas-docs/stable/io.html):\n",
    "* Generic delimited text -- read_table()\n",
    "* Excel -- read_excel()\n",
    "* JSON -- read_json()\n",
    "* SQL -- read_sql()\n",
    "* Stata -- read_stata()\n",
    "* SAS (XPORT or SAS7BDAT) -- read_sas()\n",
    "* etc..."
   ]
  },
  {
   "cell_type": "markdown",
   "metadata": {
    "slideshow": {
     "slide_type": "subslide"
    }
   },
   "source": [
    "## Scraping data\n",
    "* What if we want to add some data to our dataset?\n",
    "* It would be nice if we had height and weight estimates for dog breeds\n",
    "    * Are there different outcomes for bigger vs. smaller dogs?\n",
    "* We track down a website that has some [breed information](http://www.wisdompanel.com/breed_count_matters/breedlisting/?browseby=size&F_All=Y)\n",
    "* Now we need to \"scrape\" that data and get it into Python/pandas"
   ]
  },
  {
   "cell_type": "code",
   "execution_count": 12,
   "metadata": {
    "collapsed": false,
    "scrolled": true,
    "slideshow": {
     "slide_type": "subslide"
    }
   },
   "outputs": [
    {
     "name": "stdout",
     "output_type": "stream",
     "text": [
      "Retrieving data for 211 breeds.\n",
      "Retrieved breed data:  ['Affenpinscher', '5', '14', '9', 'Companion']\n",
      "Retrieved breed data:  ['Afghan Hound', '40', '77', '25', 'Middle East and African']\n",
      "Retrieved breed data:  ['Airedale Terrier', '36', '67', '22', 'Terrier']\n",
      "Retrieved breed data:  ['Akita', '60', '121', '24', 'Asian']\n",
      "Retrieved breed data:  ['Alaskan Klee Kai', '12', '24', '13', 'Asian']\n",
      "Retrieved breed data:  ['Alaskan Malamute', '61', '105', '23', 'Asian']\n",
      "Retrieved breed data:  ['American Bulldog', '62', '118', '20', 'Guard']\n",
      "Retrieved breed data:  ['American English Coonhound', '40', '65', '23', 'Hound']\n",
      "Retrieved breed data:  ['American Eskimo Dog', '16', '30', '9', 'Companion']\n",
      "Retrieved breed data:  ['American Foxhound', '42', '67', '21', 'Hound']\n",
      "Retrieved breed data:  ['American Hairless Terrier', '7', '17', '7', 'Terrier']\n",
      "Retrieved breed data:  ['American Staffordshire Terrier', '38', '68', '17', 'Guard']\n",
      "Retrieved breed data:  ['American Water Spaniel', '26', '51', '15', 'Sporting']\n",
      "Retrieved breed data:  ['Anatolian Shepherd Dog', '81', '147', '27', 'Middle East and African']\n",
      "Retrieved breed data:  ['Argentine Dogo', '77', '124', '23', 'Guard']\n",
      "Retrieved breed data:  ['Australian Cattle Dog', '31', '53', '17', 'Herding']\n",
      "Retrieved breed data:  ['Australian Kelpie', '25', '45', '17', 'Herding']\n",
      "Retrieved breed data:  ['Australian Koolie', '33', '49', '12', 'Herding']\n",
      "Retrieved breed data:  ['Australian Shepherd Dog', '38', '66', '18', 'Herding']\n",
      "Retrieved breed data:  ['Australian Terrier', '8', '17', '9', 'Terrier']\n",
      "Retrieved breed data:  ['Basenji', '16', '34', '15', 'Middle East and African']\n",
      "Retrieved breed data:  ['Basset Hound', '49', '77', '11', 'Hound']\n",
      "Retrieved breed data:  ['Beagle', '17', '37', '13', 'Hound']\n",
      "Retrieved breed data:  ['Bearded Collie', '42', '66', '20', 'Herding']\n",
      "Retrieved breed data:  ['Beauceron', '57', '88', '24', 'Herding']\n",
      "Retrieved breed data:  ['Bedlington Terrier', '16', '30', '15', 'Terrier']\n",
      "Retrieved breed data:  ['Belgian Malinois', '40', '83', '22', 'Herding']\n",
      "Retrieved breed data:  ['Belgian Sheepdog', '40', '83', '22', 'Herding']\n",
      "Retrieved breed data:  ['Belgian Tervuren', '40', '83', '22', 'Herding']\n",
      "Retrieved breed data:  ['Bergamasco', '57', '84', '21', 'Herding']\n",
      "Retrieved breed data:  ['Berger Picard', '51', '71', '21', 'Herding']\n",
      "Retrieved breed data:  ['Bernese Mountain Dog', '70', '123', '23', 'Mountain Dogs']\n",
      "Retrieved breed data:  ['Bichon Frise', '6', '16', '9', 'Companion']\n",
      "Retrieved breed data:  ['Biewer Terrier', '3', '11', '8', 'Terrier']\n",
      "Retrieved breed data:  ['Black and Tan Coonhound', '48', '85', '23', 'Hound']\n",
      "Retrieved breed data:  ['Black Russian Terrier', '78', '124', '27', 'Terrier']\n",
      "Retrieved breed data:  ['Bloodhound', '75', '121', '23', 'Hound']\n",
      "Retrieved breed data:  ['Bluetick Coonhound', '50', '78', '21', 'Hound']\n",
      "Retrieved breed data:  ['Bolognese', '4', '13', '10', 'Companion']\n",
      "Retrieved breed data:  ['Border Collie', '31', '53', '18', 'Herding']\n",
      "Retrieved breed data:  ['Border Terrier', '9', '22', '11', 'Terrier']\n",
      "Retrieved breed data:  ['Borzoi', '59', '111', '27', 'Sighthound']\n",
      "Retrieved breed data:  ['Boston Terrier', '15', '29', '14', 'Guard']\n",
      "Retrieved breed data:  ['Bouvier des Flandres', '60', '103', '22', 'Herding']\n",
      "Retrieved breed data:  ['Boxer', '49', '77', '21', 'Guard']\n",
      "Retrieved breed data:  ['Boykin Spaniel', '23', '48', '14', 'Sporting']\n",
      "Retrieved breed data:  ['Briard', '48', '97', '22', 'Herding']\n",
      "Retrieved breed data:  ['Brittany', '27', '50', '18', 'Sporting']\n",
      "Retrieved breed data:  ['Brussels Griffon', '6', '14', '7', 'Companion']\n",
      "Retrieved breed data:  ['Bull Terrier', '44', '82', '17', 'Guard']\n",
      "Retrieved breed data:  ['Bulldog', '32', '68', '25', 'Guard']\n",
      "Retrieved breed data:  ['Bullmastiff', '78', '144', '24', 'Guard']\n",
      "Retrieved breed data:  ['Cairn Terrier', '11', '23', '11', 'Terrier']\n",
      "Retrieved breed data:  ['Canaan Dog', '36', '64', '19', 'Middle East and African']\n",
      "Retrieved breed data:  ['Cane Corso', '80', '120', '23', 'Guard']\n",
      "Retrieved breed data:  ['Cardigan Welsh Corgi', '23', '42', '10', 'Herding']\n",
      "Retrieved breed data:  ['Catahoula Leopard Dog', '45', '87', '20', 'Hound']\n",
      "Retrieved breed data:  ['Cavalier King Charles Spaniel', '11', '23', '12', 'Sporting']\n",
      "Retrieved breed data:  ['Cesky Terrier', '12', '24', '10', 'Terrier']\n",
      "Retrieved breed data:  ['Chesapeake Bay Retriever', '48', '87', '21', 'Sporting']\n",
      "Retrieved breed data:  ['Chihuahua', '2', '9', '6', 'Terrier']\n",
      "Retrieved breed data:  ['Chinese Crested', '7', '16', '9', 'Terrier']\n",
      "Retrieved breed data:  ['Chinese Shar-Pei', '40', '68', '18', 'Asian']\n",
      "Retrieved breed data:  ['Chinook', '59', '97', '21', 'Herding']\n",
      "Retrieved breed data:  ['Chow Chow', '42', '69', '18', 'Asian']\n",
      "Retrieved breed data:  [\"Cirneco dell'Etna\", '17', '26', '17', 'Hound']\n",
      "Retrieved breed data:  ['Clumber Spaniel', '53', '94', '16', 'Sporting']\n",
      "Retrieved breed data:  ['Cocker Spaniel', '19', '36', '14', 'Sporting']\n",
      "Retrieved breed data:  ['Collie', '44', '79', '20', 'Herding']\n",
      "Retrieved breed data:  ['Coton de Tulear', '11', '20', '9', 'Companion']\n",
      "Retrieved breed data:  ['Curly-Coated Retriever', '58', '90', '25', 'Sporting']\n",
      "Retrieved breed data:  ['Dachshund', '17', '32', '14', 'Terrier']\n",
      "Retrieved breed data:  ['Dalmatian', '39', '75', '23', 'Sporting']\n",
      "Retrieved breed data:  ['Dandie Dinmont Terrier', '16', '30', '8', 'Terrier']\n",
      "Retrieved breed data:  ['Doberman Pinscher', '60', '117', '24', 'Guard']\n",
      "Retrieved breed data:  ['Dogue De Bordeaux', '93', '151', '23', 'Guard']\n",
      "Retrieved breed data:  ['English Cocker Spaniel', '23', '41', '15', 'Sporting']\n",
      "Retrieved breed data:  ['English Foxhound', '32', '67', '21', 'Hound']\n",
      "Retrieved breed data:  ['English Setter', '49', '77', '23', 'Sporting']\n",
      "Retrieved breed data:  ['English Springer Spaniel', '32', '68', '19', 'Sporting']\n",
      "Retrieved breed data:  ['English Toy Spaniel', '8', '17', '9', 'Sporting']\n",
      "Retrieved breed data:  ['Entlebucher Mountain Dog', '35', '60', '19', 'Mountain Dogs']\n",
      "Retrieved breed data:  ['Field Spaniel', '38', '64', '17', 'Sporting']\n",
      "Retrieved breed data:  ['Finnish Lapphund', '24', '55', '16', 'Hound']\n",
      "Retrieved breed data:  ['Finnish Spitz', '23', '48', '15', 'Companion']\n",
      "Retrieved breed data:  ['Flat-Coated Retriever', '51', '87', '22', 'Sporting']\n",
      "Retrieved breed data:  ['French Bulldog', '19', '34', '12', 'Guard']\n",
      "Retrieved breed data:  ['German Pinscher', '24', '43', '16', 'Terrier']\n",
      "Retrieved breed data:  ['German Shepherd Dog', '48', '97', '22', 'Herding']\n",
      "Retrieved breed data:  ['German Shorthaired Pointer', '42', '79', '21', 'Sporting']\n",
      "Retrieved breed data:  ['German Spitz', '21', '43', '9', 'Companion']\n",
      "Retrieved breed data:  ['German Wirehaired Pointer', '42', '82', '22', 'Sporting']\n",
      "Retrieved breed data:  ['Giant Schnauzer', '59', '97', '23', 'Terrier']\n",
      "Retrieved breed data:  ['Glen of Imaal Terrier', '26', '46', '14', 'Terrier']\n",
      "Retrieved breed data:  ['Golden Retriever', '46', '80', '20', 'Sporting']\n",
      "Retrieved breed data:  ['Gordon Setter', '44', '83', '25', 'Sporting']\n",
      "Retrieved breed data:  ['Great Dane', '96', '153', '29', 'Guard']\n",
      "Retrieved breed data:  ['Great Pyrenees', '66', '138', '25', 'Herding']\n",
      "Retrieved breed data:  ['Greater Swiss Mountain Dog', '59', '110', '23', 'Mountain Dogs']\n",
      "Retrieved breed data:  ['Greyhound', '54', '83', '27', 'Sighthound']\n",
      "Retrieved breed data:  ['Harrier', '34', '67', '19', 'Hound']\n",
      "Retrieved breed data:  ['Havanese', '7', '16', '8', 'Companion']\n",
      "Retrieved breed data:  ['Ibizan Hound', '33', '64', '22', 'Sighthound']\n",
      "Retrieved breed data:  ['Icelandic Sheepdog', '21', '39', '16', 'Companion']\n",
      "Retrieved breed data:  ['Irish Red and White Setter', '46', '85', '22', 'Sporting']\n",
      "Retrieved breed data:  ['Irish Setter', '48', '88', '25', 'Sporting']\n",
      "Retrieved breed data:  ['Irish Terrier', '19', '38', '16', 'Terrier']\n",
      "Retrieved breed data:  ['Irish Water Spaniel', '44', '70', '20', 'Sporting']\n",
      "Retrieved breed data:  ['Irish Wolfhound', '85', '156', '28', 'Sighthound']\n",
      "Retrieved breed data:  ['Italian Greyhound', '5', '14', '9', 'Sighthound']\n",
      "Retrieved breed data:  ['Japanese Chin', '6', '15', '7', 'Companion']\n",
      "Retrieved breed data:  ['Japanese Spitz', '17', '32', '10', 'Companion']\n",
      "Retrieved breed data:  ['Korean Jindo', '30', '61', '16', 'Asian']\n",
      "Retrieved breed data:  ['Keeshond', '28', '60', '17', 'Companion']\n",
      "Retrieved breed data:  ['Kerry Blue Terrier', '25', '50', '18', 'Terrier']\n",
      "Retrieved breed data:  ['Komondor', '57', '100', '26', 'Herding']\n",
      "Retrieved breed data:  ['Kuvasz', '61', '122', '26', 'Herding']\n",
      "Retrieved breed data:  ['Labrador Retriever', '49', '77', '21', 'Sporting']\n",
      "Retrieved breed data:  ['Lagotto Romagnolo', '20', '40', '16', 'Sporting']\n",
      "Retrieved breed data:  ['Lakeland Terrier', '12', '24', '14', 'Terrier']\n",
      "Retrieved breed data:  ['Lancashire Heeler', '8', '18', '10', 'Terrier']\n",
      "Retrieved breed data:  ['Large Münsterlander', '54', '83', '23', 'Sporting']\n",
      "Retrieved breed data:  ['Leonberger', '75', '110', '26', 'Mountain Dogs']\n",
      "Retrieved breed data:  ['Lhasa Apso', '9', '19', '10', 'Companion']\n",
      "Retrieved breed data:  ['Löwchen', '9', '20', '10', 'Companion']\n",
      "Retrieved breed data:  ['Maltese', '5', '13', '8', 'Companion']\n",
      "Retrieved breed data:  ['Manchester Terrier', '13', '25', '15', 'Terrier']\n",
      "Retrieved breed data:  ['Mastiff', '128', '200', '27', 'Guard']\n",
      "Retrieved breed data:  ['Mi-ki', '3', '11', '7', 'Companion']\n",
      "Retrieved breed data:  ['Miniature Bull Terrier', '22', '40', '10', 'Guard']\n",
      "Retrieved breed data:  ['Miniature Pinscher', '4', '12', '10', 'Terrier']\n",
      "Retrieved breed data:  ['Miniature Schnauzer', '9', '19', '13', 'Terrier']\n",
      "Retrieved breed data:  ['Mudi', '17', '29', '14', 'Herding']\n",
      "Retrieved breed data:  ['Neapolitan Mastiff', '90', '153', '24', 'Guard']\n",
      "Retrieved breed data:  ['Newfoundland', '86', '163', '26', 'Mountain Dogs']\n",
      "Retrieved breed data:  ['Norfolk Terrier', '8', '17', '10', 'Terrier']\n",
      "Retrieved breed data:  ['Norwegian Buhund', '24', '49', '16', 'Companion']\n",
      "Retrieved breed data:  ['Norwegian Elkhound', '35', '70', '18', 'Companion']\n",
      "Retrieved breed data:  ['Norwegian Lundehund', '13', '16', '12', 'Hound']\n",
      "Retrieved breed data:  ['Norwich Terrier', '8', '17', '10', 'Terrier']\n",
      "Retrieved breed data:  ['Nova Scotia Duck Tolling Retriever', '32', '68', '17', 'Sporting']\n",
      "Retrieved breed data:  ['Old English Sheepdog', '57', '100', '22', 'Herding']\n",
      "Retrieved breed data:  ['Otterhound', '58', '118', '24', 'Hound']\n",
      "Retrieved breed data:  ['Papillon', '4', '12', '8', 'Companion']\n",
      "Retrieved breed data:  ['Parson Russell Terrier', '11', '23', '11', 'Terrier']\n",
      "Retrieved breed data:  ['Pekingese', '6', '15', '7', 'Companion']\n",
      "Retrieved breed data:  ['Pembroke Welsh Corgi', '18', '42', '10', 'Herding']\n",
      "Retrieved breed data:  ['Petit Basset Griffon Vendeen', '31', '40', '13', 'Hound']\n",
      "Retrieved breed data:  ['Pharaoh Hound', '40', '68', '21', 'Sighthound']\n",
      "Retrieved breed data:  ['Plott Hound', '38', '72', '20', 'Hound']\n",
      "Retrieved breed data:  ['Pointer', '44', '82', '24', 'Sporting']\n",
      "Retrieved breed data:  ['Polish Lowland Sheepdog', '31', '53', '16', 'Herding']\n",
      "Retrieved breed data:  ['Pomeranian', '3', '10', '7', 'Companion']\n",
      "Retrieved breed data:  ['Portuguese Podengo Pequeno', '9', '13', '8', 'Terrier']\n",
      "Retrieved breed data:  ['Portuguese Water Dog', '33', '66', '17', 'Sporting']\n",
      "Retrieved breed data:  ['Presa Canario', '73', '117', '22', 'Guard']\n",
      "Retrieved breed data:  ['Pug', '12', '24', '12', 'Companion']\n",
      "Retrieved breed data:  ['Puli', '20', '43', '14', 'Herding']\n",
      "Retrieved breed data:  ['Pumi', '17', '33', '15', 'Herding']\n",
      "Retrieved breed data:  ['Pyrenean Shepherd', '15', '32', '16', 'Herding']\n",
      "Retrieved breed data:  ['Rat Terrier', '10', '25', '10', 'Terrier']\n",
      "Retrieved breed data:  ['Redbone Coonhound', '49', '90', '21', 'Hound']\n",
      "Retrieved breed data:  ['Rhodesian Ridgeback', '59', '97', '24', 'Middle East and African']\n",
      "Retrieved breed data:  ['Rottweiler', '72', '132', '23', 'Guard']\n",
      "Retrieved breed data:  ['Russell Terrier', '12', '24', '10', 'Terrier']\n",
      "Retrieved breed data:  ['Saint Bernard', '106', '186', '32', 'Mountain Dogs']\n",
      "Retrieved breed data:  ['Saluki', '40', '67', '23', 'Middle East and African']\n",
      "Retrieved breed data:  ['Samoyed', '37', '70', '18', 'Asian']\n",
      "Retrieved breed data:  ['Schipperke', '9', '19', '9', 'Companion']\n",
      "Retrieved breed data:  ['Scottish Deerhound', '62', '121', '28', 'Sighthound']\n",
      "Retrieved breed data:  ['Scottish Terrier', '16', '30', '10', 'Terrier']\n",
      "Retrieved breed data:  ['Sealyham Terrier', '13', '29', '11', 'Terrier']\n",
      "Retrieved breed data:  ['Shetland Sheepdog', '12', '24', '13', 'Herding']\n",
      "Retrieved breed data:  ['Shiba Inu', '15', '29', '13', 'Asian']\n",
      "Retrieved breed data:  ['Shih Tzu', '10', '21', '10', 'Companion']\n",
      "Retrieved breed data:  ['Siberian Husky', '34', '67', '21', 'Asian']\n",
      "Retrieved breed data:  ['Silky Terrier', '6', '15', '9', 'Terrier']\n",
      "Retrieved breed data:  ['Skye Terrier', '19', '42', '9', 'Terrier']\n",
      "Retrieved breed data:  ['Sloughi', '35', '65', '24', 'Middle East and African']\n",
      "Retrieved breed data:  ['Small Münsterlander', '35', '50', '17', 'Sporting']\n",
      "Retrieved breed data:  ['Fox Terrier (Smooth)', '12', '28', '15', 'Terrier']\n",
      "Retrieved breed data:  ['Soft Coated Wheaten Terrier', '24', '51', '18', 'Terrier']\n",
      "Retrieved breed data:  ['Spanish Water Dog', '24', '54', '16', 'Sporting']\n",
      "Retrieved breed data:  ['Spinone Italiano', '52', '96', '22', 'Sporting']\n",
      "Retrieved breed data:  ['Staffordshire Bull Terrier', '23', '46', '13', 'Guard']\n",
      "Retrieved breed data:  ['Standard Schnauzer', '26', '46', '18', 'Terrier']\n",
      "Retrieved breed data:  ['Sussex Spaniel', '32', '55', '15', 'Sporting']\n",
      "Retrieved breed data:  ['Swedish Vallhund', '20', '36', '12', 'Companion']\n",
      "Retrieved breed data:  ['Tibetan Mastiff', '140', '170', '25', 'Asian']\n",
      "Retrieved breed data:  ['Tibetan Spaniel', '9', '19', '9', 'Companion']\n",
      "Retrieved breed data:  ['Tibetan Terrier', '18', '33', '14', 'Companion']\n",
      "Retrieved breed data:  ['Fox Terrier (Toy)', '3', '10', '9', 'Terrier']\n",
      "Retrieved breed data:  ['Treeing Walker Coonhound', '48', '76', '20', 'Hound']\n",
      "Retrieved breed data:  ['Vizsla', '46', '73', '21', 'Sporting']\n",
      "Retrieved breed data:  ['Weimaraner', '54', '97', '22', 'Sporting']\n",
      "Retrieved breed data:  ['Welsh Springer Spaniel', '37', '44', '19', 'Sporting']\n",
      "Retrieved breed data:  ['Welsh Terrier', '15', '29', '22', 'Terrier']\n",
      "Retrieved breed data:  ['West Highland White Terrier', '11', '23', '11', 'Terrier']\n",
      "Retrieved breed data:  ['Whippet', '26', '45', '17', 'Sighthound']\n",
      "Retrieved breed data:  ['White Swiss Shepherd', '55', '88', '22', 'Herding']\n",
      "Retrieved breed data:  ['Fox Terrier (Wire)', '12', '28', '15', 'Terrier']\n",
      "Retrieved breed data:  ['Wirehaired Pointing Griffon', '40', '67', '20', 'Sporting']\n",
      "Retrieved breed data:  ['Wirehaired Vizsla', '48', '66', '21', 'Sporting']\n",
      "Retrieved breed data:  ['Xoloitzcuintli', '5', '45', '10', 'Terrier']\n",
      "Retrieved breed data:  ['Yorkshire Terrier', '2', '10', '7', 'Terrier']\n",
      "Successfully saved breed data to ../data/breed_data.csv.\n"
     ]
    }
   ],
   "source": [
    "# To make our requests realistic, we'll pretend we're using Chrome on a Mac.\n",
    "# Without this, many websites will reject our request.\n",
    "headers = { 'User-Agent': 'Mozilla/5.0 (Macintosh; Intel Mac OS X 10_10_1) AppleWebKit/537.36 (KHTML, like Gecko) Chrome/46.0.2227.1 Safari/537.36'}\n",
    "\n",
    "# The page listing all the breeds available from Wisdom Panel\n",
    "url = \"http://www.wisdompanel.com/breed_count_matters/breedlisting/?browseby=size&F_All=Y\"\n",
    "\n",
    "# Get the HTML contents of the page\n",
    "html = requests.get(url).text\n",
    "\n",
    "# Create a BeautifulSoup document\n",
    "soup = BeautifulSoup(html, 'html.parser')\n",
    "\n",
    "# Extract links to all breeds with BeautifulSoup\n",
    "breed_links = soup.select('h3.itemTitle a')\n",
    "\n",
    "breed_links = [\"http://www.wisdompanel.com\" + a['href'] for a in breed_links]\n",
    "print(\"Retrieving data for {} breeds.\".format(len(breed_links)))\n",
    "\n",
    "breed_data = []\n",
    "for breed in breed_links:\n",
    "\n",
    "    try:\n",
    "        breed_html = requests.get(breed, headers=headers).text\n",
    "\n",
    "        # Use regular expressions to extract name, height, width, description, and group\n",
    "        name = re.search('<h4>AKC Name:</h4><p>(.*?)</p>', breed_html, re.DOTALL).group(1)\n",
    "        min_weight, max_weight = re.search('<h4>Observed Weight:</h4><p>(\\d+)[\\s-]+(\\d+)', breed_html, re.DOTALL).groups()\n",
    "        height = re.search('Average Height:\\s+(\\d+)', breed_html, re.DOTALL).group(1)\n",
    "        group = re.search('<h4>Genetic Group:</h4><p>(.*?)</p>', breed_html, re.DOTALL).group(1)\n",
    "        breed_row = [name, min_weight, max_weight, height, group]\n",
    "        print(\"Retrieved breed data: \", breed_row)\n",
    "        breed_data.append(breed_row)\n",
    "        \n",
    "    # Some breed pages have formatting errors, so we'll just skip them\n",
    "    except:\n",
    "        pass\n",
    "\n",
    "# Put the data in a pandas DataFrame\n",
    "breed_data = pd.DataFrame(breed_data, columns=['breed_name', 'min_weight', 'max_weight', 'height', 'group'])\n",
    "\n",
    "# Create output directory if it doesn't exist\n",
    "output_dir = os.path.join('..', 'data')\n",
    "if not os.path.exists(output_dir):\n",
    "    os.makedirs(output_dir)\n",
    "\n",
    "# Save the breed data locally for re-use\n",
    "output_file = os.path.join(output_dir, 'breed_data.csv')\n",
    "breed_data.to_csv(output_file, index=False, encoding='utf8'),\n",
    "print(\"Successfully saved breed data to {}.\".format(output_file))"
   ]
  },
  {
   "cell_type": "markdown",
   "metadata": {
    "slideshow": {
     "slide_type": "subslide"
    }
   },
   "source": [
    "#### The scraped breed data\n",
    "We'll come back later to the breed data we just scraped and saved. But for now, let's see what it looks like."
   ]
  },
  {
   "cell_type": "code",
   "execution_count": 13,
   "metadata": {
    "collapsed": false,
    "slideshow": {
     "slide_type": "fragment"
    }
   },
   "outputs": [
    {
     "data": {
      "text/html": [
       "<div>\n",
       "<style>\n",
       "    .dataframe thead tr:only-child th {\n",
       "        text-align: right;\n",
       "    }\n",
       "\n",
       "    .dataframe thead th {\n",
       "        text-align: left;\n",
       "    }\n",
       "\n",
       "    .dataframe tbody tr th {\n",
       "        vertical-align: top;\n",
       "    }\n",
       "</style>\n",
       "<table border=\"1\" class=\"dataframe\">\n",
       "  <thead>\n",
       "    <tr style=\"text-align: right;\">\n",
       "      <th></th>\n",
       "      <th>breed_name</th>\n",
       "      <th>min_weight</th>\n",
       "      <th>max_weight</th>\n",
       "      <th>height</th>\n",
       "      <th>group</th>\n",
       "    </tr>\n",
       "  </thead>\n",
       "  <tbody>\n",
       "    <tr>\n",
       "      <th>0</th>\n",
       "      <td>Affenpinscher</td>\n",
       "      <td>5</td>\n",
       "      <td>14</td>\n",
       "      <td>9</td>\n",
       "      <td>Companion</td>\n",
       "    </tr>\n",
       "    <tr>\n",
       "      <th>1</th>\n",
       "      <td>Afghan Hound</td>\n",
       "      <td>40</td>\n",
       "      <td>77</td>\n",
       "      <td>25</td>\n",
       "      <td>Middle East and African</td>\n",
       "    </tr>\n",
       "    <tr>\n",
       "      <th>2</th>\n",
       "      <td>Airedale Terrier</td>\n",
       "      <td>36</td>\n",
       "      <td>67</td>\n",
       "      <td>22</td>\n",
       "      <td>Terrier</td>\n",
       "    </tr>\n",
       "    <tr>\n",
       "      <th>3</th>\n",
       "      <td>Akita</td>\n",
       "      <td>60</td>\n",
       "      <td>121</td>\n",
       "      <td>24</td>\n",
       "      <td>Asian</td>\n",
       "    </tr>\n",
       "    <tr>\n",
       "      <th>4</th>\n",
       "      <td>Alaskan Klee Kai</td>\n",
       "      <td>12</td>\n",
       "      <td>24</td>\n",
       "      <td>13</td>\n",
       "      <td>Asian</td>\n",
       "    </tr>\n",
       "  </tbody>\n",
       "</table>\n",
       "</div>"
      ],
      "text/plain": [
       "         breed_name  min_weight  max_weight  height                    group\n",
       "0     Affenpinscher           5          14       9                Companion\n",
       "1      Afghan Hound          40          77      25  Middle East and African\n",
       "2  Airedale Terrier          36          67      22                  Terrier\n",
       "3             Akita          60         121      24                    Asian\n",
       "4  Alaskan Klee Kai          12          24      13                    Asian"
      ]
     },
     "execution_count": 13,
     "metadata": {},
     "output_type": "execute_result"
    }
   ],
   "source": [
    "breed_data = pd.read_csv('https://raw.githubusercontent.com/tyarkoni/SSI2017/master/data/breed_data.csv')\n",
    "\n",
    "breed_data.head()"
   ]
  },
  {
   "cell_type": "markdown",
   "metadata": {
    "slideshow": {
     "slide_type": "subslide"
    }
   },
   "source": [
    "## Regular expressions\n",
    "* The heavy lifting in the previous scraping code is done with regular expressions\n",
    "* A powerful system for detecting and capturing patterns in text\n",
    "* One of the most underutilized features of programming languages\n",
    "* A short regular expression can replace dozens of lines of string-processing code\n",
    "* Lots of good tutorials ([1](https://developers.google.com/edu/python/regular-expressions), [2](http://regexone.com/references/python), [3](http://www.learnpython.org/en/Regular_Expressions))"
   ]
  },
  {
   "cell_type": "code",
   "execution_count": 29,
   "metadata": {
    "collapsed": false,
    "slideshow": {
     "slide_type": "subslide"
    }
   },
   "outputs": [
    {
     "name": "stdout",
     "output_type": "stream",
     "text": [
      "Asian\n"
     ]
    }
   ],
   "source": [
    "# A snippet of HTML from the Alaskan Malamute's breed\n",
    "# website on wisdompanel.com. We want to extract just the\n",
    "# genetic group information.\n",
    "text = '''\n",
    "<div><h3>AKC Name:</h3>Alaskan Malamute<br /><br /><h3>Common Name(s):</h3>Malamute<br /><br />\n",
    "<h3>AKC Group:</h3>Working<br /><br /><h3>Genetic Group:</h3>Asian<br /><br />\n",
    "<h3>Observed Weight:</h3>61-105 lbs<br /><br /><h3>Show Weight:</h3>68-92 lbs</div>\n",
    "'''\n",
    "\n",
    "# Extract with regular expressions. In this case,\n",
    "# We're looking to capture the group of all characters\n",
    "# that occur after '<h3>Genetic Group:</h3>'\n",
    "# and before '<'. We use \"lazy\" matching (the ? in\n",
    "# the group .*?) to indicate that we want the regex\n",
    "# engine to capture the _minimum_ amount of text possible\n",
    "# rather then default greedy behavior, which captures\n",
    "# as much text as possible.\n",
    "\n",
    "pattern = '<h3>Genetic Group:</h3>(.*?)<'\n",
    "\n",
    "# Search for pattern within text.\n",
    "# The re.DOTALL flag indicates that we want to match\n",
    "# across multiple lines of text, including newlines.\n",
    "matches = re.search(pattern, text, re.DOTALL)\n",
    "\n",
    "# Find the first match--i.e., the first group in our\n",
    "# pattern enclosed in parentheses.\n",
    "first_group = matches.group(1)\n",
    "\n",
    "print(first_group)"
   ]
  },
  {
   "cell_type": "markdown",
   "metadata": {
    "slideshow": {
     "slide_type": "subslide"
    }
   },
   "source": [
    "### Some simple regex examples"
   ]
  },
  {
   "cell_type": "code",
   "execution_count": 30,
   "metadata": {
    "collapsed": false,
    "slideshow": {
     "slide_type": "subslide"
    }
   },
   "outputs": [],
   "source": [
    "# Let's define a string we'll apply regexes to\n",
    "text = \"A few additional examples (maybe 4 or 5) illustrating the power of regular expressions!!\""
   ]
  },
  {
   "cell_type": "code",
   "execution_count": 16,
   "metadata": {
    "collapsed": false,
    "slideshow": {
     "slide_type": "fragment"
    }
   },
   "outputs": [
    {
     "data": {
      "text/plain": [
       "'additional examples (maybe 4 or 5) illustrating the power'"
      ]
     },
     "execution_count": 16,
     "metadata": {},
     "output_type": "execute_result"
    }
   ],
   "source": [
    "# All text beginning with 'add' and ending in 'power'.\n",
    "# The period ('.') matches any character; the asterisk indicates\n",
    "# the pattern should be matched as many times as possible.\n",
    "re.search('(add.*power)',  text).group(1)"
   ]
  },
  {
   "cell_type": "code",
   "execution_count": 17,
   "metadata": {
    "collapsed": false,
    "slideshow": {
     "slide_type": "fragment"
    }
   },
   "outputs": [
    {
     "data": {
      "text/plain": [
       "['4', '5']"
      ]
     },
     "execution_count": 17,
     "metadata": {},
     "output_type": "execute_result"
    }
   ],
   "source": [
    "# All numbers in the text. Note the use of findall()\n",
    "# instead of search() or match().\n",
    "re.findall('(\\d+)', text)"
   ]
  },
  {
   "cell_type": "code",
   "execution_count": 18,
   "metadata": {
    "collapsed": false,
    "slideshow": {
     "slide_type": "fragment"
    }
   },
   "outputs": [
    {
     "data": {
      "text/plain": [
       "['examples', 'maybe', 'power', 'regular']"
      ]
     },
     "execution_count": 18,
     "metadata": {},
     "output_type": "execute_result"
    }
   ],
   "source": [
    "# All words between 5 and 8 characters in length\n",
    "re.findall(r'\\b(\\w{5,8})\\b', text)"
   ]
  },
  {
   "cell_type": "markdown",
   "metadata": {
    "slideshow": {
     "slide_type": "slide"
    }
   },
   "source": [
    "# Pandas data structures\n",
    "* Provides functionality similar to data frames in R\n",
    "* Two main data structures: Series and DataFrames\n",
    "* A Series is a 1-dimensional numpy array with axis labels"
   ]
  },
  {
   "cell_type": "code",
   "execution_count": 19,
   "metadata": {
    "collapsed": false,
    "slideshow": {
     "slide_type": "fragment"
    }
   },
   "outputs": [
    {
     "name": "stdout",
     "output_type": "stream",
     "text": [
      "apple     3\n",
      "banana    4\n",
      "orange    5\n",
      "pear      6\n",
      "grapes    7\n",
      "dtype: int64\n"
     ]
    }
   ],
   "source": [
    "# Initialize a Series from a numpy array and index labels\n",
    "a = np.arange(3, 8)\n",
    "b = pd.Series(a, index=['apple', 'banana', 'orange', 'pear', 'grapes'])\n",
    "\n",
    "# Let's take a look...\n",
    "print(b)"
   ]
  },
  {
   "cell_type": "code",
   "execution_count": 20,
   "metadata": {
    "collapsed": false,
    "slideshow": {
     "slide_type": "subslide"
    }
   },
   "outputs": [
    {
     "name": "stdout",
     "output_type": "stream",
     "text": [
      "6\n"
     ]
    }
   ],
   "source": [
    "# Unlike numpy arrays, we can now refer to elements by label.\n",
    "# The syntax is similar to dictionary indexing. You can also\n",
    "# treat labels like attributes (e.g., b.pear), but this runs\n",
    "# the risk of collisions and should be avoided.\n",
    "print(b['pear'])"
   ]
  },
  {
   "cell_type": "code",
   "execution_count": 21,
   "metadata": {
    "collapsed": false,
    "slideshow": {
     "slide_type": "fragment"
    }
   },
   "outputs": [
    {
     "name": "stdout",
     "output_type": "stream",
     "text": [
      "[3 4 5 6 7]\n"
     ]
    }
   ],
   "source": [
    "# We can always retrieve the underlying numpy array with .values\n",
    "print(b.values)"
   ]
  },
  {
   "cell_type": "code",
   "execution_count": 22,
   "metadata": {
    "collapsed": false,
    "slideshow": {
     "slide_type": "fragment"
    }
   },
   "outputs": [
    {
     "name": "stdout",
     "output_type": "stream",
     "text": [
      "orange    5\n",
      "pear      6\n",
      "dtype: int64\n"
     ]
    }
   ],
   "source": [
    "# Many numpy operations work as expected, including slicing\n",
    "print(b[2:4])"
   ]
  },
  {
   "cell_type": "markdown",
   "metadata": {
    "slideshow": {
     "slide_type": "subslide"
    }
   },
   "source": [
    "### The pandas DataFrame\n",
    "* The workhorse of data analysis in pandas\n",
    "* A container of multiple aligned Series\n",
    "* Heterogeneous: a DF's Series can have different dtypes"
   ]
  },
  {
   "cell_type": "markdown",
   "metadata": {
    "slideshow": {
     "slide_type": "subslide"
    }
   },
   "source": [
    "#### Indexing pandas DataFrames\n",
    "* pandas DFs spport [flexible indexing](http://pandas.pydata.org/pandas-docs/stable/indexing.html#indexing) by labels and/or indices\n",
    "    * A common gotcha: R-style indexing won't work\n",
    "    * Be explicit about whether you're using integer or label indexing"
   ]
  },
  {
   "cell_type": "code",
   "execution_count": 31,
   "metadata": {
    "collapsed": false,
    "slideshow": {
     "slide_type": "fragment"
    }
   },
   "outputs": [
    {
     "ename": "KeyError",
     "evalue": "(0, 'Animal Type')",
     "output_type": "error",
     "traceback": [
      "\u001b[0;31m---------------------------------------------------------------------------\u001b[0m",
      "\u001b[0;31mKeyError\u001b[0m                                  Traceback (most recent call last)",
      "\u001b[0;32m/Users/tal/anaconda/lib/python3.5/site-packages/pandas/core/indexes/base.py\u001b[0m in \u001b[0;36mget_loc\u001b[0;34m(self, key, method, tolerance)\u001b[0m\n\u001b[1;32m   2392\u001b[0m             \u001b[0;32mtry\u001b[0m\u001b[0;34m:\u001b[0m\u001b[0;34m\u001b[0m\u001b[0m\n\u001b[0;32m-> 2393\u001b[0;31m                 \u001b[0;32mreturn\u001b[0m \u001b[0mself\u001b[0m\u001b[0;34m.\u001b[0m\u001b[0m_engine\u001b[0m\u001b[0;34m.\u001b[0m\u001b[0mget_loc\u001b[0m\u001b[0;34m(\u001b[0m\u001b[0mkey\u001b[0m\u001b[0;34m)\u001b[0m\u001b[0;34m\u001b[0m\u001b[0m\n\u001b[0m\u001b[1;32m   2394\u001b[0m             \u001b[0;32mexcept\u001b[0m \u001b[0mKeyError\u001b[0m\u001b[0;34m:\u001b[0m\u001b[0;34m\u001b[0m\u001b[0m\n",
      "\u001b[0;32mpandas/_libs/index.pyx\u001b[0m in \u001b[0;36mpandas._libs.index.IndexEngine.get_loc (pandas/_libs/index.c:5239)\u001b[0;34m()\u001b[0m\n",
      "\u001b[0;32mpandas/_libs/index.pyx\u001b[0m in \u001b[0;36mpandas._libs.index.IndexEngine.get_loc (pandas/_libs/index.c:5085)\u001b[0;34m()\u001b[0m\n",
      "\u001b[0;32mpandas/_libs/hashtable_class_helper.pxi\u001b[0m in \u001b[0;36mpandas._libs.hashtable.PyObjectHashTable.get_item (pandas/_libs/hashtable.c:20405)\u001b[0;34m()\u001b[0m\n",
      "\u001b[0;32mpandas/_libs/hashtable_class_helper.pxi\u001b[0m in \u001b[0;36mpandas._libs.hashtable.PyObjectHashTable.get_item (pandas/_libs/hashtable.c:20359)\u001b[0;34m()\u001b[0m\n",
      "\u001b[0;31mKeyError\u001b[0m: (0, 'Animal Type')",
      "\nDuring handling of the above exception, another exception occurred:\n",
      "\u001b[0;31mKeyError\u001b[0m                                  Traceback (most recent call last)",
      "\u001b[0;32m<ipython-input-31-8becaa46696d>\u001b[0m in \u001b[0;36m<module>\u001b[0;34m()\u001b[0m\n\u001b[1;32m      1\u001b[0m \u001b[0;31m# This won't work!\u001b[0m\u001b[0;34m\u001b[0m\u001b[0;34m\u001b[0m\u001b[0m\n\u001b[0;32m----> 2\u001b[0;31m \u001b[0mdata\u001b[0m\u001b[0;34m[\u001b[0m\u001b[0;36m0\u001b[0m\u001b[0;34m,\u001b[0m \u001b[0;34m'Animal Type'\u001b[0m\u001b[0;34m]\u001b[0m\u001b[0;34m\u001b[0m\u001b[0m\n\u001b[0m",
      "\u001b[0;32m/Users/tal/anaconda/lib/python3.5/site-packages/pandas/core/frame.py\u001b[0m in \u001b[0;36m__getitem__\u001b[0;34m(self, key)\u001b[0m\n\u001b[1;32m   2060\u001b[0m             \u001b[0;32mreturn\u001b[0m \u001b[0mself\u001b[0m\u001b[0;34m.\u001b[0m\u001b[0m_getitem_multilevel\u001b[0m\u001b[0;34m(\u001b[0m\u001b[0mkey\u001b[0m\u001b[0;34m)\u001b[0m\u001b[0;34m\u001b[0m\u001b[0m\n\u001b[1;32m   2061\u001b[0m         \u001b[0;32melse\u001b[0m\u001b[0;34m:\u001b[0m\u001b[0;34m\u001b[0m\u001b[0m\n\u001b[0;32m-> 2062\u001b[0;31m             \u001b[0;32mreturn\u001b[0m \u001b[0mself\u001b[0m\u001b[0;34m.\u001b[0m\u001b[0m_getitem_column\u001b[0m\u001b[0;34m(\u001b[0m\u001b[0mkey\u001b[0m\u001b[0;34m)\u001b[0m\u001b[0;34m\u001b[0m\u001b[0m\n\u001b[0m\u001b[1;32m   2063\u001b[0m \u001b[0;34m\u001b[0m\u001b[0m\n\u001b[1;32m   2064\u001b[0m     \u001b[0;32mdef\u001b[0m \u001b[0m_getitem_column\u001b[0m\u001b[0;34m(\u001b[0m\u001b[0mself\u001b[0m\u001b[0;34m,\u001b[0m \u001b[0mkey\u001b[0m\u001b[0;34m)\u001b[0m\u001b[0;34m:\u001b[0m\u001b[0;34m\u001b[0m\u001b[0m\n",
      "\u001b[0;32m/Users/tal/anaconda/lib/python3.5/site-packages/pandas/core/frame.py\u001b[0m in \u001b[0;36m_getitem_column\u001b[0;34m(self, key)\u001b[0m\n\u001b[1;32m   2067\u001b[0m         \u001b[0;31m# get column\u001b[0m\u001b[0;34m\u001b[0m\u001b[0;34m\u001b[0m\u001b[0m\n\u001b[1;32m   2068\u001b[0m         \u001b[0;32mif\u001b[0m \u001b[0mself\u001b[0m\u001b[0;34m.\u001b[0m\u001b[0mcolumns\u001b[0m\u001b[0;34m.\u001b[0m\u001b[0mis_unique\u001b[0m\u001b[0;34m:\u001b[0m\u001b[0;34m\u001b[0m\u001b[0m\n\u001b[0;32m-> 2069\u001b[0;31m             \u001b[0;32mreturn\u001b[0m \u001b[0mself\u001b[0m\u001b[0;34m.\u001b[0m\u001b[0m_get_item_cache\u001b[0m\u001b[0;34m(\u001b[0m\u001b[0mkey\u001b[0m\u001b[0;34m)\u001b[0m\u001b[0;34m\u001b[0m\u001b[0m\n\u001b[0m\u001b[1;32m   2070\u001b[0m \u001b[0;34m\u001b[0m\u001b[0m\n\u001b[1;32m   2071\u001b[0m         \u001b[0;31m# duplicate columns & possible reduce dimensionality\u001b[0m\u001b[0;34m\u001b[0m\u001b[0;34m\u001b[0m\u001b[0m\n",
      "\u001b[0;32m/Users/tal/anaconda/lib/python3.5/site-packages/pandas/core/generic.py\u001b[0m in \u001b[0;36m_get_item_cache\u001b[0;34m(self, item)\u001b[0m\n\u001b[1;32m   1532\u001b[0m         \u001b[0mres\u001b[0m \u001b[0;34m=\u001b[0m \u001b[0mcache\u001b[0m\u001b[0;34m.\u001b[0m\u001b[0mget\u001b[0m\u001b[0;34m(\u001b[0m\u001b[0mitem\u001b[0m\u001b[0;34m)\u001b[0m\u001b[0;34m\u001b[0m\u001b[0m\n\u001b[1;32m   1533\u001b[0m         \u001b[0;32mif\u001b[0m \u001b[0mres\u001b[0m \u001b[0;32mis\u001b[0m \u001b[0;32mNone\u001b[0m\u001b[0;34m:\u001b[0m\u001b[0;34m\u001b[0m\u001b[0m\n\u001b[0;32m-> 1534\u001b[0;31m             \u001b[0mvalues\u001b[0m \u001b[0;34m=\u001b[0m \u001b[0mself\u001b[0m\u001b[0;34m.\u001b[0m\u001b[0m_data\u001b[0m\u001b[0;34m.\u001b[0m\u001b[0mget\u001b[0m\u001b[0;34m(\u001b[0m\u001b[0mitem\u001b[0m\u001b[0;34m)\u001b[0m\u001b[0;34m\u001b[0m\u001b[0m\n\u001b[0m\u001b[1;32m   1535\u001b[0m             \u001b[0mres\u001b[0m \u001b[0;34m=\u001b[0m \u001b[0mself\u001b[0m\u001b[0;34m.\u001b[0m\u001b[0m_box_item_values\u001b[0m\u001b[0;34m(\u001b[0m\u001b[0mitem\u001b[0m\u001b[0;34m,\u001b[0m \u001b[0mvalues\u001b[0m\u001b[0;34m)\u001b[0m\u001b[0;34m\u001b[0m\u001b[0m\n\u001b[1;32m   1536\u001b[0m             \u001b[0mcache\u001b[0m\u001b[0;34m[\u001b[0m\u001b[0mitem\u001b[0m\u001b[0;34m]\u001b[0m \u001b[0;34m=\u001b[0m \u001b[0mres\u001b[0m\u001b[0;34m\u001b[0m\u001b[0m\n",
      "\u001b[0;32m/Users/tal/anaconda/lib/python3.5/site-packages/pandas/core/internals.py\u001b[0m in \u001b[0;36mget\u001b[0;34m(self, item, fastpath)\u001b[0m\n\u001b[1;32m   3588\u001b[0m \u001b[0;34m\u001b[0m\u001b[0m\n\u001b[1;32m   3589\u001b[0m             \u001b[0;32mif\u001b[0m \u001b[0;32mnot\u001b[0m \u001b[0misnull\u001b[0m\u001b[0;34m(\u001b[0m\u001b[0mitem\u001b[0m\u001b[0;34m)\u001b[0m\u001b[0;34m:\u001b[0m\u001b[0;34m\u001b[0m\u001b[0m\n\u001b[0;32m-> 3590\u001b[0;31m                 \u001b[0mloc\u001b[0m \u001b[0;34m=\u001b[0m \u001b[0mself\u001b[0m\u001b[0;34m.\u001b[0m\u001b[0mitems\u001b[0m\u001b[0;34m.\u001b[0m\u001b[0mget_loc\u001b[0m\u001b[0;34m(\u001b[0m\u001b[0mitem\u001b[0m\u001b[0;34m)\u001b[0m\u001b[0;34m\u001b[0m\u001b[0m\n\u001b[0m\u001b[1;32m   3591\u001b[0m             \u001b[0;32melse\u001b[0m\u001b[0;34m:\u001b[0m\u001b[0;34m\u001b[0m\u001b[0m\n\u001b[1;32m   3592\u001b[0m                 \u001b[0mindexer\u001b[0m \u001b[0;34m=\u001b[0m \u001b[0mnp\u001b[0m\u001b[0;34m.\u001b[0m\u001b[0marange\u001b[0m\u001b[0;34m(\u001b[0m\u001b[0mlen\u001b[0m\u001b[0;34m(\u001b[0m\u001b[0mself\u001b[0m\u001b[0;34m.\u001b[0m\u001b[0mitems\u001b[0m\u001b[0;34m)\u001b[0m\u001b[0;34m)\u001b[0m\u001b[0;34m[\u001b[0m\u001b[0misnull\u001b[0m\u001b[0;34m(\u001b[0m\u001b[0mself\u001b[0m\u001b[0;34m.\u001b[0m\u001b[0mitems\u001b[0m\u001b[0;34m)\u001b[0m\u001b[0;34m]\u001b[0m\u001b[0;34m\u001b[0m\u001b[0m\n",
      "\u001b[0;32m/Users/tal/anaconda/lib/python3.5/site-packages/pandas/core/indexes/base.py\u001b[0m in \u001b[0;36mget_loc\u001b[0;34m(self, key, method, tolerance)\u001b[0m\n\u001b[1;32m   2393\u001b[0m                 \u001b[0;32mreturn\u001b[0m \u001b[0mself\u001b[0m\u001b[0;34m.\u001b[0m\u001b[0m_engine\u001b[0m\u001b[0;34m.\u001b[0m\u001b[0mget_loc\u001b[0m\u001b[0;34m(\u001b[0m\u001b[0mkey\u001b[0m\u001b[0;34m)\u001b[0m\u001b[0;34m\u001b[0m\u001b[0m\n\u001b[1;32m   2394\u001b[0m             \u001b[0;32mexcept\u001b[0m \u001b[0mKeyError\u001b[0m\u001b[0;34m:\u001b[0m\u001b[0;34m\u001b[0m\u001b[0m\n\u001b[0;32m-> 2395\u001b[0;31m                 \u001b[0;32mreturn\u001b[0m \u001b[0mself\u001b[0m\u001b[0;34m.\u001b[0m\u001b[0m_engine\u001b[0m\u001b[0;34m.\u001b[0m\u001b[0mget_loc\u001b[0m\u001b[0;34m(\u001b[0m\u001b[0mself\u001b[0m\u001b[0;34m.\u001b[0m\u001b[0m_maybe_cast_indexer\u001b[0m\u001b[0;34m(\u001b[0m\u001b[0mkey\u001b[0m\u001b[0;34m)\u001b[0m\u001b[0;34m)\u001b[0m\u001b[0;34m\u001b[0m\u001b[0m\n\u001b[0m\u001b[1;32m   2396\u001b[0m \u001b[0;34m\u001b[0m\u001b[0m\n\u001b[1;32m   2397\u001b[0m         \u001b[0mindexer\u001b[0m \u001b[0;34m=\u001b[0m \u001b[0mself\u001b[0m\u001b[0;34m.\u001b[0m\u001b[0mget_indexer\u001b[0m\u001b[0;34m(\u001b[0m\u001b[0;34m[\u001b[0m\u001b[0mkey\u001b[0m\u001b[0;34m]\u001b[0m\u001b[0;34m,\u001b[0m \u001b[0mmethod\u001b[0m\u001b[0;34m=\u001b[0m\u001b[0mmethod\u001b[0m\u001b[0;34m,\u001b[0m \u001b[0mtolerance\u001b[0m\u001b[0;34m=\u001b[0m\u001b[0mtolerance\u001b[0m\u001b[0;34m)\u001b[0m\u001b[0;34m\u001b[0m\u001b[0m\n",
      "\u001b[0;32mpandas/_libs/index.pyx\u001b[0m in \u001b[0;36mpandas._libs.index.IndexEngine.get_loc (pandas/_libs/index.c:5239)\u001b[0;34m()\u001b[0m\n",
      "\u001b[0;32mpandas/_libs/index.pyx\u001b[0m in \u001b[0;36mpandas._libs.index.IndexEngine.get_loc (pandas/_libs/index.c:5085)\u001b[0;34m()\u001b[0m\n",
      "\u001b[0;32mpandas/_libs/hashtable_class_helper.pxi\u001b[0m in \u001b[0;36mpandas._libs.hashtable.PyObjectHashTable.get_item (pandas/_libs/hashtable.c:20405)\u001b[0;34m()\u001b[0m\n",
      "\u001b[0;32mpandas/_libs/hashtable_class_helper.pxi\u001b[0m in \u001b[0;36mpandas._libs.hashtable.PyObjectHashTable.get_item (pandas/_libs/hashtable.c:20359)\u001b[0;34m()\u001b[0m\n",
      "\u001b[0;31mKeyError\u001b[0m: (0, 'Animal Type')"
     ]
    }
   ],
   "source": [
    "# This won't work!\n",
    "data[0, 'Animal Type']"
   ]
  },
  {
   "cell_type": "code",
   "execution_count": 32,
   "metadata": {
    "collapsed": false,
    "slideshow": {
     "slide_type": "fragment"
    }
   },
   "outputs": [
    {
     "name": "stderr",
     "output_type": "stream",
     "text": [
      "/Users/tal/anaconda/lib/python3.5/site-packages/ipykernel/__main__.py:4: DeprecationWarning: \n",
      ".ix is deprecated. Please use\n",
      ".loc for label based indexing or\n",
      ".iloc for positional indexing\n",
      "\n",
      "See the documentation here:\n",
      "http://pandas.pydata.org/pandas-docs/stable/indexing.html#deprecate_ix\n"
     ]
    },
    {
     "data": {
      "text/plain": [
       "'Cat'"
      ]
     },
     "execution_count": 32,
     "metadata": {},
     "output_type": "execute_result"
    }
   ],
   "source": [
    "# .ix supports mixed positional and label-based access.\n",
    "# But note that this is deprecated! Can anyone guess\n",
    "# why this type of indexing could cause trouble?\n",
    "data.ix[0, 'Animal Type']"
   ]
  },
  {
   "cell_type": "code",
   "execution_count": 42,
   "metadata": {
    "collapsed": false,
    "slideshow": {
     "slide_type": "fragment"
    }
   },
   "outputs": [
    {
     "data": {
      "text/plain": [
       "0          Cat\n",
       "1          Dog\n",
       "2        Other\n",
       "3          Cat\n",
       "4          Cat\n",
       "5          Dog\n",
       "6          Dog\n",
       "7          Dog\n",
       "8        Other\n",
       "9          Dog\n",
       "10         Dog\n",
       "11         Dog\n",
       "12         Dog\n",
       "13         Dog\n",
       "14         Dog\n",
       "15         Cat\n",
       "16         Dog\n",
       "17         Dog\n",
       "18       Other\n",
       "19         Dog\n",
       "20         Dog\n",
       "21         Dog\n",
       "22         Cat\n",
       "23       Other\n",
       "24         Dog\n",
       "25         Cat\n",
       "26         Cat\n",
       "27         Cat\n",
       "28         Cat\n",
       "29         Cat\n",
       "         ...  \n",
       "65574      Dog\n",
       "65575      Cat\n",
       "65576      Cat\n",
       "65577      Cat\n",
       "65578      Dog\n",
       "65579      Dog\n",
       "65580      Dog\n",
       "65581      Dog\n",
       "65582      Dog\n",
       "65583      Cat\n",
       "65584      Cat\n",
       "65585      Dog\n",
       "65586      Dog\n",
       "65587      Cat\n",
       "65588      Dog\n",
       "65589      Cat\n",
       "65590      Dog\n",
       "65591      Dog\n",
       "65592      Dog\n",
       "65593      Dog\n",
       "65594      Dog\n",
       "65595      Dog\n",
       "65596      Dog\n",
       "65597      Dog\n",
       "65598      Dog\n",
       "65599      Dog\n",
       "65600      Dog\n",
       "65601      Dog\n",
       "65602      Cat\n",
       "65603      Cat\n",
       "Name: Animal Type, Length: 65604, dtype: object"
      ]
     },
     "execution_count": 42,
     "metadata": {},
     "output_type": "execute_result"
    }
   ],
   "source": [
    "# Returns the entire column\n",
    "data['Animal Type']"
   ]
  },
  {
   "cell_type": "code",
   "execution_count": 43,
   "metadata": {
    "collapsed": false,
    "slideshow": {
     "slide_type": "fragment"
    }
   },
   "outputs": [
    {
     "data": {
      "text/html": [
       "<div>\n",
       "<style>\n",
       "    .dataframe thead tr:only-child th {\n",
       "        text-align: right;\n",
       "    }\n",
       "\n",
       "    .dataframe thead th {\n",
       "        text-align: left;\n",
       "    }\n",
       "\n",
       "    .dataframe tbody tr th {\n",
       "        vertical-align: top;\n",
       "    }\n",
       "</style>\n",
       "<table border=\"1\" class=\"dataframe\">\n",
       "  <thead>\n",
       "    <tr style=\"text-align: right;\">\n",
       "      <th></th>\n",
       "      <th>Animal ID</th>\n",
       "      <th>Name</th>\n",
       "      <th>DateTime</th>\n",
       "      <th>MonthYear</th>\n",
       "      <th>Date of Birth</th>\n",
       "      <th>Outcome Type</th>\n",
       "      <th>Outcome Subtype</th>\n",
       "      <th>Animal Type</th>\n",
       "      <th>Sex upon Outcome</th>\n",
       "      <th>Age upon Outcome</th>\n",
       "      <th>Breed</th>\n",
       "      <th>Color</th>\n",
       "    </tr>\n",
       "  </thead>\n",
       "  <tbody>\n",
       "    <tr>\n",
       "      <th>2</th>\n",
       "      <td>A721285</td>\n",
       "      <td>NaN</td>\n",
       "      <td>02/24/2016 02:42:00 PM</td>\n",
       "      <td>02/24/2016 02:42:00 PM</td>\n",
       "      <td>02/24/2014</td>\n",
       "      <td>Euthanasia</td>\n",
       "      <td>Suffering</td>\n",
       "      <td>Other</td>\n",
       "      <td>Unknown</td>\n",
       "      <td>2 years</td>\n",
       "      <td>Raccoon Mix</td>\n",
       "      <td>Black/Gray</td>\n",
       "    </tr>\n",
       "    <tr>\n",
       "      <th>3</th>\n",
       "      <td>A707443</td>\n",
       "      <td>NaN</td>\n",
       "      <td>07/13/2015 01:50:00 PM</td>\n",
       "      <td>07/13/2015 01:50:00 PM</td>\n",
       "      <td>06/21/2015</td>\n",
       "      <td>Transfer</td>\n",
       "      <td>Partner</td>\n",
       "      <td>Cat</td>\n",
       "      <td>Intact Female</td>\n",
       "      <td>3 weeks</td>\n",
       "      <td>Domestic Longhair Mix</td>\n",
       "      <td>Black Smoke</td>\n",
       "    </tr>\n",
       "    <tr>\n",
       "      <th>4</th>\n",
       "      <td>A684346</td>\n",
       "      <td>NaN</td>\n",
       "      <td>07/22/2014 04:04:00 PM</td>\n",
       "      <td>07/22/2014 04:04:00 PM</td>\n",
       "      <td>07/07/2014</td>\n",
       "      <td>Transfer</td>\n",
       "      <td>Partner</td>\n",
       "      <td>Cat</td>\n",
       "      <td>Intact Male</td>\n",
       "      <td>2 weeks</td>\n",
       "      <td>Domestic Shorthair Mix</td>\n",
       "      <td>Orange Tabby</td>\n",
       "    </tr>\n",
       "  </tbody>\n",
       "</table>\n",
       "</div>"
      ],
      "text/plain": [
       "  Animal ID Name                DateTime               MonthYear  \\\n",
       "2   A721285  NaN  02/24/2016 02:42:00 PM  02/24/2016 02:42:00 PM   \n",
       "3   A707443  NaN  07/13/2015 01:50:00 PM  07/13/2015 01:50:00 PM   \n",
       "4   A684346  NaN  07/22/2014 04:04:00 PM  07/22/2014 04:04:00 PM   \n",
       "\n",
       "  Date of Birth Outcome Type Outcome Subtype Animal Type Sex upon Outcome  \\\n",
       "2    02/24/2014   Euthanasia       Suffering       Other          Unknown   \n",
       "3    06/21/2015     Transfer         Partner         Cat    Intact Female   \n",
       "4    07/07/2014     Transfer         Partner         Cat      Intact Male   \n",
       "\n",
       "  Age upon Outcome                   Breed         Color  \n",
       "2          2 years             Raccoon Mix    Black/Gray  \n",
       "3          3 weeks   Domestic Longhair Mix   Black Smoke  \n",
       "4          2 weeks  Domestic Shorthair Mix  Orange Tabby  "
      ]
     },
     "execution_count": 43,
     "metadata": {},
     "output_type": "execute_result"
    }
   ],
   "source": [
    "# Position-based selection; returns all of rows 2 - 5\n",
    "data.iloc[2:5]"
   ]
  },
  {
   "cell_type": "code",
   "execution_count": 44,
   "metadata": {
    "collapsed": false,
    "slideshow": {
     "slide_type": "fragment"
    }
   },
   "outputs": [
    {
     "data": {
      "text/html": [
       "<div>\n",
       "<style>\n",
       "    .dataframe thead tr:only-child th {\n",
       "        text-align: right;\n",
       "    }\n",
       "\n",
       "    .dataframe thead th {\n",
       "        text-align: left;\n",
       "    }\n",
       "\n",
       "    .dataframe tbody tr th {\n",
       "        vertical-align: top;\n",
       "    }\n",
       "</style>\n",
       "<table border=\"1\" class=\"dataframe\">\n",
       "  <thead>\n",
       "    <tr style=\"text-align: right;\">\n",
       "      <th></th>\n",
       "      <th>DateTime</th>\n",
       "      <th>Animal Type</th>\n",
       "    </tr>\n",
       "  </thead>\n",
       "  <tbody>\n",
       "    <tr>\n",
       "      <th>2</th>\n",
       "      <td>02/24/2016 02:42:00 PM</td>\n",
       "      <td>Other</td>\n",
       "    </tr>\n",
       "    <tr>\n",
       "      <th>3</th>\n",
       "      <td>07/13/2015 01:50:00 PM</td>\n",
       "      <td>Cat</td>\n",
       "    </tr>\n",
       "    <tr>\n",
       "      <th>4</th>\n",
       "      <td>07/22/2014 04:04:00 PM</td>\n",
       "      <td>Cat</td>\n",
       "    </tr>\n",
       "  </tbody>\n",
       "</table>\n",
       "</div>"
      ],
      "text/plain": [
       "                 DateTime Animal Type\n",
       "2  02/24/2016 02:42:00 PM       Other\n",
       "3  07/13/2015 01:50:00 PM         Cat\n",
       "4  07/22/2014 04:04:00 PM         Cat"
      ]
     },
     "execution_count": 44,
     "metadata": {},
     "output_type": "execute_result"
    }
   ],
   "source": [
    "# Returns rows 2 - 5, columns 2 and 7\n",
    "data.iloc[2:5, [2, 7]]"
   ]
  },
  {
   "cell_type": "code",
   "execution_count": 45,
   "metadata": {
    "collapsed": false,
    "slideshow": {
     "slide_type": "fragment"
    }
   },
   "outputs": [
    {
     "data": {
      "text/plain": [
       "0          Cat\n",
       "1          Dog\n",
       "2        Other\n",
       "3          Cat\n",
       "4          Cat\n",
       "5          Dog\n",
       "6          Dog\n",
       "7          Dog\n",
       "8        Other\n",
       "9          Dog\n",
       "10         Dog\n",
       "11         Dog\n",
       "12         Dog\n",
       "13         Dog\n",
       "14         Dog\n",
       "15         Cat\n",
       "16         Dog\n",
       "17         Dog\n",
       "18       Other\n",
       "19         Dog\n",
       "20         Dog\n",
       "21         Dog\n",
       "22         Cat\n",
       "23       Other\n",
       "24         Dog\n",
       "25         Cat\n",
       "26         Cat\n",
       "27         Cat\n",
       "28         Cat\n",
       "29         Cat\n",
       "         ...  \n",
       "65574      Dog\n",
       "65575      Cat\n",
       "65576      Cat\n",
       "65577      Cat\n",
       "65578      Dog\n",
       "65579      Dog\n",
       "65580      Dog\n",
       "65581      Dog\n",
       "65582      Dog\n",
       "65583      Cat\n",
       "65584      Cat\n",
       "65585      Dog\n",
       "65586      Dog\n",
       "65587      Cat\n",
       "65588      Dog\n",
       "65589      Cat\n",
       "65590      Dog\n",
       "65591      Dog\n",
       "65592      Dog\n",
       "65593      Dog\n",
       "65594      Dog\n",
       "65595      Dog\n",
       "65596      Dog\n",
       "65597      Dog\n",
       "65598      Dog\n",
       "65599      Dog\n",
       "65600      Dog\n",
       "65601      Dog\n",
       "65602      Cat\n",
       "65603      Cat\n",
       "Name: Animal Type, Length: 65604, dtype: object"
      ]
     },
     "execution_count": 45,
     "metadata": {},
     "output_type": "execute_result"
    }
   ],
   "source": [
    "# Label-based indexing; equivalent to data['Animal Type']\n",
    "# in this case\n",
    "data.loc[:, 'Animal Type']"
   ]
  },
  {
   "cell_type": "markdown",
   "metadata": {
    "slideshow": {
     "slide_type": "subslide"
    }
   },
   "source": [
    "### A quick summary of the data\n",
    "We'll cover descriptive analyses in more detail tomorrow, but for now, a basic summary:"
   ]
  },
  {
   "cell_type": "code",
   "execution_count": 46,
   "metadata": {
    "collapsed": false,
    "slideshow": {
     "slide_type": "fragment"
    }
   },
   "outputs": [
    {
     "data": {
      "text/html": [
       "<div>\n",
       "<style>\n",
       "    .dataframe thead tr:only-child th {\n",
       "        text-align: right;\n",
       "    }\n",
       "\n",
       "    .dataframe thead th {\n",
       "        text-align: left;\n",
       "    }\n",
       "\n",
       "    .dataframe tbody tr th {\n",
       "        vertical-align: top;\n",
       "    }\n",
       "</style>\n",
       "<table border=\"1\" class=\"dataframe\">\n",
       "  <thead>\n",
       "    <tr style=\"text-align: right;\">\n",
       "      <th></th>\n",
       "      <th>Animal ID</th>\n",
       "      <th>Name</th>\n",
       "      <th>DateTime</th>\n",
       "      <th>MonthYear</th>\n",
       "      <th>Date of Birth</th>\n",
       "      <th>Outcome Type</th>\n",
       "      <th>Outcome Subtype</th>\n",
       "      <th>Animal Type</th>\n",
       "      <th>Sex upon Outcome</th>\n",
       "      <th>Age upon Outcome</th>\n",
       "      <th>Breed</th>\n",
       "      <th>Color</th>\n",
       "    </tr>\n",
       "  </thead>\n",
       "  <tbody>\n",
       "    <tr>\n",
       "      <th>count</th>\n",
       "      <td>65604</td>\n",
       "      <td>45643</td>\n",
       "      <td>65604</td>\n",
       "      <td>65604</td>\n",
       "      <td>65604</td>\n",
       "      <td>65597</td>\n",
       "      <td>30696</td>\n",
       "      <td>65604</td>\n",
       "      <td>65601</td>\n",
       "      <td>65596</td>\n",
       "      <td>65604</td>\n",
       "      <td>65604</td>\n",
       "    </tr>\n",
       "    <tr>\n",
       "      <th>unique</th>\n",
       "      <td>59752</td>\n",
       "      <td>12927</td>\n",
       "      <td>53965</td>\n",
       "      <td>53965</td>\n",
       "      <td>5558</td>\n",
       "      <td>9</td>\n",
       "      <td>19</td>\n",
       "      <td>5</td>\n",
       "      <td>5</td>\n",
       "      <td>46</td>\n",
       "      <td>2005</td>\n",
       "      <td>490</td>\n",
       "    </tr>\n",
       "    <tr>\n",
       "      <th>top</th>\n",
       "      <td>A706536</td>\n",
       "      <td>Bella</td>\n",
       "      <td>04/18/2016 12:00:00 AM</td>\n",
       "      <td>04/18/2016 12:00:00 AM</td>\n",
       "      <td>05/05/2014</td>\n",
       "      <td>Adoption</td>\n",
       "      <td>Partner</td>\n",
       "      <td>Dog</td>\n",
       "      <td>Neutered Male</td>\n",
       "      <td>1 year</td>\n",
       "      <td>Domestic Shorthair Mix</td>\n",
       "      <td>Black/White</td>\n",
       "    </tr>\n",
       "    <tr>\n",
       "      <th>freq</th>\n",
       "      <td>11</td>\n",
       "      <td>300</td>\n",
       "      <td>39</td>\n",
       "      <td>39</td>\n",
       "      <td>111</td>\n",
       "      <td>27067</td>\n",
       "      <td>16789</td>\n",
       "      <td>37350</td>\n",
       "      <td>23331</td>\n",
       "      <td>12212</td>\n",
       "      <td>19361</td>\n",
       "      <td>6812</td>\n",
       "    </tr>\n",
       "  </tbody>\n",
       "</table>\n",
       "</div>"
      ],
      "text/plain": [
       "       Animal ID   Name                DateTime               MonthYear  \\\n",
       "count      65604  45643                   65604                   65604   \n",
       "unique     59752  12927                   53965                   53965   \n",
       "top      A706536  Bella  04/18/2016 12:00:00 AM  04/18/2016 12:00:00 AM   \n",
       "freq          11    300                      39                      39   \n",
       "\n",
       "       Date of Birth Outcome Type Outcome Subtype Animal Type  \\\n",
       "count          65604        65597           30696       65604   \n",
       "unique          5558            9              19           5   \n",
       "top       05/05/2014     Adoption         Partner         Dog   \n",
       "freq             111        27067           16789       37350   \n",
       "\n",
       "       Sex upon Outcome Age upon Outcome                   Breed        Color  \n",
       "count             65601            65596                   65604        65604  \n",
       "unique                5               46                    2005          490  \n",
       "top       Neutered Male           1 year  Domestic Shorthair Mix  Black/White  \n",
       "freq              23331            12212                   19361         6812  "
      ]
     },
     "execution_count": 46,
     "metadata": {},
     "output_type": "execute_result"
    }
   ],
   "source": [
    "data.describe()"
   ]
  },
  {
   "cell_type": "markdown",
   "metadata": {
    "slideshow": {
     "slide_type": "slide"
    }
   },
   "source": [
    "# Preprocessing our data\n",
    "Much of what data scientists do involves cleaning and preprocessing data:\n",
    "* Handling missing or invalid values\n",
    "* Extracting usable information from messy strings\n",
    "* Transforming/normalizing variables and variable names\n",
    "* Filtering redundant or bad data\n",
    "* Merging with other datasets\n",
    "* Etc..."
   ]
  },
  {
   "cell_type": "markdown",
   "metadata": {
    "slideshow": {
     "slide_type": "subslide"
    }
   },
   "source": [
    "## Some examples\n",
    "* There's far too much to cover in 2 hours, so we'll cherry-pick useful examples\n",
    "* There are many excellent tutorials and guides (e.g., [1](http://www.gregreda.com/2013/10/26/intro-to-pandas-data-structures/), [2](http://synesthesiam.com/posts/an-introduction-to-pandas.html), [3](https://github.com/fonnesbeck/statistical-analysis-python-tutorial))"
   ]
  },
  {
   "cell_type": "markdown",
   "metadata": {
    "slideshow": {
     "slide_type": "subslide"
    }
   },
   "source": [
    "## Renaming/replacing\n",
    "The column names in our dataset are kind of clunky. Let's make it a bit easier to work with the dataset by standardizing and shortening them."
   ]
  },
  {
   "cell_type": "code",
   "execution_count": 48,
   "metadata": {
    "collapsed": false,
    "slideshow": {
     "slide_type": "fragment"
    }
   },
   "outputs": [
    {
     "data": {
      "text/plain": [
       "Index(['Animal ID', 'Name', 'DateTime', 'MonthYear', 'Date of Birth',\n",
       "       'Outcome Type', 'Outcome Subtype', 'Animal Type', 'Sex upon Outcome',\n",
       "       'Age upon Outcome', 'Breed', 'Color'],\n",
       "      dtype='object')"
      ]
     },
     "execution_count": 48,
     "metadata": {},
     "output_type": "execute_result"
    }
   ],
   "source": [
    "# This is no good\n",
    "data.columns"
   ]
  },
  {
   "cell_type": "code",
   "execution_count": 49,
   "metadata": {
    "collapsed": false,
    "slideshow": {
     "slide_type": "subslide"
    }
   },
   "outputs": [],
   "source": [
    "# Dictionary of old names --> new names.\n",
    "# Notice that we don't need to provide replacements\n",
    "# for _all_ the columns,  just the ones we want to\n",
    "# replace. An alternative approach would be to\n",
    "# directly set data.columns to a list of the\n",
    "# desired new column names.\n",
    "replacements = {\n",
    "    'Animal ID': 'id',\n",
    "    'DateTime': 'datetime',\n",
    "    'Outcome Type': 'outcome',\n",
    "    'Outcome Subtype': 'outcome_subtype',\n",
    "    'Animal Type': 'animal',\n",
    "    # We append these with '_string' because we're going\n",
    "    # to use the names 'sex' and 'age' later for\n",
    "    # extracted variables, so this avoids confusion.\n",
    "    'Sex upon Outcome': 'sex_string',\n",
    "    'Age upon Outcome': 'age_string',\n",
    "}\n",
    "\n",
    "# # We can apply the rename function to either row names\n",
    "# # or column names. Here we're doing columns.\n",
    "data = data.rename(columns=replacements)\n",
    "\n",
    "# # Let's also make sure all column names are in lowercase.\n",
    "# # We're using an idiom called a \"list comprehension\".\n",
    "data.columns = [c.lower() for c in data.columns]\n",
    "\n",
    "# The above list comprehension is functionally equivalent\n",
    "# to the following for-loop:\n",
    "# columns = []\n",
    "# for c in data.columns:\n",
    "#     columns.append(c.lower())\n",
    "# data.columns = columns"
   ]
  },
  {
   "cell_type": "markdown",
   "metadata": {
    "slideshow": {
     "slide_type": "subslide"
    }
   },
   "source": [
    "## Working with time series data\n",
    "* The datetime column in our dataset is currently represented as a string\n",
    "* We want to treat it as a datetime, so we can easily extract information\n",
    "* Let's convert its time to datetime and pull out some useful columns"
   ]
  },
  {
   "cell_type": "code",
   "execution_count": 50,
   "metadata": {
    "collapsed": false,
    "slideshow": {
     "slide_type": "fragment"
    }
   },
   "outputs": [
    {
     "name": "stdout",
     "output_type": "stream",
     "text": [
      "0    01/11/2017 06:17:00 PM\n",
      "1    11/13/2016 01:38:00 PM\n",
      "2    02/24/2016 02:42:00 PM\n",
      "Name: datetime, dtype: object\n"
     ]
    }
   ],
   "source": [
    "# These are actually strings/objects, not datetimes!\n",
    "print(data['datetime'][:3])"
   ]
  },
  {
   "cell_type": "code",
   "execution_count": 51,
   "metadata": {
    "collapsed": false,
    "slideshow": {
     "slide_type": "fragment"
    }
   },
   "outputs": [
    {
     "name": "stdout",
     "output_type": "stream",
     "text": [
      "0   2017-01-11 18:17:00\n",
      "1   2016-11-13 13:38:00\n",
      "2   2016-02-24 14:42:00\n",
      "Name: datetime, dtype: datetime64[ns]\n"
     ]
    }
   ],
   "source": [
    "# Convert the datetime column to actual datetimes\n",
    "data['datetime'] = pd.to_datetime(data['datetime'])\n",
    "\n",
    "# Now we're working with datetimes\n",
    "print(data['datetime'][:3])"
   ]
  },
  {
   "cell_type": "markdown",
   "metadata": {
    "slideshow": {
     "slide_type": "subslide"
    }
   },
   "source": [
    "Now we can easily extract some useful time-related variables for later use (e.g., year, day of week, etc.)."
   ]
  },
  {
   "cell_type": "code",
   "execution_count": 52,
   "metadata": {
    "collapsed": false,
    "slideshow": {
     "slide_type": "fragment"
    }
   },
   "outputs": [
    {
     "data": {
      "text/html": [
       "<div>\n",
       "<style>\n",
       "    .dataframe thead tr:only-child th {\n",
       "        text-align: right;\n",
       "    }\n",
       "\n",
       "    .dataframe thead th {\n",
       "        text-align: left;\n",
       "    }\n",
       "\n",
       "    .dataframe tbody tr th {\n",
       "        vertical-align: top;\n",
       "    }\n",
       "</style>\n",
       "<table border=\"1\" class=\"dataframe\">\n",
       "  <thead>\n",
       "    <tr style=\"text-align: right;\">\n",
       "      <th></th>\n",
       "      <th>id</th>\n",
       "      <th>name</th>\n",
       "      <th>datetime</th>\n",
       "      <th>monthyear</th>\n",
       "      <th>date of birth</th>\n",
       "      <th>outcome</th>\n",
       "      <th>outcome_subtype</th>\n",
       "      <th>animal</th>\n",
       "      <th>sex_string</th>\n",
       "      <th>age_string</th>\n",
       "      <th>breed</th>\n",
       "      <th>color</th>\n",
       "      <th>year</th>\n",
       "      <th>hour</th>\n",
       "      <th>day</th>\n",
       "    </tr>\n",
       "  </thead>\n",
       "  <tbody>\n",
       "    <tr>\n",
       "      <th>0</th>\n",
       "      <td>A741715</td>\n",
       "      <td>*Pebbles</td>\n",
       "      <td>2017-01-11 18:17:00</td>\n",
       "      <td>01/11/2017 06:17:00 PM</td>\n",
       "      <td>03/07/2016</td>\n",
       "      <td>Adoption</td>\n",
       "      <td>NaN</td>\n",
       "      <td>Cat</td>\n",
       "      <td>Spayed Female</td>\n",
       "      <td>10 months</td>\n",
       "      <td>Domestic Shorthair Mix</td>\n",
       "      <td>Calico</td>\n",
       "      <td>2017</td>\n",
       "      <td>18</td>\n",
       "      <td>2</td>\n",
       "    </tr>\n",
       "    <tr>\n",
       "      <th>1</th>\n",
       "      <td>A658751</td>\n",
       "      <td>Benji</td>\n",
       "      <td>2016-11-13 13:38:00</td>\n",
       "      <td>11/13/2016 01:38:00 PM</td>\n",
       "      <td>07/14/2011</td>\n",
       "      <td>Return to Owner</td>\n",
       "      <td>NaN</td>\n",
       "      <td>Dog</td>\n",
       "      <td>Neutered Male</td>\n",
       "      <td>5 years</td>\n",
       "      <td>Border Terrier Mix</td>\n",
       "      <td>Tan</td>\n",
       "      <td>2016</td>\n",
       "      <td>13</td>\n",
       "      <td>6</td>\n",
       "    </tr>\n",
       "    <tr>\n",
       "      <th>2</th>\n",
       "      <td>A721285</td>\n",
       "      <td>NaN</td>\n",
       "      <td>2016-02-24 14:42:00</td>\n",
       "      <td>02/24/2016 02:42:00 PM</td>\n",
       "      <td>02/24/2014</td>\n",
       "      <td>Euthanasia</td>\n",
       "      <td>Suffering</td>\n",
       "      <td>Other</td>\n",
       "      <td>Unknown</td>\n",
       "      <td>2 years</td>\n",
       "      <td>Raccoon Mix</td>\n",
       "      <td>Black/Gray</td>\n",
       "      <td>2016</td>\n",
       "      <td>14</td>\n",
       "      <td>2</td>\n",
       "    </tr>\n",
       "  </tbody>\n",
       "</table>\n",
       "</div>"
      ],
      "text/plain": [
       "        id      name            datetime               monthyear  \\\n",
       "0  A741715  *Pebbles 2017-01-11 18:17:00  01/11/2017 06:17:00 PM   \n",
       "1  A658751     Benji 2016-11-13 13:38:00  11/13/2016 01:38:00 PM   \n",
       "2  A721285       NaN 2016-02-24 14:42:00  02/24/2016 02:42:00 PM   \n",
       "\n",
       "  date of birth          outcome outcome_subtype animal     sex_string  \\\n",
       "0    03/07/2016         Adoption             NaN    Cat  Spayed Female   \n",
       "1    07/14/2011  Return to Owner             NaN    Dog  Neutered Male   \n",
       "2    02/24/2014       Euthanasia       Suffering  Other        Unknown   \n",
       "\n",
       "  age_string                   breed       color  year  hour  day  \n",
       "0  10 months  Domestic Shorthair Mix      Calico  2017    18    2  \n",
       "1    5 years      Border Terrier Mix         Tan  2016    13    6  \n",
       "2    2 years             Raccoon Mix  Black/Gray  2016    14    2  "
      ]
     },
     "execution_count": 52,
     "metadata": {},
     "output_type": "execute_result"
    }
   ],
   "source": [
    "# Datetime-related functions are accessed through the .dt attribute\n",
    "data['year'] = data['datetime'].dt.year\n",
    "data['hour'] = data['datetime'].dt.hour\n",
    "data['day'] = data['datetime'].dt.weekday\n",
    "\n",
    "data.head(3)"
   ]
  },
  {
   "cell_type": "markdown",
   "metadata": {
    "slideshow": {
     "slide_type": "subslide"
    }
   },
   "source": [
    "## Parsing text data\n",
    "* Many datasets contain nominal/categorical variables that need to be recoded as numeric variables\n",
    "* Three common strategies:\n",
    "    * Transform a nominal variable into a continuous one\n",
    "    * Break down a compound nominal label into constituent numeric variables\n",
    "    * \"Dummy-code\" a nominal variable as a set of binary variables"
   ]
  },
  {
   "cell_type": "markdown",
   "metadata": {
    "slideshow": {
     "slide_type": "subslide"
    }
   },
   "source": [
    "### Representing animal age with numeric values\n",
    "The age column in our DF has nasty values like \"3 years\" and \"7 months\""
   ]
  },
  {
   "cell_type": "code",
   "execution_count": 53,
   "metadata": {
    "collapsed": false,
    "slideshow": {
     "slide_type": "fragment"
    }
   },
   "outputs": [
    {
     "data": {
      "text/plain": [
       "array(['10 months', '5 years', '2 years', '3 weeks', '2 weeks', '1 year',\n",
       "       '9 years', '5 months', '4 months', '1 month', '6 years', '3 years',\n",
       "       '2 months', '10 years', '4 years', '6 months', '3 months',\n",
       "       '11 years', '4 weeks', '8 years', '7 months', '8 months', '7 years',\n",
       "       '1 weeks', '1 week', '9 months', '12 years', '11 months', '3 days',\n",
       "       '5 days', '14 years', '13 years', '2 days', '15 years', '16 years',\n",
       "       '4 days', '17 years', '6 days', '5 weeks', '18 years', '1 day',\n",
       "       '0 years', '19 years', '20 years', '22 years', '25 years', nan], dtype=object)"
      ]
     },
     "execution_count": 53,
     "metadata": {},
     "output_type": "execute_result"
    }
   ],
   "source": [
    "data['age_string'].unique()"
   ]
  },
  {
   "cell_type": "markdown",
   "metadata": {
    "slideshow": {
     "slide_type": "fragment"
    }
   },
   "source": [
    "How do we convert these strings to numeric values we can operate on?\n",
    "\n",
    "We can take advantage of pandas' apply() functionality, which applies arbitrary methods to each value in a Series (or each column or row in a DataFrame)."
   ]
  },
  {
   "cell_type": "code",
   "execution_count": 62,
   "metadata": {
    "collapsed": false,
    "slideshow": {
     "slide_type": "subslide"
    }
   },
   "outputs": [],
   "source": [
    "def extract_months(value):\n",
    "    ''' Extract and return age in months from string values \n",
    "    \"3 years\" or \"7 months\".\n",
    "    \n",
    "    Note: this code won't work as written, because some of\n",
    "    the values passed in are invalid.\n",
    "    \n",
    "    In-class exercise: we modify the code to return the\n",
    "    special value np.nan (numpy's representation of not-a-number)\n",
    "    whenever an invalid value is encountered.\n",
    "    '''\n",
    "    number, unit = value.split(' ')\n",
    "    number = int(number)\n",
    "\n",
    "    if unit.startswith('year'):\n",
    "        number *= 12\n",
    "\n",
    "    return number\n",
    "\n"
   ]
  },
  {
   "cell_type": "code",
   "execution_count": 63,
   "metadata": {
    "collapsed": false,
    "slideshow": {
     "slide_type": "subslide"
    }
   },
   "outputs": [],
   "source": [
    "data['age'] = data['age_string'].apply(extract_months)"
   ]
  },
  {
   "cell_type": "code",
   "execution_count": 64,
   "metadata": {
    "collapsed": false,
    "slideshow": {
     "slide_type": "subslide"
    }
   },
   "outputs": [
    {
     "data": {
      "text/html": [
       "<div>\n",
       "<style>\n",
       "    .dataframe thead tr:only-child th {\n",
       "        text-align: right;\n",
       "    }\n",
       "\n",
       "    .dataframe thead th {\n",
       "        text-align: left;\n",
       "    }\n",
       "\n",
       "    .dataframe tbody tr th {\n",
       "        vertical-align: top;\n",
       "    }\n",
       "</style>\n",
       "<table border=\"1\" class=\"dataframe\">\n",
       "  <thead>\n",
       "    <tr style=\"text-align: right;\">\n",
       "      <th></th>\n",
       "      <th>age_string</th>\n",
       "      <th>age</th>\n",
       "    </tr>\n",
       "  </thead>\n",
       "  <tbody>\n",
       "    <tr>\n",
       "      <th>0</th>\n",
       "      <td>10 months</td>\n",
       "      <td>10.00</td>\n",
       "    </tr>\n",
       "    <tr>\n",
       "      <th>1</th>\n",
       "      <td>5 years</td>\n",
       "      <td>60.00</td>\n",
       "    </tr>\n",
       "    <tr>\n",
       "      <th>2</th>\n",
       "      <td>2 years</td>\n",
       "      <td>24.00</td>\n",
       "    </tr>\n",
       "    <tr>\n",
       "      <th>3</th>\n",
       "      <td>3 weeks</td>\n",
       "      <td>0.75</td>\n",
       "    </tr>\n",
       "    <tr>\n",
       "      <th>4</th>\n",
       "      <td>2 weeks</td>\n",
       "      <td>0.50</td>\n",
       "    </tr>\n",
       "    <tr>\n",
       "      <th>5</th>\n",
       "      <td>1 year</td>\n",
       "      <td>12.00</td>\n",
       "    </tr>\n",
       "    <tr>\n",
       "      <th>6</th>\n",
       "      <td>1 year</td>\n",
       "      <td>12.00</td>\n",
       "    </tr>\n",
       "    <tr>\n",
       "      <th>7</th>\n",
       "      <td>9 years</td>\n",
       "      <td>108.00</td>\n",
       "    </tr>\n",
       "    <tr>\n",
       "      <th>8</th>\n",
       "      <td>5 months</td>\n",
       "      <td>5.00</td>\n",
       "    </tr>\n",
       "    <tr>\n",
       "      <th>9</th>\n",
       "      <td>4 months</td>\n",
       "      <td>4.00</td>\n",
       "    </tr>\n",
       "  </tbody>\n",
       "</table>\n",
       "</div>"
      ],
      "text/plain": [
       "  age_string     age\n",
       "0  10 months   10.00\n",
       "1    5 years   60.00\n",
       "2    2 years   24.00\n",
       "3    3 weeks    0.75\n",
       "4    2 weeks    0.50\n",
       "5     1 year   12.00\n",
       "6     1 year   12.00\n",
       "7    9 years  108.00\n",
       "8   5 months    5.00\n",
       "9   4 months    4.00"
      ]
     },
     "execution_count": 64,
     "metadata": {},
     "output_type": "execute_result"
    }
   ],
   "source": [
    "# Notice any problems in the output? (Hint: week)\n",
    "# As an exercise, you can fix this by tweaking the\n",
    "# extract_months() method we wrote above and rerunning\n",
    "# the previous code block. \n",
    "data[['age_string', 'age']][:10]"
   ]
  },
  {
   "cell_type": "markdown",
   "metadata": {
    "slideshow": {
     "slide_type": "subslide"
    }
   },
   "source": [
    "### Just for kicks...\n",
    "We're not ready to cover plotting just yet, but since we now have our first continuous variable, let's reward ourselves by plotting something nice to look at..."
   ]
  },
  {
   "cell_type": "code",
   "execution_count": 65,
   "metadata": {
    "collapsed": false,
    "slideshow": {
     "slide_type": "fragment"
    }
   },
   "outputs": [
    {
     "data": {
      "image/png": "[encoded data removed]",
      "text/plain": [
       "<matplotlib.figure.Figure at 0x11cb504a8>"
      ]
     },
     "metadata": {},
     "output_type": "display_data"
    }
   ],
   "source": [
    "sns.violinplot(x='animal', y='age', data=data, hue='outcome')\n",
    "plt.gcf().set_size_inches((20, 6))"
   ]
  },
  {
   "cell_type": "markdown",
   "metadata": {
    "slideshow": {
     "slide_type": "subslide"
    }
   },
   "source": [
    "### Extracting data from the sex column\n",
    "* The original column combines sex and sterilization status into one column"
   ]
  },
  {
   "cell_type": "code",
   "execution_count": 66,
   "metadata": {
    "collapsed": false,
    "slideshow": {
     "slide_type": "fragment"
    }
   },
   "outputs": [
    {
     "data": {
      "text/plain": [
       "Neutered Male    23331\n",
       "Spayed Female    21051\n",
       "Intact Male       7895\n",
       "Intact Female     7553\n",
       "Unknown           5771\n",
       "Name: sex_string, dtype: int64"
      ]
     },
     "execution_count": 66,
     "metadata": {},
     "output_type": "execute_result"
    }
   ],
   "source": [
    "data['sex_string'].value_counts()"
   ]
  },
  {
   "cell_type": "markdown",
   "metadata": {
    "slideshow": {
     "slide_type": "fragment"
    }
   },
   "source": [
    "Let's recode this as two binary variables: sex (male/female) and sterilized (True/False)"
   ]
  },
  {
   "cell_type": "code",
   "execution_count": 68,
   "metadata": {
    "collapsed": false,
    "slideshow": {
     "slide_type": "subslide"
    }
   },
   "outputs": [],
   "source": [
    "# NOTE: The code below will fail the first time you run it. Why?\n",
    "# Because there's a single NaN value that messes up the indexing.\n",
    "# These kinds of errors are pervasive in real-world datasets.\n",
    "# We need to recode the NaN--which we can do by setting it to\n",
    "# 'Unknown', just like the other 3,625 Unknown values. To do\n",
    "# that, uncomment the next line and re-run.\n",
    "\n",
    "# data['sex_string'] = data['sex_string'].fillna('Unknown')\n",
    "\n",
    "# Initialize a new column with NaN as the default value (for unknown sex)\n",
    "data['sex'] = np.nan\n",
    "\n",
    "# Update the column with values for M (0) and F (1)\n",
    "inds = data['sex_string'].str.contains('Male')\n",
    "data['sex'][inds] = 0\n",
    "data['sex'][data['sex_string'].str.contains('Female')] = 1\n",
    "\n",
    "# Now do the same kind of thing for sterilization\n",
    "data['sterilized'] = 1\n",
    "data['sterilized'][data['sex_string'].str.contains('Intact')] = 0\n",
    "data['sterilized'][data['sex_string'].str.contains('Unknown')] = np.nan"
   ]
  },
  {
   "cell_type": "code",
   "execution_count": 69,
   "metadata": {
    "collapsed": false,
    "slideshow": {
     "slide_type": "subslide"
    }
   },
   "outputs": [
    {
     "data": {
      "text/html": [
       "<div>\n",
       "<style>\n",
       "    .dataframe thead tr:only-child th {\n",
       "        text-align: right;\n",
       "    }\n",
       "\n",
       "    .dataframe thead th {\n",
       "        text-align: left;\n",
       "    }\n",
       "\n",
       "    .dataframe tbody tr th {\n",
       "        vertical-align: top;\n",
       "    }\n",
       "</style>\n",
       "<table border=\"1\" class=\"dataframe\">\n",
       "  <thead>\n",
       "    <tr style=\"text-align: right;\">\n",
       "      <th></th>\n",
       "      <th>sex_string</th>\n",
       "      <th>sex</th>\n",
       "      <th>sterilized</th>\n",
       "    </tr>\n",
       "  </thead>\n",
       "  <tbody>\n",
       "    <tr>\n",
       "      <th>0</th>\n",
       "      <td>Spayed Female</td>\n",
       "      <td>1.0</td>\n",
       "      <td>1.0</td>\n",
       "    </tr>\n",
       "    <tr>\n",
       "      <th>1</th>\n",
       "      <td>Neutered Male</td>\n",
       "      <td>0.0</td>\n",
       "      <td>1.0</td>\n",
       "    </tr>\n",
       "    <tr>\n",
       "      <th>2</th>\n",
       "      <td>Unknown</td>\n",
       "      <td>NaN</td>\n",
       "      <td>NaN</td>\n",
       "    </tr>\n",
       "    <tr>\n",
       "      <th>3</th>\n",
       "      <td>Intact Female</td>\n",
       "      <td>1.0</td>\n",
       "      <td>0.0</td>\n",
       "    </tr>\n",
       "    <tr>\n",
       "      <th>4</th>\n",
       "      <td>Intact Male</td>\n",
       "      <td>0.0</td>\n",
       "      <td>0.0</td>\n",
       "    </tr>\n",
       "    <tr>\n",
       "      <th>5</th>\n",
       "      <td>Spayed Female</td>\n",
       "      <td>1.0</td>\n",
       "      <td>1.0</td>\n",
       "    </tr>\n",
       "    <tr>\n",
       "      <th>6</th>\n",
       "      <td>Neutered Male</td>\n",
       "      <td>0.0</td>\n",
       "      <td>1.0</td>\n",
       "    </tr>\n",
       "    <tr>\n",
       "      <th>7</th>\n",
       "      <td>Neutered Male</td>\n",
       "      <td>0.0</td>\n",
       "      <td>1.0</td>\n",
       "    </tr>\n",
       "    <tr>\n",
       "      <th>8</th>\n",
       "      <td>Unknown</td>\n",
       "      <td>NaN</td>\n",
       "      <td>NaN</td>\n",
       "    </tr>\n",
       "    <tr>\n",
       "      <th>9</th>\n",
       "      <td>Neutered Male</td>\n",
       "      <td>0.0</td>\n",
       "      <td>1.0</td>\n",
       "    </tr>\n",
       "  </tbody>\n",
       "</table>\n",
       "</div>"
      ],
      "text/plain": [
       "      sex_string  sex  sterilized\n",
       "0  Spayed Female  1.0         1.0\n",
       "1  Neutered Male  0.0         1.0\n",
       "2        Unknown  NaN         NaN\n",
       "3  Intact Female  1.0         0.0\n",
       "4    Intact Male  0.0         0.0\n",
       "5  Spayed Female  1.0         1.0\n",
       "6  Neutered Male  0.0         1.0\n",
       "7  Neutered Male  0.0         1.0\n",
       "8        Unknown  NaN         NaN\n",
       "9  Neutered Male  0.0         1.0"
      ]
     },
     "execution_count": 69,
     "metadata": {},
     "output_type": "execute_result"
    }
   ],
   "source": [
    "data[['sex_string', 'sex', 'sterilized']][:10]"
   ]
  },
  {
   "cell_type": "markdown",
   "metadata": {
    "slideshow": {
     "slide_type": "fragment"
    }
   },
   "source": [
    "Note: an alternative (and simpler) way to do the above would have been to use pandas' .replace() method. As an exercise, rewrite the code above to achieve the same goal using .replace(). (Hint: create a dict of values to find and replace.)"
   ]
  },
  {
   "cell_type": "markdown",
   "metadata": {
    "slideshow": {
     "slide_type": "subslide"
    }
   },
   "source": [
    "### Dummy-coded variables\n",
    "* Categorical variables with N levels often need to be modeled as N binary indicators\n",
    "* E.g., day-of-week is coded 0 through 6, but should be modeled as 6 or 7 contrasts\n",
    "* pandas makes this easy with get_dummies()"
   ]
  },
  {
   "cell_type": "code",
   "execution_count": 72,
   "metadata": {
    "collapsed": false,
    "slideshow": {
     "slide_type": "fragment"
    }
   },
   "outputs": [
    {
     "data": {
      "text/html": [
       "<div>\n",
       "<style>\n",
       "    .dataframe thead tr:only-child th {\n",
       "        text-align: right;\n",
       "    }\n",
       "\n",
       "    .dataframe thead th {\n",
       "        text-align: left;\n",
       "    }\n",
       "\n",
       "    .dataframe tbody tr th {\n",
       "        vertical-align: top;\n",
       "    }\n",
       "</style>\n",
       "<table border=\"1\" class=\"dataframe\">\n",
       "  <thead>\n",
       "    <tr style=\"text-align: right;\">\n",
       "      <th></th>\n",
       "      <th>Adoption</th>\n",
       "      <th>Died</th>\n",
       "      <th>Disposal</th>\n",
       "      <th>Euthanasia</th>\n",
       "      <th>Missing</th>\n",
       "      <th>Relocate</th>\n",
       "      <th>Return to Owner</th>\n",
       "      <th>Rto-Adopt</th>\n",
       "      <th>Transfer</th>\n",
       "    </tr>\n",
       "  </thead>\n",
       "  <tbody>\n",
       "    <tr>\n",
       "      <th>0</th>\n",
       "      <td>1</td>\n",
       "      <td>0</td>\n",
       "      <td>0</td>\n",
       "      <td>0</td>\n",
       "      <td>0</td>\n",
       "      <td>0</td>\n",
       "      <td>0</td>\n",
       "      <td>0</td>\n",
       "      <td>0</td>\n",
       "    </tr>\n",
       "    <tr>\n",
       "      <th>1</th>\n",
       "      <td>0</td>\n",
       "      <td>0</td>\n",
       "      <td>0</td>\n",
       "      <td>0</td>\n",
       "      <td>0</td>\n",
       "      <td>0</td>\n",
       "      <td>1</td>\n",
       "      <td>0</td>\n",
       "      <td>0</td>\n",
       "    </tr>\n",
       "    <tr>\n",
       "      <th>2</th>\n",
       "      <td>0</td>\n",
       "      <td>0</td>\n",
       "      <td>0</td>\n",
       "      <td>1</td>\n",
       "      <td>0</td>\n",
       "      <td>0</td>\n",
       "      <td>0</td>\n",
       "      <td>0</td>\n",
       "      <td>0</td>\n",
       "    </tr>\n",
       "    <tr>\n",
       "      <th>3</th>\n",
       "      <td>0</td>\n",
       "      <td>0</td>\n",
       "      <td>0</td>\n",
       "      <td>0</td>\n",
       "      <td>0</td>\n",
       "      <td>0</td>\n",
       "      <td>0</td>\n",
       "      <td>0</td>\n",
       "      <td>1</td>\n",
       "    </tr>\n",
       "    <tr>\n",
       "      <th>4</th>\n",
       "      <td>0</td>\n",
       "      <td>0</td>\n",
       "      <td>0</td>\n",
       "      <td>0</td>\n",
       "      <td>0</td>\n",
       "      <td>0</td>\n",
       "      <td>0</td>\n",
       "      <td>0</td>\n",
       "      <td>1</td>\n",
       "    </tr>\n",
       "  </tbody>\n",
       "</table>\n",
       "</div>"
      ],
      "text/plain": [
       "   Adoption  Died  Disposal  Euthanasia  Missing  Relocate  Return to Owner  \\\n",
       "0         1     0         0           0        0         0                0   \n",
       "1         0     0         0           0        0         0                1   \n",
       "2         0     0         0           1        0         0                0   \n",
       "3         0     0         0           0        0         0                0   \n",
       "4         0     0         0           0        0         0                0   \n",
       "\n",
       "   Rto-Adopt  Transfer  \n",
       "0          0         0  \n",
       "1          0         0  \n",
       "2          0         0  \n",
       "3          0         1  \n",
       "4          0         1  "
      ]
     },
     "execution_count": 72,
     "metadata": {},
     "output_type": "execute_result"
    }
   ],
   "source": [
    "# We can also specify drop_first=True (on pandas >= 0.18) in order to\n",
    "# use N - 1 columns instead of N (e.g., to reduce collinearity).\n",
    "# It's also often useful to pass a prefix argument, which is prepended\n",
    "# to all the level names.\n",
    "pd.get_dummies(data['outcome'])[:5]"
   ]
  },
  {
   "cell_type": "markdown",
   "metadata": {
    "slideshow": {
     "slide_type": "subslide"
    }
   },
   "source": [
    "## Filtering data\n",
    "* It's very common to want to filter out certain rows/columns"
   ]
  },
  {
   "cell_type": "markdown",
   "metadata": {
    "slideshow": {
     "slide_type": "subslide"
    }
   },
   "source": [
    "### Dropping uncommon outcomes\n",
    "* Let's take a look at all of the different outcomes..."
   ]
  },
  {
   "cell_type": "code",
   "execution_count": 73,
   "metadata": {
    "collapsed": false,
    "slideshow": {
     "slide_type": "fragment"
    }
   },
   "outputs": [
    {
     "data": {
      "text/plain": [
       "Adoption           27067\n",
       "Transfer           20076\n",
       "Return to Owner    12146\n",
       "Euthanasia          5385\n",
       "Died                 560\n",
       "Disposal             262\n",
       "Rto-Adopt             44\n",
       "Missing               42\n",
       "Relocate              15\n",
       "Name: outcome, dtype: int64"
      ]
     },
     "execution_count": 73,
     "metadata": {},
     "output_type": "execute_result"
    }
   ],
   "source": [
    "# Show the frequencies of all of the different outcomes\n",
    "data['outcome'].value_counts()"
   ]
  },
  {
   "cell_type": "markdown",
   "metadata": {
    "slideshow": {
     "slide_type": "fragment"
    }
   },
   "source": [
    "* Some outcomes in the dataset are too rare to merit analyzing\n",
    "    * We already saw how extra levels clutter up our plots and understanding\n",
    "* Let's impose a minimum cut-off of 1000 occurrences for outcomes to be kept"
   ]
  },
  {
   "cell_type": "markdown",
   "metadata": {
    "slideshow": {
     "slide_type": "subslide"
    }
   },
   "source": [
    "#### A naive approach\n",
    "How would we solve this problem in pure Python, without pandas?"
   ]
  },
  {
   "cell_type": "code",
   "execution_count": 74,
   "metadata": {
    "collapsed": false,
    "slideshow": {
     "slide_type": "subslide"
    }
   },
   "outputs": [
    {
     "name": "stdout",
     "output_type": "stream",
     "text": [
      "After filtering, we have 64674 rows in the dataset.\n"
     ]
    }
   ],
   "source": [
    "# Approach 1: the most naive approach, without\n",
    "# taking advantage of anything pandas has to offer.\n",
    "# This is slower and involves much more code than\n",
    "# the pandas-based solutions, but it works just fine.\n",
    "# To illustrate the logic behind what we're doing,\n",
    "# we use only native Python here, and no fancy idioms.\n",
    "# The other approaches do similar things under the\n",
    "# hood, but take advantage of many optimizations and\n",
    "# functions written in C to greatly speed things up.\n",
    "\n",
    "# Get the raw outcome values as a list\n",
    "values = data['outcome'].tolist()\n",
    "\n",
    "# Initialize a dictionary to store running counts of\n",
    "# all the outcomes.\n",
    "counts = {}\n",
    "\n",
    "# Loop over values and increment the appropriate\n",
    "# outcome's counter.\n",
    "for v in values:\n",
    "    if v not in counts:\n",
    "        counts[v] = 0\n",
    "    counts[v] += 1\n",
    "\n",
    "# Select the outcomes we want to keep--only those\n",
    "# above 1000 occurrences.\n",
    "min_count = 1000\n",
    "\n",
    "# Initialize a list to store only the valid outcomes\n",
    "valid_outcomes = []\n",
    "\n",
    "# Loop over the outcome-count pairs in the dictionary\n",
    "# and keep only those above the threshold.\n",
    "for outcome, count in counts.items():\n",
    "    if count >= min_count:\n",
    "        valid_outcomes.append(outcome)\n",
    "\n",
    "# Identify the valid rows in the pandas DataFrame\n",
    "rows_to_keep = []\n",
    "for i, row in data.iterrows():\n",
    "    if row['outcome'] in valid_outcomes:\n",
    "        rows_to_keep.append(row)\n",
    "\n",
    "# Turn this list of Series back into a DataFrame\n",
    "filtered_data = pd.DataFrame(rows_to_keep)\n",
    "\n",
    "# Count the number of rows we have left and print them out\n",
    "n_rows = filtered_data.shape[0]\n",
    "print(\"After filtering, we have {} rows in the dataset.\".format(n_rows))"
   ]
  },
  {
   "cell_type": "markdown",
   "metadata": {
    "slideshow": {
     "slide_type": "subslide"
    }
   },
   "source": [
    "#### A better way\n",
    "* The pure Python approach works, but it's slow and very verbose\n",
    "* We can do much better with pandas"
   ]
  },
  {
   "cell_type": "code",
   "execution_count": 75,
   "metadata": {
    "collapsed": false,
    "slideshow": {
     "slide_type": "fragment"
    }
   },
   "outputs": [
    {
     "name": "stdout",
     "output_type": "stream",
     "text": [
      "After filtering, we have 65496 rows in the dataset.\n"
     ]
    }
   ],
   "source": [
    "# Approach 2: We do essentially the same thing, but now we\n",
    "# take advantage of various built-in pandas methods.\n",
    "# Notice how much shorter--and faster!--the solution is.\n",
    "\n",
    "# Count the number of occurrences of each outcome\n",
    "counts = data['outcome'].value_counts()\n",
    "\n",
    "# Keep only those above a threshold--say 200\n",
    "valid_outcomes = counts[counts >= 200].index\n",
    "\n",
    "# Now select only dataset rows with those outcomes\n",
    "valid_rows = data['outcome'].isin(valid_outcomes)\n",
    "filtered_data = data[valid_rows]\n",
    "\n",
    "print(\"After filtering, we have {} rows in the dataset.\".format(filtered_data.shape[0]))"
   ]
  },
  {
   "cell_type": "markdown",
   "metadata": {
    "slideshow": {
     "slide_type": "subslide"
    }
   },
   "source": [
    "#### An even better way\n",
    "* That was much better. But we can do this even _more_ efficiently...\n",
    "* We'll use the split-apply-combine pattern"
   ]
  },
  {
   "cell_type": "markdown",
   "metadata": {
    "collapsed": false,
    "slideshow": {
     "slide_type": "subslide"
    }
   },
   "source": [
    "#### The [split-apply-combine](https://www.jstatsoft.org/article/view/v040i01/v40i01.pdf) pattern\n",
    "* A very common data processing strategy\n",
    "    * Split the dataset into groups\n",
    "    * Apply some operation(s) to each group\n",
    "    * (Optionally) combine back into one dataset\n",
    "* pandas provides powerful and fast tools for this"
   ]
  },
  {
   "cell_type": "markdown",
   "metadata": {
    "slideshow": {
     "slide_type": "subslide"
    }
   },
   "source": [
    "#### Calculate the mean age of each animal species"
   ]
  },
  {
   "cell_type": "code",
   "execution_count": 76,
   "metadata": {
    "collapsed": false,
    "slideshow": {
     "slide_type": "fragment"
    }
   },
   "outputs": [
    {
     "data": {
      "text/plain": [
       "animal\n",
       "Bird           271\n",
       "Cat          24359\n",
       "Dog          37349\n",
       "Livestock        9\n",
       "Other         3608\n",
       "Name: age, dtype: int64"
      ]
     },
     "execution_count": 76,
     "metadata": {},
     "output_type": "execute_result"
    }
   ],
   "source": [
    "# A simple example calculate the mean age of each animal species\n",
    "\n",
    "# Split the dataset on animal. This creates a pandas GroupBy object.\n",
    "groups = data.groupby('animal')\n",
    "\n",
    "# pandas provides many built-in operations on groups--e.g., mean, count, etc.\n",
    "# see http://pandas.pydata.org/pandas-docs/stable/groupby.html#groupby-object-attributes\n",
    "groups['age'].count()\n",
    "\n",
    "# The above line can be more explicitly written as:\n",
    "# groups['age'].aggregate('mean')"
   ]
  },
  {
   "cell_type": "markdown",
   "metadata": {
    "slideshow": {
     "slide_type": "subslide"
    }
   },
   "source": [
    "#### Count the number of animals of each species that are older than 12 months"
   ]
  },
  {
   "cell_type": "code",
   "execution_count": 77,
   "metadata": {
    "collapsed": false,
    "slideshow": {
     "slide_type": "fragment"
    }
   },
   "outputs": [
    {
     "data": {
      "text/plain": [
       "animal\n",
       "Bird            55\n",
       "Cat           5598\n",
       "Dog          19510\n",
       "Livestock        2\n",
       "Other          908\n",
       "Name: age, dtype: int64"
      ]
     },
     "execution_count": 77,
     "metadata": {},
     "output_type": "execute_result"
    }
   ],
   "source": [
    "# We can apply arbitrary methods to each group.\n",
    "# Here we use a small \"lambda function\" (comparable to\n",
    "# an anonymous function in JavaScript, R, or Matlab)\n",
    "# to count the number of animals of each species\n",
    "# that are older than 12 months.\n",
    "groups = data.groupby('animal')\n",
    "groups['age'].apply(lambda x: (x > 12).sum())\n",
    "\n",
    "# A functionally equivalent, but more explicit way of\n",
    "# doing the above would be:\n",
    "\n",
    "# def count_animals_older_than_12_months(x):\n",
    "#     return (x > 12).sum()\n",
    "#\n",
    "# groups['age'].apply(count_animals_older_than_12_months)"
   ]
  },
  {
   "cell_type": "markdown",
   "metadata": {
    "slideshow": {
     "slide_type": "subslide"
    }
   },
   "source": [
    "#### Filtering uncommon outcomes: the one-line solution\n",
    "With the above pattern in mind, we can now turn back to our outcome-filtering problem and solve it in one line."
   ]
  },
  {
   "cell_type": "code",
   "execution_count": 79,
   "metadata": {
    "collapsed": false,
    "slideshow": {
     "slide_type": "fragment"
    }
   },
   "outputs": [
    {
     "name": "stdout",
     "output_type": "stream",
     "text": [
      "After filtering, we have 65496 rows in the dataset.\n"
     ]
    }
   ],
   "source": [
    "# Approach 3: Use groupby() and a short lambda function.\n",
    "\n",
    "filtered_data = data.groupby('outcome').filter(lambda x: len(x) >= 200)\n",
    "\n",
    "print(\"After filtering, we have {} rows in the dataset.\".format(filtered_data.shape[0]))"
   ]
  },
  {
   "cell_type": "markdown",
   "metadata": {
    "slideshow": {
     "slide_type": "subslide"
    }
   },
   "source": [
    "### Filtering animals for only the last outcome\n",
    "* Some animals have multiple outcomes in the dataset"
   ]
  },
  {
   "cell_type": "code",
   "execution_count": null,
   "metadata": {
    "collapsed": true
   },
   "outputs": [],
   "source": []
  },
  {
   "cell_type": "code",
   "execution_count": 81,
   "metadata": {
    "collapsed": false,
    "slideshow": {
     "slide_type": "fragment"
    }
   },
   "outputs": [
    {
     "data": {
      "text/plain": [
       "4720"
      ]
     },
     "execution_count": 81,
     "metadata": {},
     "output_type": "execute_result"
    }
   ],
   "source": [
    "# Count number of outcomes per animal\n",
    "outcome_counts = data.groupby('id')['outcome'].count()\n",
    "\n",
    "# How many animals with more than one outcome?\n",
    "outcome_counts[outcome_counts > 1].count()"
   ]
  },
  {
   "cell_type": "markdown",
   "metadata": {
    "slideshow": {
     "slide_type": "subslide"
    }
   },
   "source": [
    "* We probably want to analyze only the _last_ outcome for each animal\n",
    "* This also becomes easy with the groupby strategy"
   ]
  },
  {
   "cell_type": "code",
   "execution_count": 86,
   "metadata": {
    "collapsed": false,
    "slideshow": {
     "slide_type": "fragment"
    }
   },
   "outputs": [
    {
     "name": "stdout",
     "output_type": "stream",
     "text": [
      "Before filtering: 65,604 rows\n",
      "After filtering: 59,752 rows\n"
     ]
    }
   ],
   "source": [
    "# Recall that we have a datetime column we can sort on,\n",
    "# to put all outcomes in chronological order.\n",
    "data = data.sort_values('datetime')\n",
    "\n",
    "# Group on animal and then use the built-in last() function\n",
    "filtered_data = data.groupby('id').last()\n",
    "\n",
    "# Note the handy comma injection the Python format method provides\n",
    "print(\"Before filtering: {:,} rows\".format(len(data)))\n",
    "print(\"After filtering: {:,} rows\".format(len(filtered_data)))"
   ]
  },
  {
   "cell_type": "markdown",
   "metadata": {
    "slideshow": {
     "slide_type": "subslide"
    }
   },
   "source": [
    "## Merging datasets\n",
    "* It's very common to need to combine data from different sources\n",
    "* Remember the breed data we scraped?\n",
    "* Let's merge it into our main DataFrame\n",
    "    * Will allow us to test whether genetic group, weight, or height matter\n",
    "* This is a more complicated operation"
   ]
  },
  {
   "cell_type": "markdown",
   "metadata": {
    "slideshow": {
     "slide_type": "subslide"
    }
   },
   "source": [
    "### The problem\n",
    "* We want to merge or 'join' our outcome data with the breed data\n",
    "* The obvious column to join on here is the breed name\n",
    "* But the names don't line up! Compare:"
   ]
  },
  {
   "cell_type": "code",
   "execution_count": 91,
   "metadata": {
    "collapsed": false,
    "slideshow": {
     "slide_type": "fragment"
    }
   },
   "outputs": [
    {
     "name": "stdout",
     "output_type": "stream",
     "text": [
      "Index(['Domestic Shorthair Mix', 'Pit Bull Mix', 'Chihuahua Shorthair Mix',\n",
      "       'Labrador Retriever Mix', 'Domestic Medium Hair Mix',\n",
      "       'German Shepherd Mix', 'Bat Mix', 'Domestic Longhair Mix',\n",
      "       'Australian Cattle Dog Mix', 'Siamese Mix'],\n",
      "      dtype='object')\n"
     ]
    }
   ],
   "source": [
    "print(data['breed'].value_counts().index[:10])"
   ]
  },
  {
   "cell_type": "code",
   "execution_count": 92,
   "metadata": {
    "collapsed": false,
    "slideshow": {
     "slide_type": "fragment"
    }
   },
   "outputs": [
    {
     "name": "stdout",
     "output_type": "stream",
     "text": [
      "Index(['Pembroke Welsh Corgi', 'American Hairless Terrier', 'Norfolk Terrier',\n",
      "       'Welsh Springer Spaniel', 'Miniature Pinscher',\n",
      "       'Staffordshire Bull Terrier', 'English Setter', 'Bedlington Terrier',\n",
      "       'Petit Basset Griffon Vendeen', 'Afghan Hound'],\n",
      "      dtype='object')\n"
     ]
    }
   ],
   "source": [
    "print(breed_data['breed_name'].value_counts().index[:10])"
   ]
  },
  {
   "cell_type": "markdown",
   "metadata": {
    "slideshow": {
     "slide_type": "subslide"
    }
   },
   "source": [
    "Here's what we'll do:\n",
    "* Drop terms like \"mix\", \"shorthair\" and \"longhair\" that don't occur in the official names\n",
    "* For mixed breeds in our outcome data, we'll only use the first breed\n",
    "* For the most common breeds, we'll manually recode names so that they align\n",
    "* Note that all these steps are imperfect; our data will be noisy\n",
    "    * When munging data, we often need to decide how good is good enough"
   ]
  },
  {
   "cell_type": "code",
   "execution_count": 89,
   "metadata": {
    "collapsed": false,
    "slideshow": {
     "slide_type": "subslide"
    }
   },
   "outputs": [],
   "source": [
    "# Restrict analysis only to dogs, since that's all we have breed info for.\n",
    "# Notice our use of the query function, which enables us to perform SQL-like\n",
    "# queries over DataFrames.\n",
    "dogs = data.query('animal == \"Dog\"')\n",
    "\n",
    "# Let's prepare a 'merge_key' column in our outcome data that should line up\n",
    "# as well as possible with the breed_name column in the breed_data DataFrame.\n",
    "# We'll start by dropping all occurrences of 'Mix', 'Shorthair', etc.\n",
    "dogs['merge_key'] = dogs['breed'].replace([' Mix', ' Shorthair', ' Longhair'], '', regex=True)\n",
    "\n",
    "# Next, we'll keep only the first breed in cases where there are multiple given.\n",
    "# For example, \"Beagle/Labrador Retriever\" would become just \"Beagle\".\n",
    "dogs['merge_key'] = dogs['merge_key'].str.split('/').str.get(0)\n",
    "\n",
    "# Manually map the most common breeds that don't align. I've cheated here\n",
    "# and done a bit of extra work ahead of time to figure out what these are.\n",
    "replacements = {\n",
    "    \"Pit Bull\": \"American Staffordshire Terrier\",\n",
    "    \"Staffordshire\": \"Staffordshire Bull Terrier\",\n",
    "    \"German Shepherd\": \"German Shepherd Dog\",\n",
    "    \"Anatol Shepherd\": \"Anatolian Shepherd Dog\",\n",
    "    \"Australian Shepherd\": \"Australian Shepherd Dog\",\n",
    "    \"Catahoula\": \"Catahoula Leopard Dog\",\n",
    "    \"American Pit Bull Terrier\": \"American Staffordshire Terrier\", \n",
    "    \"Doberman Pinsch\": \"Doberman Pinscher\",  \n",
    "}\n",
    "\n",
    "# Apply the replacements\n",
    "dogs['merge_key'] = dogs['merge_key'].replace(replacements)\n",
    "\n",
    "# Finally, we're in a position to merge our data.\n",
    "# We have to tell pandas which columns to use in each of the two datasets.\n",
    "# We can also specify how we want the join to work ('left', 'outer',\n",
    "# 'inner', etc.). The default is left, meaning that the output DataFrame\n",
    "# will have the same number of rows as the first input DataFrame (dogs).\n",
    "dogs = dogs.merge(breed_data, left_on='merge_key', right_on='breed_name', how='left')"
   ]
  },
  {
   "cell_type": "code",
   "execution_count": 90,
   "metadata": {
    "collapsed": false,
    "slideshow": {
     "slide_type": "subslide"
    }
   },
   "outputs": [
    {
     "data": {
      "text/html": [
       "<div>\n",
       "<style>\n",
       "    .dataframe thead tr:only-child th {\n",
       "        text-align: right;\n",
       "    }\n",
       "\n",
       "    .dataframe thead th {\n",
       "        text-align: left;\n",
       "    }\n",
       "\n",
       "    .dataframe tbody tr th {\n",
       "        vertical-align: top;\n",
       "    }\n",
       "</style>\n",
       "<table border=\"1\" class=\"dataframe\">\n",
       "  <thead>\n",
       "    <tr style=\"text-align: right;\">\n",
       "      <th></th>\n",
       "      <th>id</th>\n",
       "      <th>name</th>\n",
       "      <th>datetime</th>\n",
       "      <th>monthyear</th>\n",
       "      <th>date of birth</th>\n",
       "      <th>outcome</th>\n",
       "      <th>outcome_subtype</th>\n",
       "      <th>animal</th>\n",
       "      <th>sex_string</th>\n",
       "      <th>age_string</th>\n",
       "      <th>...</th>\n",
       "      <th>day</th>\n",
       "      <th>age</th>\n",
       "      <th>sex</th>\n",
       "      <th>sterilized</th>\n",
       "      <th>merge_key</th>\n",
       "      <th>breed_name</th>\n",
       "      <th>min_weight</th>\n",
       "      <th>max_weight</th>\n",
       "      <th>height</th>\n",
       "      <th>group</th>\n",
       "    </tr>\n",
       "  </thead>\n",
       "  <tbody>\n",
       "    <tr>\n",
       "      <th>0</th>\n",
       "      <td>A659834</td>\n",
       "      <td>*Dudley</td>\n",
       "      <td>2013-10-01 09:31:00</td>\n",
       "      <td>10/01/2013 09:31:00 AM</td>\n",
       "      <td>07/23/2013</td>\n",
       "      <td>Adoption</td>\n",
       "      <td>Foster</td>\n",
       "      <td>Dog</td>\n",
       "      <td>Neutered Male</td>\n",
       "      <td>2 months</td>\n",
       "      <td>...</td>\n",
       "      <td>1</td>\n",
       "      <td>2.0</td>\n",
       "      <td>0.0</td>\n",
       "      <td>1.0</td>\n",
       "      <td>Labrador Retriever</td>\n",
       "      <td>Labrador Retriever</td>\n",
       "      <td>49.0</td>\n",
       "      <td>77.0</td>\n",
       "      <td>21.0</td>\n",
       "      <td>Sporting</td>\n",
       "    </tr>\n",
       "    <tr>\n",
       "      <th>1</th>\n",
       "      <td>A664223</td>\n",
       "      <td>Moby</td>\n",
       "      <td>2013-10-01 11:03:00</td>\n",
       "      <td>10/01/2013 11:03:00 AM</td>\n",
       "      <td>09/30/2009</td>\n",
       "      <td>Return to Owner</td>\n",
       "      <td>NaN</td>\n",
       "      <td>Dog</td>\n",
       "      <td>Neutered Male</td>\n",
       "      <td>4 years</td>\n",
       "      <td>...</td>\n",
       "      <td>1</td>\n",
       "      <td>48.0</td>\n",
       "      <td>0.0</td>\n",
       "      <td>1.0</td>\n",
       "      <td>Bulldog</td>\n",
       "      <td>Bulldog</td>\n",
       "      <td>32.0</td>\n",
       "      <td>68.0</td>\n",
       "      <td>25.0</td>\n",
       "      <td>Guard</td>\n",
       "    </tr>\n",
       "    <tr>\n",
       "      <th>2</th>\n",
       "      <td>A663646</td>\n",
       "      <td>NaN</td>\n",
       "      <td>2013-10-01 11:12:00</td>\n",
       "      <td>10/01/2013 11:12:00 AM</td>\n",
       "      <td>09/22/2010</td>\n",
       "      <td>Transfer</td>\n",
       "      <td>Partner</td>\n",
       "      <td>Dog</td>\n",
       "      <td>Neutered Male</td>\n",
       "      <td>3 years</td>\n",
       "      <td>...</td>\n",
       "      <td>1</td>\n",
       "      <td>36.0</td>\n",
       "      <td>0.0</td>\n",
       "      <td>1.0</td>\n",
       "      <td>Toy Poodle</td>\n",
       "      <td>NaN</td>\n",
       "      <td>NaN</td>\n",
       "      <td>NaN</td>\n",
       "      <td>NaN</td>\n",
       "      <td>NaN</td>\n",
       "    </tr>\n",
       "    <tr>\n",
       "      <th>3</th>\n",
       "      <td>A663888</td>\n",
       "      <td>NaN</td>\n",
       "      <td>2013-10-01 11:13:00</td>\n",
       "      <td>10/01/2013 11:13:00 AM</td>\n",
       "      <td>09/25/2011</td>\n",
       "      <td>Transfer</td>\n",
       "      <td>Partner</td>\n",
       "      <td>Dog</td>\n",
       "      <td>Spayed Female</td>\n",
       "      <td>2 years</td>\n",
       "      <td>...</td>\n",
       "      <td>1</td>\n",
       "      <td>24.0</td>\n",
       "      <td>1.0</td>\n",
       "      <td>1.0</td>\n",
       "      <td>Boxer</td>\n",
       "      <td>Boxer</td>\n",
       "      <td>49.0</td>\n",
       "      <td>77.0</td>\n",
       "      <td>21.0</td>\n",
       "      <td>Guard</td>\n",
       "    </tr>\n",
       "    <tr>\n",
       "      <th>4</th>\n",
       "      <td>A663572</td>\n",
       "      <td>*Starla</td>\n",
       "      <td>2013-10-01 11:42:00</td>\n",
       "      <td>10/01/2013 11:42:00 AM</td>\n",
       "      <td>09/21/2010</td>\n",
       "      <td>Adoption</td>\n",
       "      <td>NaN</td>\n",
       "      <td>Dog</td>\n",
       "      <td>Spayed Female</td>\n",
       "      <td>3 years</td>\n",
       "      <td>...</td>\n",
       "      <td>1</td>\n",
       "      <td>36.0</td>\n",
       "      <td>1.0</td>\n",
       "      <td>1.0</td>\n",
       "      <td>Anatolian Shepherd Dog</td>\n",
       "      <td>Anatolian Shepherd Dog</td>\n",
       "      <td>81.0</td>\n",
       "      <td>147.0</td>\n",
       "      <td>27.0</td>\n",
       "      <td>Middle East and African</td>\n",
       "    </tr>\n",
       "    <tr>\n",
       "      <th>5</th>\n",
       "      <td>A663833</td>\n",
       "      <td>Baby Girl</td>\n",
       "      <td>2013-10-01 11:50:00</td>\n",
       "      <td>10/01/2013 11:50:00 AM</td>\n",
       "      <td>09/24/2004</td>\n",
       "      <td>Return to Owner</td>\n",
       "      <td>NaN</td>\n",
       "      <td>Dog</td>\n",
       "      <td>Spayed Female</td>\n",
       "      <td>9 years</td>\n",
       "      <td>...</td>\n",
       "      <td>1</td>\n",
       "      <td>108.0</td>\n",
       "      <td>1.0</td>\n",
       "      <td>1.0</td>\n",
       "      <td>Labrador Retriever</td>\n",
       "      <td>Labrador Retriever</td>\n",
       "      <td>49.0</td>\n",
       "      <td>77.0</td>\n",
       "      <td>21.0</td>\n",
       "      <td>Sporting</td>\n",
       "    </tr>\n",
       "    <tr>\n",
       "      <th>6</th>\n",
       "      <td>A663342</td>\n",
       "      <td>Deco</td>\n",
       "      <td>2013-10-01 12:05:00</td>\n",
       "      <td>10/01/2013 12:05:00 PM</td>\n",
       "      <td>09/17/2012</td>\n",
       "      <td>Euthanasia</td>\n",
       "      <td>Behavior</td>\n",
       "      <td>Dog</td>\n",
       "      <td>Neutered Male</td>\n",
       "      <td>1 year</td>\n",
       "      <td>...</td>\n",
       "      <td>1</td>\n",
       "      <td>12.0</td>\n",
       "      <td>0.0</td>\n",
       "      <td>1.0</td>\n",
       "      <td>Chesa Bay Retr</td>\n",
       "      <td>NaN</td>\n",
       "      <td>NaN</td>\n",
       "      <td>NaN</td>\n",
       "      <td>NaN</td>\n",
       "      <td>NaN</td>\n",
       "    </tr>\n",
       "    <tr>\n",
       "      <th>7</th>\n",
       "      <td>A664225</td>\n",
       "      <td>Lou</td>\n",
       "      <td>2013-10-01 12:13:00</td>\n",
       "      <td>10/01/2013 12:13:00 PM</td>\n",
       "      <td>09/30/2010</td>\n",
       "      <td>Return to Owner</td>\n",
       "      <td>NaN</td>\n",
       "      <td>Dog</td>\n",
       "      <td>Neutered Male</td>\n",
       "      <td>3 years</td>\n",
       "      <td>...</td>\n",
       "      <td>1</td>\n",
       "      <td>36.0</td>\n",
       "      <td>0.0</td>\n",
       "      <td>1.0</td>\n",
       "      <td>Shih Tzu</td>\n",
       "      <td>Shih Tzu</td>\n",
       "      <td>10.0</td>\n",
       "      <td>21.0</td>\n",
       "      <td>10.0</td>\n",
       "      <td>Companion</td>\n",
       "    </tr>\n",
       "    <tr>\n",
       "      <th>8</th>\n",
       "      <td>A663546</td>\n",
       "      <td>*Gage</td>\n",
       "      <td>2013-10-01 12:24:00</td>\n",
       "      <td>10/01/2013 12:24:00 PM</td>\n",
       "      <td>09/20/2011</td>\n",
       "      <td>Euthanasia</td>\n",
       "      <td>Aggressive</td>\n",
       "      <td>Dog</td>\n",
       "      <td>Neutered Male</td>\n",
       "      <td>2 years</td>\n",
       "      <td>...</td>\n",
       "      <td>1</td>\n",
       "      <td>24.0</td>\n",
       "      <td>0.0</td>\n",
       "      <td>1.0</td>\n",
       "      <td>American Bulldog</td>\n",
       "      <td>American Bulldog</td>\n",
       "      <td>62.0</td>\n",
       "      <td>118.0</td>\n",
       "      <td>20.0</td>\n",
       "      <td>Guard</td>\n",
       "    </tr>\n",
       "    <tr>\n",
       "      <th>9</th>\n",
       "      <td>A648744</td>\n",
       "      <td>Claire</td>\n",
       "      <td>2013-10-01 12:27:00</td>\n",
       "      <td>10/01/2013 12:27:00 PM</td>\n",
       "      <td>03/04/2012</td>\n",
       "      <td>Return to Owner</td>\n",
       "      <td>NaN</td>\n",
       "      <td>Dog</td>\n",
       "      <td>Spayed Female</td>\n",
       "      <td>1 year</td>\n",
       "      <td>...</td>\n",
       "      <td>1</td>\n",
       "      <td>12.0</td>\n",
       "      <td>1.0</td>\n",
       "      <td>1.0</td>\n",
       "      <td>Anatolian Shepherd Dog</td>\n",
       "      <td>Anatolian Shepherd Dog</td>\n",
       "      <td>81.0</td>\n",
       "      <td>147.0</td>\n",
       "      <td>27.0</td>\n",
       "      <td>Middle East and African</td>\n",
       "    </tr>\n",
       "  </tbody>\n",
       "</table>\n",
       "<p>10 rows × 24 columns</p>\n",
       "</div>"
      ],
      "text/plain": [
       "        id       name            datetime               monthyear  \\\n",
       "0  A659834    *Dudley 2013-10-01 09:31:00  10/01/2013 09:31:00 AM   \n",
       "1  A664223       Moby 2013-10-01 11:03:00  10/01/2013 11:03:00 AM   \n",
       "2  A663646        NaN 2013-10-01 11:12:00  10/01/2013 11:12:00 AM   \n",
       "3  A663888        NaN 2013-10-01 11:13:00  10/01/2013 11:13:00 AM   \n",
       "4  A663572    *Starla 2013-10-01 11:42:00  10/01/2013 11:42:00 AM   \n",
       "5  A663833  Baby Girl 2013-10-01 11:50:00  10/01/2013 11:50:00 AM   \n",
       "6  A663342       Deco 2013-10-01 12:05:00  10/01/2013 12:05:00 PM   \n",
       "7  A664225        Lou 2013-10-01 12:13:00  10/01/2013 12:13:00 PM   \n",
       "8  A663546      *Gage 2013-10-01 12:24:00  10/01/2013 12:24:00 PM   \n",
       "9  A648744     Claire 2013-10-01 12:27:00  10/01/2013 12:27:00 PM   \n",
       "\n",
       "  date of birth          outcome outcome_subtype animal     sex_string  \\\n",
       "0    07/23/2013         Adoption          Foster    Dog  Neutered Male   \n",
       "1    09/30/2009  Return to Owner             NaN    Dog  Neutered Male   \n",
       "2    09/22/2010         Transfer         Partner    Dog  Neutered Male   \n",
       "3    09/25/2011         Transfer         Partner    Dog  Spayed Female   \n",
       "4    09/21/2010         Adoption             NaN    Dog  Spayed Female   \n",
       "5    09/24/2004  Return to Owner             NaN    Dog  Spayed Female   \n",
       "6    09/17/2012       Euthanasia        Behavior    Dog  Neutered Male   \n",
       "7    09/30/2010  Return to Owner             NaN    Dog  Neutered Male   \n",
       "8    09/20/2011       Euthanasia      Aggressive    Dog  Neutered Male   \n",
       "9    03/04/2012  Return to Owner             NaN    Dog  Spayed Female   \n",
       "\n",
       "  age_string           ...            day    age  sex  sterilized  \\\n",
       "0   2 months           ...              1    2.0  0.0         1.0   \n",
       "1    4 years           ...              1   48.0  0.0         1.0   \n",
       "2    3 years           ...              1   36.0  0.0         1.0   \n",
       "3    2 years           ...              1   24.0  1.0         1.0   \n",
       "4    3 years           ...              1   36.0  1.0         1.0   \n",
       "5    9 years           ...              1  108.0  1.0         1.0   \n",
       "6     1 year           ...              1   12.0  0.0         1.0   \n",
       "7    3 years           ...              1   36.0  0.0         1.0   \n",
       "8    2 years           ...              1   24.0  0.0         1.0   \n",
       "9     1 year           ...              1   12.0  1.0         1.0   \n",
       "\n",
       "                merge_key              breed_name  min_weight  max_weight  \\\n",
       "0      Labrador Retriever      Labrador Retriever        49.0        77.0   \n",
       "1                 Bulldog                 Bulldog        32.0        68.0   \n",
       "2              Toy Poodle                     NaN         NaN         NaN   \n",
       "3                   Boxer                   Boxer        49.0        77.0   \n",
       "4  Anatolian Shepherd Dog  Anatolian Shepherd Dog        81.0       147.0   \n",
       "5      Labrador Retriever      Labrador Retriever        49.0        77.0   \n",
       "6          Chesa Bay Retr                     NaN         NaN         NaN   \n",
       "7                Shih Tzu                Shih Tzu        10.0        21.0   \n",
       "8        American Bulldog        American Bulldog        62.0       118.0   \n",
       "9  Anatolian Shepherd Dog  Anatolian Shepherd Dog        81.0       147.0   \n",
       "\n",
       "  height                    group  \n",
       "0   21.0                 Sporting  \n",
       "1   25.0                    Guard  \n",
       "2    NaN                      NaN  \n",
       "3   21.0                    Guard  \n",
       "4   27.0  Middle East and African  \n",
       "5   21.0                 Sporting  \n",
       "6    NaN                      NaN  \n",
       "7   10.0                Companion  \n",
       "8   20.0                    Guard  \n",
       "9   27.0  Middle East and African  \n",
       "\n",
       "[10 rows x 24 columns]"
      ]
     },
     "execution_count": 90,
     "metadata": {},
     "output_type": "execute_result"
    }
   ],
   "source": [
    "dogs.head(10)"
   ]
  },
  {
   "cell_type": "markdown",
   "metadata": {
    "slideshow": {
     "slide_type": "slide"
    }
   },
   "source": [
    "# What else?"
   ]
  },
  {
   "cell_type": "code",
   "execution_count": null,
   "metadata": {
    "collapsed": true,
    "slideshow": {
     "slide_type": "subslide"
    }
   },
   "outputs": [],
   "source": []
  },
  {
   "cell_type": "markdown",
   "metadata": {
    "slideshow": {
     "slide_type": "slide"
    }
   },
   "source": [
    "# Your (optional) assignment for tomorrow\n",
    "* We extracted a numeric representation of several categorical variables\n",
    "    * We could extract many more\n",
    "* Some more variables we'll probably look at when we turn to fitting models:\n",
    "    * Animal color\n",
    "    * Whether the animal is a purebreed or mix\n",
    "    * Whether the outcome resulted in an animal's death (e.g., Died + Euthanasia)\n",
    "* Extract anything else you think might be useful"
   ]
  }
 ],
 "metadata": {
  "celltoolbar": "Slideshow",
  "kernelspec": {
   "display_name": "Python 3",
   "language": "python",
   "name": "python3"
  },
  "language_info": {
   "codemirror_mode": {
    "name": "ipython",
    "version": 3
   },
   "file_extension": ".py",
   "mimetype": "text/x-python",
   "name": "python",
   "nbconvert_exporter": "python",
   "pygments_lexer": "ipython3",
   "version": "3.5.2"
  }
 },
 "nbformat": 4,
 "nbformat_minor": 0
}
